{
 "cells": [
  {
   "cell_type": "code",
   "execution_count": 37,
   "metadata": {},
   "outputs": [],
   "source": [
    "import pandas as pd \n",
    "import numpy as np \n",
    "# import matplotlib.pyplot as plt\n",
    "# import matplotlib.style as style\n",
    "# style.use('default')\n",
    "import seaborn as sns\n",
    "import os\n",
    "# import geopandas as gpd\n",
    "# import geoplot\n",
    "# import mapclassify\n",
    "# from tensorflow.keras.utils import get_file\n",
    "import plotly\n",
    "import plotly.express as px\n",
    "from plotly.offline import download_plotlyjs, init_notebook_mode, plot, iplot"
   ]
  },
  {
   "cell_type": "code",
   "execution_count": 16,
   "metadata": {},
   "outputs": [],
   "source": [
    "pd.set_option('display.max_columns', 30)"
   ]
  },
  {
   "cell_type": "code",
   "execution_count": 24,
   "metadata": {},
   "outputs": [
    {
     "output_type": "display_data",
     "data": {
      "text/html": "        <script type=\"text/javascript\">\n        window.PlotlyConfig = {MathJaxConfig: 'local'};\n        if (window.MathJax) {MathJax.Hub.Config({SVG: {font: \"STIX-Web\"}});}\n        if (typeof require !== 'undefined') {\n        require.undef(\"plotly\");\n        requirejs.config({\n            paths: {\n                'plotly': ['https://cdn.plot.ly/plotly-latest.min']\n            }\n        });\n        require(['plotly'], function(Plotly) {\n            window._Plotly = Plotly;\n        });\n        }\n        </script>\n        "
     },
     "metadata": {}
    }
   ],
   "source": [
    "init_notebook_mode(connected= True)"
   ]
  },
  {
   "cell_type": "code",
   "execution_count": 21,
   "metadata": {
    "tags": []
   },
   "outputs": [],
   "source": [
    "df = pd.read_excel('..\\data\\HIST_PAINEL_COVIDBR_01jul2020.xlsx')\n",
    "# tratamento inicial dos valores de população\n",
    "df['populacaoTCU2019'] = df['populacaoTCU2019'].fillna('0')\n",
    "df['populacaoTCU2019'] = df['populacaoTCU2019'].str.split(pat='(', expand=True )\n",
    "df['populacaoTCU2019'] = df['populacaoTCU2019'].str.replace('.','').astype(int)"
   ]
  },
  {
   "cell_type": "code",
   "execution_count": 23,
   "metadata": {},
   "outputs": [],
   "source": [
    "cat_dia_semana = pd.CategoricalDtype(categories=['dom', 'seg', 'ter', 'qua', 'qui', 'sex', 'sab'], ordered=True)\n",
    "df['dia_semana'] = df['data'].dt.dayofweek\n",
    "df['dia_semana_nm'] = df['dia_semana'].replace({0:'seg', 1: 'ter', 2:'qua', 3:'qui', 4:'sex', 5:'sab', 6:'dom'}).astype(cat_dia_semana)"
   ]
  },
  {
   "cell_type": "code",
   "execution_count": 34,
   "metadata": {},
   "outputs": [],
   "source": [
    "def preproc_filter_df(df,estado, cidade):\n",
    "    fltr = df['estado'].str.lower() == estado.lower()\n",
    "    df_UF = df.loc[fltr, :]\n",
    "    fltr = df_UF['municipio'].str.lower() == cidade.lower()\n",
    "    df_muni = df_UF.loc[fltr, :]\n",
    "    return df_UF, df_muni"
   ]
  },
  {
   "cell_type": "code",
   "execution_count": 42,
   "metadata": {},
   "outputs": [],
   "source": [
    "df_est,  df_cidade = preproc_filter_df(df, 'BA', 'Salvador')"
   ]
  },
  {
   "cell_type": "code",
   "execution_count": 48,
   "metadata": {},
   "outputs": [],
   "source": []
  },
  {
   "cell_type": "code",
   "execution_count": 65,
   "metadata": {},
   "outputs": [
    {
     "output_type": "display_data",
     "data": {
      "application/vnd.plotly.v1+json": {
       "config": {
        "plotlyServerURL": "https://plot.ly"
       },
       "data": [
        {
         "alignmentgroup": "True",
         "customdata": [
          [
           0,
           0
          ],
          [
           16,
           2
          ],
          [
           29,
           0
          ],
          [
           73,
           0
          ],
          [
           87,
           3
          ],
          [
           211,
           9
          ],
          [
           252,
           17
          ],
          [
           223,
           37
          ],
          [
           282,
           9
          ],
          [
           479,
           31
          ],
          [
           1459,
           23
          ],
          [
           309,
           13
          ],
          [
           523,
           27
          ],
          [
           849,
           17
          ]
         ],
         "hovertemplate": "dia=sex<br>Semana epidemiológica=%{x}<br>Casos Novos=%{customdata[0]}<br>obitosNovos=%{customdata[1]}<extra></extra>",
         "legendgroup": "sex",
         "marker": {
          "color": "#636efa"
         },
         "name": "sex",
         "offsetgroup": "sex",
         "orientation": "v",
         "showlegend": true,
         "textposition": "auto",
         "type": "bar",
         "x": [
          13,
          14,
          15,
          16,
          17,
          18,
          19,
          20,
          21,
          22,
          23,
          24,
          25,
          26
         ],
         "xaxis": "x",
         "y": [
          0,
          16,
          29,
          73,
          87,
          211,
          252,
          223,
          282,
          479,
          1459,
          309,
          523,
          849
         ],
         "yaxis": "y"
        },
        {
         "alignmentgroup": "True",
         "customdata": [
          [
           82,
           0
          ],
          [
           32,
           0
          ],
          [
           12,
           0
          ],
          [
           117,
           1
          ],
          [
           85,
           1
          ],
          [
           105,
           2
          ],
          [
           213,
           9
          ],
          [
           425,
           -19
          ],
          [
           224,
           7
          ],
          [
           306,
           22
          ],
          [
           464,
           21
          ],
          [
           639,
           8
          ],
          [
           347,
           30
          ],
          [
           3486,
           19
          ]
         ],
         "hovertemplate": "dia=sab<br>Semana epidemiológica=%{x}<br>Casos Novos=%{customdata[0]}<br>obitosNovos=%{customdata[1]}<extra></extra>",
         "legendgroup": "sab",
         "marker": {
          "color": "#EF553B"
         },
         "name": "sab",
         "offsetgroup": "sab",
         "orientation": "v",
         "showlegend": true,
         "textposition": "auto",
         "type": "bar",
         "x": [
          13,
          14,
          15,
          16,
          17,
          18,
          19,
          20,
          21,
          22,
          23,
          24,
          25,
          26
         ],
         "xaxis": "x",
         "y": [
          82,
          32,
          12,
          117,
          85,
          105,
          213,
          425,
          224,
          306,
          464,
          639,
          347,
          3486
         ],
         "yaxis": "y"
        },
        {
         "alignmentgroup": "True",
         "customdata": [
          [
           21,
           1
          ],
          [
           28,
           2
          ],
          [
           9,
           0
          ],
          [
           3,
           3
          ],
          [
           54,
           1
          ],
          [
           147,
           2
          ],
          [
           328,
           1
          ],
          [
           50,
           28
          ],
          [
           650,
           39
          ],
          [
           427,
           10
          ],
          [
           375,
           21
          ],
          [
           161,
           14
          ],
          [
           359,
           20
          ],
          [
           1203,
           28
          ]
         ],
         "hovertemplate": "dia=dom<br>Semana epidemiológica=%{x}<br>Casos Novos=%{customdata[0]}<br>obitosNovos=%{customdata[1]}<extra></extra>",
         "legendgroup": "dom",
         "marker": {
          "color": "#00cc96"
         },
         "name": "dom",
         "offsetgroup": "dom",
         "orientation": "v",
         "showlegend": true,
         "textposition": "auto",
         "type": "bar",
         "x": [
          14,
          15,
          16,
          17,
          18,
          19,
          20,
          21,
          22,
          23,
          24,
          25,
          26,
          27
         ],
         "xaxis": "x",
         "y": [
          21,
          28,
          9,
          3,
          54,
          147,
          328,
          50,
          650,
          427,
          375,
          161,
          359,
          1203
         ],
         "yaxis": "y"
        },
        {
         "alignmentgroup": "True",
         "customdata": [
          [
           14,
           0
          ],
          [
           14,
           1
          ],
          [
           26,
           0
          ],
          [
           59,
           1
          ],
          [
           73,
           9
          ],
          [
           123,
           11
          ],
          [
           214,
           10
          ],
          [
           9,
           16
          ],
          [
           207,
           11
          ],
          [
           281,
           21
          ],
          [
           224,
           22
          ],
          [
           745,
           10
          ],
          [
           180,
           15
          ],
          [
           271,
           36
          ]
         ],
         "hovertemplate": "dia=seg<br>Semana epidemiológica=%{x}<br>Casos Novos=%{customdata[0]}<br>obitosNovos=%{customdata[1]}<extra></extra>",
         "legendgroup": "seg",
         "marker": {
          "color": "#ab63fa"
         },
         "name": "seg",
         "offsetgroup": "seg",
         "orientation": "v",
         "showlegend": true,
         "textposition": "auto",
         "type": "bar",
         "x": [
          14,
          15,
          16,
          17,
          18,
          19,
          20,
          21,
          22,
          23,
          24,
          25,
          26,
          27
         ],
         "xaxis": "x",
         "y": [
          14,
          14,
          26,
          59,
          73,
          123,
          214,
          9,
          207,
          281,
          224,
          745,
          180,
          271
         ],
         "yaxis": "y"
        },
        {
         "alignmentgroup": "True",
         "customdata": [
          [
           15,
           1
          ],
          [
           11,
           2
          ],
          [
           37,
           2
          ],
          [
           101,
           1
          ],
          [
           148,
           8
          ],
          [
           229,
           4
          ],
          [
           223,
           7
          ],
          [
           1780,
           -14
          ],
          [
           286,
           14
          ],
          [
           1455,
           19
          ],
          [
           901,
           18
          ],
          [
           565,
           23
          ],
          [
           730,
           34
          ],
          [
           1238,
           34
          ]
         ],
         "hovertemplate": "dia=ter<br>Semana epidemiológica=%{x}<br>Casos Novos=%{customdata[0]}<br>obitosNovos=%{customdata[1]}<extra></extra>",
         "legendgroup": "ter",
         "marker": {
          "color": "#FFA15A"
         },
         "name": "ter",
         "offsetgroup": "ter",
         "orientation": "v",
         "showlegend": true,
         "textposition": "auto",
         "type": "bar",
         "x": [
          14,
          15,
          16,
          17,
          18,
          19,
          20,
          21,
          22,
          23,
          24,
          25,
          26,
          27
         ],
         "xaxis": "x",
         "y": [
          15,
          11,
          37,
          101,
          148,
          229,
          223,
          1780,
          286,
          1455,
          901,
          565,
          730,
          1238
         ],
         "yaxis": "y"
        },
        {
         "alignmentgroup": "True",
         "customdata": [
          [
           21,
           0
          ],
          [
           22,
           1
          ],
          [
           94,
           -13
          ],
          [
           112,
           4
          ],
          [
           61,
           6
          ],
          [
           147,
           3
          ],
          [
           242,
           3
          ],
          [
           63,
           26
          ],
          [
           245,
           29
          ],
          [
           413,
           18
          ],
          [
           977,
           34
          ],
          [
           752,
           25
          ],
          [
           1410,
           38
          ],
          [
           1115,
           26
          ]
         ],
         "hovertemplate": "dia=qua<br>Semana epidemiológica=%{x}<br>Casos Novos=%{customdata[0]}<br>obitosNovos=%{customdata[1]}<extra></extra>",
         "legendgroup": "qua",
         "marker": {
          "color": "#19d3f3"
         },
         "name": "qua",
         "offsetgroup": "qua",
         "orientation": "v",
         "showlegend": true,
         "textposition": "auto",
         "type": "bar",
         "x": [
          14,
          15,
          16,
          17,
          18,
          19,
          20,
          21,
          22,
          23,
          24,
          25,
          26,
          27
         ],
         "xaxis": "x",
         "y": [
          21,
          22,
          94,
          112,
          61,
          147,
          242,
          63,
          245,
          413,
          977,
          752,
          1410,
          1115
         ],
         "yaxis": "y"
        },
        {
         "alignmentgroup": "True",
         "customdata": [
          [
           14,
           1
          ],
          [
           22,
           0
          ],
          [
           50,
           18
          ],
          [
           97,
           6
          ],
          [
           145,
           5
          ],
          [
           131,
           3
          ],
          [
           270,
           19
          ],
          [
           409,
           7
          ],
          [
           534,
           33
          ],
          [
           434,
           24
          ],
          [
           583,
           33
          ],
          [
           299,
           27
          ],
          [
           1061,
           38
          ]
         ],
         "hovertemplate": "dia=qui<br>Semana epidemiológica=%{x}<br>Casos Novos=%{customdata[0]}<br>obitosNovos=%{customdata[1]}<extra></extra>",
         "legendgroup": "qui",
         "marker": {
          "color": "#FF6692"
         },
         "name": "qui",
         "offsetgroup": "qui",
         "orientation": "v",
         "showlegend": true,
         "textposition": "auto",
         "type": "bar",
         "x": [
          14,
          15,
          16,
          17,
          18,
          19,
          20,
          21,
          22,
          23,
          24,
          25,
          26
         ],
         "xaxis": "x",
         "y": [
          14,
          22,
          50,
          97,
          145,
          131,
          270,
          409,
          534,
          434,
          583,
          299,
          1061
         ],
         "yaxis": "y"
        }
       ],
       "layout": {
        "barmode": "group",
        "height": 300,
        "legend": {
         "title": {
          "text": "dia"
         },
         "tracegroupgap": 0
        },
        "margin": {
         "t": 60
        },
        "template": {
         "data": {
          "bar": [
           {
            "error_x": {
             "color": "#2a3f5f"
            },
            "error_y": {
             "color": "#2a3f5f"
            },
            "marker": {
             "line": {
              "color": "#E5ECF6",
              "width": 0.5
             }
            },
            "type": "bar"
           }
          ],
          "barpolar": [
           {
            "marker": {
             "line": {
              "color": "#E5ECF6",
              "width": 0.5
             }
            },
            "type": "barpolar"
           }
          ],
          "carpet": [
           {
            "aaxis": {
             "endlinecolor": "#2a3f5f",
             "gridcolor": "white",
             "linecolor": "white",
             "minorgridcolor": "white",
             "startlinecolor": "#2a3f5f"
            },
            "baxis": {
             "endlinecolor": "#2a3f5f",
             "gridcolor": "white",
             "linecolor": "white",
             "minorgridcolor": "white",
             "startlinecolor": "#2a3f5f"
            },
            "type": "carpet"
           }
          ],
          "choropleth": [
           {
            "colorbar": {
             "outlinewidth": 0,
             "ticks": ""
            },
            "type": "choropleth"
           }
          ],
          "contour": [
           {
            "colorbar": {
             "outlinewidth": 0,
             "ticks": ""
            },
            "colorscale": [
             [
              0,
              "#0d0887"
             ],
             [
              0.1111111111111111,
              "#46039f"
             ],
             [
              0.2222222222222222,
              "#7201a8"
             ],
             [
              0.3333333333333333,
              "#9c179e"
             ],
             [
              0.4444444444444444,
              "#bd3786"
             ],
             [
              0.5555555555555556,
              "#d8576b"
             ],
             [
              0.6666666666666666,
              "#ed7953"
             ],
             [
              0.7777777777777778,
              "#fb9f3a"
             ],
             [
              0.8888888888888888,
              "#fdca26"
             ],
             [
              1,
              "#f0f921"
             ]
            ],
            "type": "contour"
           }
          ],
          "contourcarpet": [
           {
            "colorbar": {
             "outlinewidth": 0,
             "ticks": ""
            },
            "type": "contourcarpet"
           }
          ],
          "heatmap": [
           {
            "colorbar": {
             "outlinewidth": 0,
             "ticks": ""
            },
            "colorscale": [
             [
              0,
              "#0d0887"
             ],
             [
              0.1111111111111111,
              "#46039f"
             ],
             [
              0.2222222222222222,
              "#7201a8"
             ],
             [
              0.3333333333333333,
              "#9c179e"
             ],
             [
              0.4444444444444444,
              "#bd3786"
             ],
             [
              0.5555555555555556,
              "#d8576b"
             ],
             [
              0.6666666666666666,
              "#ed7953"
             ],
             [
              0.7777777777777778,
              "#fb9f3a"
             ],
             [
              0.8888888888888888,
              "#fdca26"
             ],
             [
              1,
              "#f0f921"
             ]
            ],
            "type": "heatmap"
           }
          ],
          "heatmapgl": [
           {
            "colorbar": {
             "outlinewidth": 0,
             "ticks": ""
            },
            "colorscale": [
             [
              0,
              "#0d0887"
             ],
             [
              0.1111111111111111,
              "#46039f"
             ],
             [
              0.2222222222222222,
              "#7201a8"
             ],
             [
              0.3333333333333333,
              "#9c179e"
             ],
             [
              0.4444444444444444,
              "#bd3786"
             ],
             [
              0.5555555555555556,
              "#d8576b"
             ],
             [
              0.6666666666666666,
              "#ed7953"
             ],
             [
              0.7777777777777778,
              "#fb9f3a"
             ],
             [
              0.8888888888888888,
              "#fdca26"
             ],
             [
              1,
              "#f0f921"
             ]
            ],
            "type": "heatmapgl"
           }
          ],
          "histogram": [
           {
            "marker": {
             "colorbar": {
              "outlinewidth": 0,
              "ticks": ""
             }
            },
            "type": "histogram"
           }
          ],
          "histogram2d": [
           {
            "colorbar": {
             "outlinewidth": 0,
             "ticks": ""
            },
            "colorscale": [
             [
              0,
              "#0d0887"
             ],
             [
              0.1111111111111111,
              "#46039f"
             ],
             [
              0.2222222222222222,
              "#7201a8"
             ],
             [
              0.3333333333333333,
              "#9c179e"
             ],
             [
              0.4444444444444444,
              "#bd3786"
             ],
             [
              0.5555555555555556,
              "#d8576b"
             ],
             [
              0.6666666666666666,
              "#ed7953"
             ],
             [
              0.7777777777777778,
              "#fb9f3a"
             ],
             [
              0.8888888888888888,
              "#fdca26"
             ],
             [
              1,
              "#f0f921"
             ]
            ],
            "type": "histogram2d"
           }
          ],
          "histogram2dcontour": [
           {
            "colorbar": {
             "outlinewidth": 0,
             "ticks": ""
            },
            "colorscale": [
             [
              0,
              "#0d0887"
             ],
             [
              0.1111111111111111,
              "#46039f"
             ],
             [
              0.2222222222222222,
              "#7201a8"
             ],
             [
              0.3333333333333333,
              "#9c179e"
             ],
             [
              0.4444444444444444,
              "#bd3786"
             ],
             [
              0.5555555555555556,
              "#d8576b"
             ],
             [
              0.6666666666666666,
              "#ed7953"
             ],
             [
              0.7777777777777778,
              "#fb9f3a"
             ],
             [
              0.8888888888888888,
              "#fdca26"
             ],
             [
              1,
              "#f0f921"
             ]
            ],
            "type": "histogram2dcontour"
           }
          ],
          "mesh3d": [
           {
            "colorbar": {
             "outlinewidth": 0,
             "ticks": ""
            },
            "type": "mesh3d"
           }
          ],
          "parcoords": [
           {
            "line": {
             "colorbar": {
              "outlinewidth": 0,
              "ticks": ""
             }
            },
            "type": "parcoords"
           }
          ],
          "pie": [
           {
            "automargin": true,
            "type": "pie"
           }
          ],
          "scatter": [
           {
            "marker": {
             "colorbar": {
              "outlinewidth": 0,
              "ticks": ""
             }
            },
            "type": "scatter"
           }
          ],
          "scatter3d": [
           {
            "line": {
             "colorbar": {
              "outlinewidth": 0,
              "ticks": ""
             }
            },
            "marker": {
             "colorbar": {
              "outlinewidth": 0,
              "ticks": ""
             }
            },
            "type": "scatter3d"
           }
          ],
          "scattercarpet": [
           {
            "marker": {
             "colorbar": {
              "outlinewidth": 0,
              "ticks": ""
             }
            },
            "type": "scattercarpet"
           }
          ],
          "scattergeo": [
           {
            "marker": {
             "colorbar": {
              "outlinewidth": 0,
              "ticks": ""
             }
            },
            "type": "scattergeo"
           }
          ],
          "scattergl": [
           {
            "marker": {
             "colorbar": {
              "outlinewidth": 0,
              "ticks": ""
             }
            },
            "type": "scattergl"
           }
          ],
          "scattermapbox": [
           {
            "marker": {
             "colorbar": {
              "outlinewidth": 0,
              "ticks": ""
             }
            },
            "type": "scattermapbox"
           }
          ],
          "scatterpolar": [
           {
            "marker": {
             "colorbar": {
              "outlinewidth": 0,
              "ticks": ""
             }
            },
            "type": "scatterpolar"
           }
          ],
          "scatterpolargl": [
           {
            "marker": {
             "colorbar": {
              "outlinewidth": 0,
              "ticks": ""
             }
            },
            "type": "scatterpolargl"
           }
          ],
          "scatterternary": [
           {
            "marker": {
             "colorbar": {
              "outlinewidth": 0,
              "ticks": ""
             }
            },
            "type": "scatterternary"
           }
          ],
          "surface": [
           {
            "colorbar": {
             "outlinewidth": 0,
             "ticks": ""
            },
            "colorscale": [
             [
              0,
              "#0d0887"
             ],
             [
              0.1111111111111111,
              "#46039f"
             ],
             [
              0.2222222222222222,
              "#7201a8"
             ],
             [
              0.3333333333333333,
              "#9c179e"
             ],
             [
              0.4444444444444444,
              "#bd3786"
             ],
             [
              0.5555555555555556,
              "#d8576b"
             ],
             [
              0.6666666666666666,
              "#ed7953"
             ],
             [
              0.7777777777777778,
              "#fb9f3a"
             ],
             [
              0.8888888888888888,
              "#fdca26"
             ],
             [
              1,
              "#f0f921"
             ]
            ],
            "type": "surface"
           }
          ],
          "table": [
           {
            "cells": {
             "fill": {
              "color": "#EBF0F8"
             },
             "line": {
              "color": "white"
             }
            },
            "header": {
             "fill": {
              "color": "#C8D4E3"
             },
             "line": {
              "color": "white"
             }
            },
            "type": "table"
           }
          ]
         },
         "layout": {
          "annotationdefaults": {
           "arrowcolor": "#2a3f5f",
           "arrowhead": 0,
           "arrowwidth": 1
          },
          "coloraxis": {
           "colorbar": {
            "outlinewidth": 0,
            "ticks": ""
           }
          },
          "colorscale": {
           "diverging": [
            [
             0,
             "#8e0152"
            ],
            [
             0.1,
             "#c51b7d"
            ],
            [
             0.2,
             "#de77ae"
            ],
            [
             0.3,
             "#f1b6da"
            ],
            [
             0.4,
             "#fde0ef"
            ],
            [
             0.5,
             "#f7f7f7"
            ],
            [
             0.6,
             "#e6f5d0"
            ],
            [
             0.7,
             "#b8e186"
            ],
            [
             0.8,
             "#7fbc41"
            ],
            [
             0.9,
             "#4d9221"
            ],
            [
             1,
             "#276419"
            ]
           ],
           "sequential": [
            [
             0,
             "#0d0887"
            ],
            [
             0.1111111111111111,
             "#46039f"
            ],
            [
             0.2222222222222222,
             "#7201a8"
            ],
            [
             0.3333333333333333,
             "#9c179e"
            ],
            [
             0.4444444444444444,
             "#bd3786"
            ],
            [
             0.5555555555555556,
             "#d8576b"
            ],
            [
             0.6666666666666666,
             "#ed7953"
            ],
            [
             0.7777777777777778,
             "#fb9f3a"
            ],
            [
             0.8888888888888888,
             "#fdca26"
            ],
            [
             1,
             "#f0f921"
            ]
           ],
           "sequentialminus": [
            [
             0,
             "#0d0887"
            ],
            [
             0.1111111111111111,
             "#46039f"
            ],
            [
             0.2222222222222222,
             "#7201a8"
            ],
            [
             0.3333333333333333,
             "#9c179e"
            ],
            [
             0.4444444444444444,
             "#bd3786"
            ],
            [
             0.5555555555555556,
             "#d8576b"
            ],
            [
             0.6666666666666666,
             "#ed7953"
            ],
            [
             0.7777777777777778,
             "#fb9f3a"
            ],
            [
             0.8888888888888888,
             "#fdca26"
            ],
            [
             1,
             "#f0f921"
            ]
           ]
          },
          "colorway": [
           "#636efa",
           "#EF553B",
           "#00cc96",
           "#ab63fa",
           "#FFA15A",
           "#19d3f3",
           "#FF6692",
           "#B6E880",
           "#FF97FF",
           "#FECB52"
          ],
          "font": {
           "color": "#2a3f5f"
          },
          "geo": {
           "bgcolor": "white",
           "lakecolor": "white",
           "landcolor": "#E5ECF6",
           "showlakes": true,
           "showland": true,
           "subunitcolor": "white"
          },
          "hoverlabel": {
           "align": "left"
          },
          "hovermode": "closest",
          "mapbox": {
           "style": "light"
          },
          "paper_bgcolor": "white",
          "plot_bgcolor": "#E5ECF6",
          "polar": {
           "angularaxis": {
            "gridcolor": "white",
            "linecolor": "white",
            "ticks": ""
           },
           "bgcolor": "#E5ECF6",
           "radialaxis": {
            "gridcolor": "white",
            "linecolor": "white",
            "ticks": ""
           }
          },
          "scene": {
           "xaxis": {
            "backgroundcolor": "#E5ECF6",
            "gridcolor": "white",
            "gridwidth": 2,
            "linecolor": "white",
            "showbackground": true,
            "ticks": "",
            "zerolinecolor": "white"
           },
           "yaxis": {
            "backgroundcolor": "#E5ECF6",
            "gridcolor": "white",
            "gridwidth": 2,
            "linecolor": "white",
            "showbackground": true,
            "ticks": "",
            "zerolinecolor": "white"
           },
           "zaxis": {
            "backgroundcolor": "#E5ECF6",
            "gridcolor": "white",
            "gridwidth": 2,
            "linecolor": "white",
            "showbackground": true,
            "ticks": "",
            "zerolinecolor": "white"
           }
          },
          "shapedefaults": {
           "line": {
            "color": "#2a3f5f"
           }
          },
          "ternary": {
           "aaxis": {
            "gridcolor": "white",
            "linecolor": "white",
            "ticks": ""
           },
           "baxis": {
            "gridcolor": "white",
            "linecolor": "white",
            "ticks": ""
           },
           "bgcolor": "#E5ECF6",
           "caxis": {
            "gridcolor": "white",
            "linecolor": "white",
            "ticks": ""
           }
          },
          "title": {
           "x": 0.05
          },
          "xaxis": {
           "automargin": true,
           "gridcolor": "white",
           "linecolor": "white",
           "ticks": "",
           "title": {
            "standoff": 15
           },
           "zerolinecolor": "white",
           "zerolinewidth": 2
          },
          "yaxis": {
           "automargin": true,
           "gridcolor": "white",
           "linecolor": "white",
           "ticks": "",
           "title": {
            "standoff": 15
           },
           "zerolinecolor": "white",
           "zerolinewidth": 2
          }
         }
        },
        "width": 600,
        "xaxis": {
         "anchor": "y",
         "domain": [
          0,
          1
         ],
         "title": {
          "text": "Semana epidemiológica"
         }
        },
        "yaxis": {
         "anchor": "x",
         "domain": [
          0,
          1
         ],
         "title": {
          "text": "Casos Novos"
         }
        }
       }
      },
      "text/html": "<div>\n        \n        \n            <div id=\"45ecbe9e-7d90-436b-8da8-f8e1ebf71d1d\" class=\"plotly-graph-div\" style=\"height:300px; width:600px;\"></div>\n            <script type=\"text/javascript\">\n                require([\"plotly\"], function(Plotly) {\n                    window.PLOTLYENV=window.PLOTLYENV || {};\n                    \n                if (document.getElementById(\"45ecbe9e-7d90-436b-8da8-f8e1ebf71d1d\")) {\n                    Plotly.newPlot(\n                        '45ecbe9e-7d90-436b-8da8-f8e1ebf71d1d',\n                        [{\"alignmentgroup\": \"True\", \"customdata\": [[0, 0], [16, 2], [29, 0], [73, 0], [87, 3], [211, 9], [252, 17], [223, 37], [282, 9], [479, 31], [1459, 23], [309, 13], [523, 27], [849, 17]], \"hovertemplate\": \"dia=sex<br>Semana epidemiol\\u00f3gica=%{x}<br>Casos Novos=%{customdata[0]}<br>obitosNovos=%{customdata[1]}<extra></extra>\", \"legendgroup\": \"sex\", \"marker\": {\"color\": \"#636efa\"}, \"name\": \"sex\", \"offsetgroup\": \"sex\", \"orientation\": \"v\", \"showlegend\": true, \"textposition\": \"auto\", \"type\": \"bar\", \"x\": [13, 14, 15, 16, 17, 18, 19, 20, 21, 22, 23, 24, 25, 26], \"xaxis\": \"x\", \"y\": [0, 16, 29, 73, 87, 211, 252, 223, 282, 479, 1459, 309, 523, 849], \"yaxis\": \"y\"}, {\"alignmentgroup\": \"True\", \"customdata\": [[82, 0], [32, 0], [12, 0], [117, 1], [85, 1], [105, 2], [213, 9], [425, -19], [224, 7], [306, 22], [464, 21], [639, 8], [347, 30], [3486, 19]], \"hovertemplate\": \"dia=sab<br>Semana epidemiol\\u00f3gica=%{x}<br>Casos Novos=%{customdata[0]}<br>obitosNovos=%{customdata[1]}<extra></extra>\", \"legendgroup\": \"sab\", \"marker\": {\"color\": \"#EF553B\"}, \"name\": \"sab\", \"offsetgroup\": \"sab\", \"orientation\": \"v\", \"showlegend\": true, \"textposition\": \"auto\", \"type\": \"bar\", \"x\": [13, 14, 15, 16, 17, 18, 19, 20, 21, 22, 23, 24, 25, 26], \"xaxis\": \"x\", \"y\": [82, 32, 12, 117, 85, 105, 213, 425, 224, 306, 464, 639, 347, 3486], \"yaxis\": \"y\"}, {\"alignmentgroup\": \"True\", \"customdata\": [[21, 1], [28, 2], [9, 0], [3, 3], [54, 1], [147, 2], [328, 1], [50, 28], [650, 39], [427, 10], [375, 21], [161, 14], [359, 20], [1203, 28]], \"hovertemplate\": \"dia=dom<br>Semana epidemiol\\u00f3gica=%{x}<br>Casos Novos=%{customdata[0]}<br>obitosNovos=%{customdata[1]}<extra></extra>\", \"legendgroup\": \"dom\", \"marker\": {\"color\": \"#00cc96\"}, \"name\": \"dom\", \"offsetgroup\": \"dom\", \"orientation\": \"v\", \"showlegend\": true, \"textposition\": \"auto\", \"type\": \"bar\", \"x\": [14, 15, 16, 17, 18, 19, 20, 21, 22, 23, 24, 25, 26, 27], \"xaxis\": \"x\", \"y\": [21, 28, 9, 3, 54, 147, 328, 50, 650, 427, 375, 161, 359, 1203], \"yaxis\": \"y\"}, {\"alignmentgroup\": \"True\", \"customdata\": [[14, 0], [14, 1], [26, 0], [59, 1], [73, 9], [123, 11], [214, 10], [9, 16], [207, 11], [281, 21], [224, 22], [745, 10], [180, 15], [271, 36]], \"hovertemplate\": \"dia=seg<br>Semana epidemiol\\u00f3gica=%{x}<br>Casos Novos=%{customdata[0]}<br>obitosNovos=%{customdata[1]}<extra></extra>\", \"legendgroup\": \"seg\", \"marker\": {\"color\": \"#ab63fa\"}, \"name\": \"seg\", \"offsetgroup\": \"seg\", \"orientation\": \"v\", \"showlegend\": true, \"textposition\": \"auto\", \"type\": \"bar\", \"x\": [14, 15, 16, 17, 18, 19, 20, 21, 22, 23, 24, 25, 26, 27], \"xaxis\": \"x\", \"y\": [14, 14, 26, 59, 73, 123, 214, 9, 207, 281, 224, 745, 180, 271], \"yaxis\": \"y\"}, {\"alignmentgroup\": \"True\", \"customdata\": [[15, 1], [11, 2], [37, 2], [101, 1], [148, 8], [229, 4], [223, 7], [1780, -14], [286, 14], [1455, 19], [901, 18], [565, 23], [730, 34], [1238, 34]], \"hovertemplate\": \"dia=ter<br>Semana epidemiol\\u00f3gica=%{x}<br>Casos Novos=%{customdata[0]}<br>obitosNovos=%{customdata[1]}<extra></extra>\", \"legendgroup\": \"ter\", \"marker\": {\"color\": \"#FFA15A\"}, \"name\": \"ter\", \"offsetgroup\": \"ter\", \"orientation\": \"v\", \"showlegend\": true, \"textposition\": \"auto\", \"type\": \"bar\", \"x\": [14, 15, 16, 17, 18, 19, 20, 21, 22, 23, 24, 25, 26, 27], \"xaxis\": \"x\", \"y\": [15, 11, 37, 101, 148, 229, 223, 1780, 286, 1455, 901, 565, 730, 1238], \"yaxis\": \"y\"}, {\"alignmentgroup\": \"True\", \"customdata\": [[21, 0], [22, 1], [94, -13], [112, 4], [61, 6], [147, 3], [242, 3], [63, 26], [245, 29], [413, 18], [977, 34], [752, 25], [1410, 38], [1115, 26]], \"hovertemplate\": \"dia=qua<br>Semana epidemiol\\u00f3gica=%{x}<br>Casos Novos=%{customdata[0]}<br>obitosNovos=%{customdata[1]}<extra></extra>\", \"legendgroup\": \"qua\", \"marker\": {\"color\": \"#19d3f3\"}, \"name\": \"qua\", \"offsetgroup\": \"qua\", \"orientation\": \"v\", \"showlegend\": true, \"textposition\": \"auto\", \"type\": \"bar\", \"x\": [14, 15, 16, 17, 18, 19, 20, 21, 22, 23, 24, 25, 26, 27], \"xaxis\": \"x\", \"y\": [21, 22, 94, 112, 61, 147, 242, 63, 245, 413, 977, 752, 1410, 1115], \"yaxis\": \"y\"}, {\"alignmentgroup\": \"True\", \"customdata\": [[14, 1], [22, 0], [50, 18], [97, 6], [145, 5], [131, 3], [270, 19], [409, 7], [534, 33], [434, 24], [583, 33], [299, 27], [1061, 38]], \"hovertemplate\": \"dia=qui<br>Semana epidemiol\\u00f3gica=%{x}<br>Casos Novos=%{customdata[0]}<br>obitosNovos=%{customdata[1]}<extra></extra>\", \"legendgroup\": \"qui\", \"marker\": {\"color\": \"#FF6692\"}, \"name\": \"qui\", \"offsetgroup\": \"qui\", \"orientation\": \"v\", \"showlegend\": true, \"textposition\": \"auto\", \"type\": \"bar\", \"x\": [14, 15, 16, 17, 18, 19, 20, 21, 22, 23, 24, 25, 26], \"xaxis\": \"x\", \"y\": [14, 22, 50, 97, 145, 131, 270, 409, 534, 434, 583, 299, 1061], \"yaxis\": \"y\"}],\n                        {\"barmode\": \"group\", \"height\": 300, \"legend\": {\"title\": {\"text\": \"dia\"}, \"tracegroupgap\": 0}, \"margin\": {\"t\": 60}, \"template\": {\"data\": {\"bar\": [{\"error_x\": {\"color\": \"#2a3f5f\"}, \"error_y\": {\"color\": \"#2a3f5f\"}, \"marker\": {\"line\": {\"color\": \"#E5ECF6\", \"width\": 0.5}}, \"type\": \"bar\"}], \"barpolar\": [{\"marker\": {\"line\": {\"color\": \"#E5ECF6\", \"width\": 0.5}}, \"type\": \"barpolar\"}], \"carpet\": [{\"aaxis\": {\"endlinecolor\": \"#2a3f5f\", \"gridcolor\": \"white\", \"linecolor\": \"white\", \"minorgridcolor\": \"white\", \"startlinecolor\": \"#2a3f5f\"}, \"baxis\": {\"endlinecolor\": \"#2a3f5f\", \"gridcolor\": \"white\", \"linecolor\": \"white\", \"minorgridcolor\": \"white\", \"startlinecolor\": \"#2a3f5f\"}, \"type\": \"carpet\"}], \"choropleth\": [{\"colorbar\": {\"outlinewidth\": 0, \"ticks\": \"\"}, \"type\": \"choropleth\"}], \"contour\": [{\"colorbar\": {\"outlinewidth\": 0, \"ticks\": \"\"}, \"colorscale\": [[0.0, \"#0d0887\"], [0.1111111111111111, \"#46039f\"], [0.2222222222222222, \"#7201a8\"], [0.3333333333333333, \"#9c179e\"], [0.4444444444444444, \"#bd3786\"], [0.5555555555555556, \"#d8576b\"], [0.6666666666666666, \"#ed7953\"], [0.7777777777777778, \"#fb9f3a\"], [0.8888888888888888, \"#fdca26\"], [1.0, \"#f0f921\"]], \"type\": \"contour\"}], \"contourcarpet\": [{\"colorbar\": {\"outlinewidth\": 0, \"ticks\": \"\"}, \"type\": \"contourcarpet\"}], \"heatmap\": [{\"colorbar\": {\"outlinewidth\": 0, \"ticks\": \"\"}, \"colorscale\": [[0.0, \"#0d0887\"], [0.1111111111111111, \"#46039f\"], [0.2222222222222222, \"#7201a8\"], [0.3333333333333333, \"#9c179e\"], [0.4444444444444444, \"#bd3786\"], [0.5555555555555556, \"#d8576b\"], [0.6666666666666666, \"#ed7953\"], [0.7777777777777778, \"#fb9f3a\"], [0.8888888888888888, \"#fdca26\"], [1.0, \"#f0f921\"]], \"type\": \"heatmap\"}], \"heatmapgl\": [{\"colorbar\": {\"outlinewidth\": 0, \"ticks\": \"\"}, \"colorscale\": [[0.0, \"#0d0887\"], [0.1111111111111111, \"#46039f\"], [0.2222222222222222, \"#7201a8\"], [0.3333333333333333, \"#9c179e\"], [0.4444444444444444, \"#bd3786\"], [0.5555555555555556, \"#d8576b\"], [0.6666666666666666, \"#ed7953\"], [0.7777777777777778, \"#fb9f3a\"], [0.8888888888888888, \"#fdca26\"], [1.0, \"#f0f921\"]], \"type\": \"heatmapgl\"}], \"histogram\": [{\"marker\": {\"colorbar\": {\"outlinewidth\": 0, \"ticks\": \"\"}}, \"type\": \"histogram\"}], \"histogram2d\": [{\"colorbar\": {\"outlinewidth\": 0, \"ticks\": \"\"}, \"colorscale\": [[0.0, \"#0d0887\"], [0.1111111111111111, \"#46039f\"], [0.2222222222222222, \"#7201a8\"], [0.3333333333333333, \"#9c179e\"], [0.4444444444444444, \"#bd3786\"], [0.5555555555555556, \"#d8576b\"], [0.6666666666666666, \"#ed7953\"], [0.7777777777777778, \"#fb9f3a\"], [0.8888888888888888, \"#fdca26\"], [1.0, \"#f0f921\"]], \"type\": \"histogram2d\"}], \"histogram2dcontour\": [{\"colorbar\": {\"outlinewidth\": 0, \"ticks\": \"\"}, \"colorscale\": [[0.0, \"#0d0887\"], [0.1111111111111111, \"#46039f\"], [0.2222222222222222, \"#7201a8\"], [0.3333333333333333, \"#9c179e\"], [0.4444444444444444, \"#bd3786\"], [0.5555555555555556, \"#d8576b\"], [0.6666666666666666, \"#ed7953\"], [0.7777777777777778, \"#fb9f3a\"], [0.8888888888888888, \"#fdca26\"], [1.0, \"#f0f921\"]], \"type\": \"histogram2dcontour\"}], \"mesh3d\": [{\"colorbar\": {\"outlinewidth\": 0, \"ticks\": \"\"}, \"type\": \"mesh3d\"}], \"parcoords\": [{\"line\": {\"colorbar\": {\"outlinewidth\": 0, \"ticks\": \"\"}}, \"type\": \"parcoords\"}], \"pie\": [{\"automargin\": true, \"type\": \"pie\"}], \"scatter\": [{\"marker\": {\"colorbar\": {\"outlinewidth\": 0, \"ticks\": \"\"}}, \"type\": \"scatter\"}], \"scatter3d\": [{\"line\": {\"colorbar\": {\"outlinewidth\": 0, \"ticks\": \"\"}}, \"marker\": {\"colorbar\": {\"outlinewidth\": 0, \"ticks\": \"\"}}, \"type\": \"scatter3d\"}], \"scattercarpet\": [{\"marker\": {\"colorbar\": {\"outlinewidth\": 0, \"ticks\": \"\"}}, \"type\": \"scattercarpet\"}], \"scattergeo\": [{\"marker\": {\"colorbar\": {\"outlinewidth\": 0, \"ticks\": \"\"}}, \"type\": \"scattergeo\"}], \"scattergl\": [{\"marker\": {\"colorbar\": {\"outlinewidth\": 0, \"ticks\": \"\"}}, \"type\": \"scattergl\"}], \"scattermapbox\": [{\"marker\": {\"colorbar\": {\"outlinewidth\": 0, \"ticks\": \"\"}}, \"type\": \"scattermapbox\"}], \"scatterpolar\": [{\"marker\": {\"colorbar\": {\"outlinewidth\": 0, \"ticks\": \"\"}}, \"type\": \"scatterpolar\"}], \"scatterpolargl\": [{\"marker\": {\"colorbar\": {\"outlinewidth\": 0, \"ticks\": \"\"}}, \"type\": \"scatterpolargl\"}], \"scatterternary\": [{\"marker\": {\"colorbar\": {\"outlinewidth\": 0, \"ticks\": \"\"}}, \"type\": \"scatterternary\"}], \"surface\": [{\"colorbar\": {\"outlinewidth\": 0, \"ticks\": \"\"}, \"colorscale\": [[0.0, \"#0d0887\"], [0.1111111111111111, \"#46039f\"], [0.2222222222222222, \"#7201a8\"], [0.3333333333333333, \"#9c179e\"], [0.4444444444444444, \"#bd3786\"], [0.5555555555555556, \"#d8576b\"], [0.6666666666666666, \"#ed7953\"], [0.7777777777777778, \"#fb9f3a\"], [0.8888888888888888, \"#fdca26\"], [1.0, \"#f0f921\"]], \"type\": \"surface\"}], \"table\": [{\"cells\": {\"fill\": {\"color\": \"#EBF0F8\"}, \"line\": {\"color\": \"white\"}}, \"header\": {\"fill\": {\"color\": \"#C8D4E3\"}, \"line\": {\"color\": \"white\"}}, \"type\": \"table\"}]}, \"layout\": {\"annotationdefaults\": {\"arrowcolor\": \"#2a3f5f\", \"arrowhead\": 0, \"arrowwidth\": 1}, \"coloraxis\": {\"colorbar\": {\"outlinewidth\": 0, \"ticks\": \"\"}}, \"colorscale\": {\"diverging\": [[0, \"#8e0152\"], [0.1, \"#c51b7d\"], [0.2, \"#de77ae\"], [0.3, \"#f1b6da\"], [0.4, \"#fde0ef\"], [0.5, \"#f7f7f7\"], [0.6, \"#e6f5d0\"], [0.7, \"#b8e186\"], [0.8, \"#7fbc41\"], [0.9, \"#4d9221\"], [1, \"#276419\"]], \"sequential\": [[0.0, \"#0d0887\"], [0.1111111111111111, \"#46039f\"], [0.2222222222222222, \"#7201a8\"], [0.3333333333333333, \"#9c179e\"], [0.4444444444444444, \"#bd3786\"], [0.5555555555555556, \"#d8576b\"], [0.6666666666666666, \"#ed7953\"], [0.7777777777777778, \"#fb9f3a\"], [0.8888888888888888, \"#fdca26\"], [1.0, \"#f0f921\"]], \"sequentialminus\": [[0.0, \"#0d0887\"], [0.1111111111111111, \"#46039f\"], [0.2222222222222222, \"#7201a8\"], [0.3333333333333333, \"#9c179e\"], [0.4444444444444444, \"#bd3786\"], [0.5555555555555556, \"#d8576b\"], [0.6666666666666666, \"#ed7953\"], [0.7777777777777778, \"#fb9f3a\"], [0.8888888888888888, \"#fdca26\"], [1.0, \"#f0f921\"]]}, \"colorway\": [\"#636efa\", \"#EF553B\", \"#00cc96\", \"#ab63fa\", \"#FFA15A\", \"#19d3f3\", \"#FF6692\", \"#B6E880\", \"#FF97FF\", \"#FECB52\"], \"font\": {\"color\": \"#2a3f5f\"}, \"geo\": {\"bgcolor\": \"white\", \"lakecolor\": \"white\", \"landcolor\": \"#E5ECF6\", \"showlakes\": true, \"showland\": true, \"subunitcolor\": \"white\"}, \"hoverlabel\": {\"align\": \"left\"}, \"hovermode\": \"closest\", \"mapbox\": {\"style\": \"light\"}, \"paper_bgcolor\": \"white\", \"plot_bgcolor\": \"#E5ECF6\", \"polar\": {\"angularaxis\": {\"gridcolor\": \"white\", \"linecolor\": \"white\", \"ticks\": \"\"}, \"bgcolor\": \"#E5ECF6\", \"radialaxis\": {\"gridcolor\": \"white\", \"linecolor\": \"white\", \"ticks\": \"\"}}, \"scene\": {\"xaxis\": {\"backgroundcolor\": \"#E5ECF6\", \"gridcolor\": \"white\", \"gridwidth\": 2, \"linecolor\": \"white\", \"showbackground\": true, \"ticks\": \"\", \"zerolinecolor\": \"white\"}, \"yaxis\": {\"backgroundcolor\": \"#E5ECF6\", \"gridcolor\": \"white\", \"gridwidth\": 2, \"linecolor\": \"white\", \"showbackground\": true, \"ticks\": \"\", \"zerolinecolor\": \"white\"}, \"zaxis\": {\"backgroundcolor\": \"#E5ECF6\", \"gridcolor\": \"white\", \"gridwidth\": 2, \"linecolor\": \"white\", \"showbackground\": true, \"ticks\": \"\", \"zerolinecolor\": \"white\"}}, \"shapedefaults\": {\"line\": {\"color\": \"#2a3f5f\"}}, \"ternary\": {\"aaxis\": {\"gridcolor\": \"white\", \"linecolor\": \"white\", \"ticks\": \"\"}, \"baxis\": {\"gridcolor\": \"white\", \"linecolor\": \"white\", \"ticks\": \"\"}, \"bgcolor\": \"#E5ECF6\", \"caxis\": {\"gridcolor\": \"white\", \"linecolor\": \"white\", \"ticks\": \"\"}}, \"title\": {\"x\": 0.05}, \"xaxis\": {\"automargin\": true, \"gridcolor\": \"white\", \"linecolor\": \"white\", \"ticks\": \"\", \"title\": {\"standoff\": 15}, \"zerolinecolor\": \"white\", \"zerolinewidth\": 2}, \"yaxis\": {\"automargin\": true, \"gridcolor\": \"white\", \"linecolor\": \"white\", \"ticks\": \"\", \"title\": {\"standoff\": 15}, \"zerolinecolor\": \"white\", \"zerolinewidth\": 2}}}, \"width\": 600, \"xaxis\": {\"anchor\": \"y\", \"domain\": [0.0, 1.0], \"title\": {\"text\": \"Semana epidemiol\\u00f3gica\"}}, \"yaxis\": {\"anchor\": \"x\", \"domain\": [0.0, 1.0], \"title\": {\"text\": \"Casos Novos\"}}},\n                        {\"responsive\": true}\n                    ).then(function(){\n                            \nvar gd = document.getElementById('45ecbe9e-7d90-436b-8da8-f8e1ebf71d1d');\nvar x = new MutationObserver(function (mutations, observer) {{\n        var display = window.getComputedStyle(gd).display;\n        if (!display || display === 'none') {{\n            console.log([gd, 'removed!']);\n            Plotly.purge(gd);\n            observer.disconnect();\n        }}\n}});\n\n// Listen for the removal of the full notebook cells\nvar notebookContainer = gd.closest('#notebook-container');\nif (notebookContainer) {{\n    x.observe(notebookContainer, {childList: true});\n}}\n\n// Listen for the clearing of the current output cell\nvar outputEl = gd.closest('.output');\nif (outputEl) {{\n    x.observe(outputEl, {childList: true});\n}}\n\n                        })\n                };\n                });\n            </script>\n        </div>"
     },
     "metadata": {}
    }
   ],
   "source": [
    "df_cidade.sort_values('data', inplace = True)\n",
    "fig = px.bar(df_cidade, x='semanaEpi', y='casosNovos',\n",
    "             hover_data=['casosNovos', 'obitosNovos'], color='dia_semana_nm', barmode='group', \n",
    "             labels={'casosNovos':'Casos Novos', 'semanaEpi': 'Semana epidemiológica', 'dia_semana_nm' : 'dia', }, height=300, width = 600)\n",
    "fig.show()"
   ]
  },
  {
   "cell_type": "code",
   "execution_count": 60,
   "metadata": {},
   "outputs": [],
   "source": [
    "import chart_studio.plotly as py\n",
    "import plotly.graph_objs as go"
   ]
  },
  {
   "cell_type": "code",
   "execution_count": 66,
   "metadata": {},
   "outputs": [],
   "source": [
    "N = 2000\n",
    "x_example = np.random.rand(N)\n",
    "y_example = np.random.rand(N)"
   ]
  },
  {
   "cell_type": "code",
   "execution_count": 70,
   "metadata": {},
   "outputs": [],
   "source": [
    "trace = go.Scatter(x = x_example, y = y_example, mode = 'markers')"
   ]
  },
  {
   "cell_type": "code",
   "execution_count": 72,
   "metadata": {},
   "outputs": [
    {
     "output_type": "display_data",
     "data": {
      "application/vnd.plotly.v1+json": {
       "config": {
        "linkText": "Export to plot.ly",
        "plotlyServerURL": "https://plot.ly",
        "showLink": false
       },
       "data": [
        {
         "mode": "markers",
         "type": "scatter",
         "x": [
          0.5161812515562698,
          0.35680537613401964,
          0.49708533165279967,
          0.9040299747775501,
          0.4458928516059254,
          0.9040915286330936,
          0.7903781480673108,
          0.8924861112381864,
          0.06876592307434204,
          0.8518090084657048,
          0.13712810258425323,
          0.715284270200792,
          0.4109958696882594,
          0.7744107981293173,
          0.8545561928979208,
          0.5215944336298807,
          0.9810157711907873,
          0.6827061727052622,
          0.8578992279625853,
          0.35389099113004474,
          0.13488224885587696,
          0.9428572446072842,
          0.34473558392995307,
          0.8865664492362244,
          0.5820468517600643,
          0.29998921265029643,
          0.20019108613855674,
          0.49860665506341917,
          0.8465481593998612,
          0.8147667354653363,
          0.7180470970461486,
          0.9999861621133128,
          0.12139291777691208,
          0.4838135868314227,
          0.7986536989406677,
          0.709962950924172,
          0.2758663676388666,
          0.3326787111935643,
          0.9777574482908697,
          0.8026371809846388,
          0.22703055771487668,
          0.138120653279991,
          0.4087704002053705,
          0.9444509516984676,
          0.8440619009042829,
          0.7551558893599419,
          0.7466500325410415,
          0.11574179385120398,
          0.2923638471065877,
          0.45330060676144646,
          0.43708314689130845,
          0.15143837702506635,
          0.9308185207554551,
          0.915998564021176,
          0.15275603840003193,
          0.4771752363498444,
          0.7323419240428467,
          0.8843267211420269,
          0.43091291062963344,
          0.07424537161548717,
          0.7021374952759175,
          0.7629069230116553,
          0.5050142959248834,
          0.6694167211709899,
          0.41144798734020704,
          0.4120160326563559,
          0.5023439283778478,
          0.8641974006967869,
          0.579897043381321,
          0.6446645196188083,
          0.7094779682421891,
          0.4523616708810695,
          0.2221139305989721,
          0.3896189154736648,
          0.3489391539483446,
          0.699095890282603,
          0.017749902218188174,
          0.692443635109215,
          0.8398756734069217,
          0.7040999817012747,
          0.17250122529702183,
          0.156992541039793,
          0.5564457799819361,
          0.04535052183150878,
          0.010955357124602605,
          0.1032847228246887,
          0.15357914127211258,
          0.2608403285088181,
          0.6990281896294748,
          0.1191166816682947,
          0.7839823068501829,
          0.572684558682043,
          0.6154071515568541,
          0.42661512351579856,
          0.48126108695031045,
          0.6175361967314923,
          0.6404932084929531,
          0.5924329863640809,
          0.45128132677750177,
          0.9135929161902477,
          0.7690143387137057,
          0.4320817546670861,
          0.9771660438592193,
          0.6665108687636873,
          0.12765706282118283,
          0.8417198508615633,
          0.8467093747113755,
          0.9269979672974923,
          0.7911226982678071,
          0.5856955682976699,
          0.6765410091232497,
          0.5046649151638208,
          0.29599309670221685,
          0.7964269041287155,
          0.6813648639064557,
          0.21576853088619097,
          0.3738506053506603,
          0.13158706350390115,
          0.7381897748706963,
          0.22840481517856714,
          0.5353365057285799,
          0.0000048673378237884535,
          0.3479124028772268,
          0.3953679396765285,
          0.17797368757150855,
          0.33583389691268006,
          0.35463827455943975,
          0.29065109458938887,
          0.18774661168583362,
          0.8352135336361813,
          0.8190572117914138,
          0.535355793960682,
          0.008427784706732555,
          0.9431732243115621,
          0.18425619945734195,
          0.9109259570638625,
          0.2533891214840006,
          0.5345996623182566,
          0.639637418146936,
          0.2541862772921051,
          0.34897571531646865,
          0.7370218215479882,
          0.39173159876941344,
          0.12492255195576996,
          0.40921132049716324,
          0.2788826569542022,
          0.9580997987297337,
          0.5718692807487568,
          0.9718175719377062,
          0.09158935479186836,
          0.5827458506421458,
          0.7625447904825466,
          0.8097244384750149,
          0.22409633556147024,
          0.5934089613067434,
          0.9008015362406824,
          0.15049743254902437,
          0.14351777648859254,
          0.6976928337095003,
          0.6040657734091169,
          0.18805553705499756,
          0.1933366281686013,
          0.16254976184613168,
          0.4392126381858744,
          0.09012671545487361,
          0.7357928976344079,
          0.5829778622466082,
          0.03734630937272243,
          0.44422277385825826,
          0.4907146351511047,
          0.5114003848051721,
          0.6996608875668218,
          0.5313992020634214,
          0.7001877441116537,
          0.76377817810694,
          0.16587178481265563,
          0.6640642000563501,
          0.572541777136237,
          0.5497268770286148,
          0.8298921977416616,
          0.7748696096749267,
          0.785618620732135,
          0.2358825841482456,
          0.5679382015137323,
          0.636756121541365,
          0.6188220096323539,
          0.23953828203573557,
          0.5066800073695276,
          0.20341896921042935,
          0.609436860485438,
          0.7104959769378002,
          0.02040863560241213,
          0.13052523483751322,
          0.11865415099378063,
          0.44728369963592696,
          0.41881559690937276,
          0.14429247884870067,
          0.22030717188380367,
          0.49442300990363897,
          0.08072239065889675,
          0.9806663912702178,
          0.5768678957635998,
          0.5309981267240276,
          0.23660619646128522,
          0.8975647175295598,
          0.4463036014810545,
          0.041933759550177085,
          0.7957995612753708,
          0.91064792984507,
          0.6881275548403062,
          0.579747467767488,
          0.6801387385747822,
          0.6774770050399792,
          0.3768363905673996,
          0.7398434866604219,
          0.1772571787321242,
          0.544489940972053,
          0.860423804298498,
          0.024254248164591652,
          0.4643089009301493,
          0.585109112247831,
          0.3830527742204026,
          0.6375143170054178,
          0.016204728550145542,
          0.018152060421480543,
          0.45266070799783664,
          0.7012000182157689,
          0.7022729156676485,
          0.9461013604837801,
          0.8876373583401946,
          0.9356764643972678,
          0.8246269695695642,
          0.926208617287099,
          0.36017151804330716,
          0.9004391394312974,
          0.8832295868167447,
          0.2489378558557237,
          0.8404299031808709,
          0.1517631566330444,
          0.3113117889449025,
          0.7389203879319487,
          0.2859926854819841,
          0.42856688319150116,
          0.7798372797331812,
          0.8355703568671518,
          0.6600658890690825,
          0.16732708070945435,
          0.7713101652795022,
          0.6140818831914443,
          0.04093117331483964,
          0.6243378197418012,
          0.575504562128372,
          0.7901712586959861,
          0.6577909638052009,
          0.7521569127169915,
          0.40758942268966936,
          0.19295090835541362,
          0.1519849285386775,
          0.07986534479938168,
          0.1810379407297451,
          0.3495649762630314,
          0.9300721769423579,
          0.09593392810339385,
          0.1937625216015213,
          0.022415366244426527,
          0.28143719968003866,
          0.12541192232767961,
          0.7545427164744255,
          0.39364861087420433,
          0.02166915119162327,
          0.4746927994563801,
          0.2307085967685507,
          0.8798494560594667,
          0.8668560751920023,
          0.31722249340159314,
          0.5406138510899108,
          0.13653043721927538,
          0.7728803548997908,
          0.6702057750925233,
          0.7349758802473352,
          0.2260073774540753,
          0.6182168949131881,
          0.8488383660055134,
          0.9101989442154153,
          0.9219937954067526,
          0.2697991276926528,
          0.9790390972248567,
          0.35914047908526936,
          0.8159395851536045,
          0.08041408817008511,
          0.9519134557556806,
          0.6584375192219656,
          0.851121162709935,
          0.5155975339050463,
          0.9863308678569545,
          0.5842010906020921,
          0.2708382884778605,
          0.38926208288646136,
          0.5536093866321742,
          0.5690850504580734,
          0.915140882746676,
          0.246755101204299,
          0.19834900035122038,
          0.27187566892541826,
          0.6506156213702834,
          0.45262533802092764,
          0.2720810752300159,
          0.7306411717408134,
          0.2873192531612919,
          0.7991100222137046,
          0.5142006259493093,
          0.11020949663669644,
          0.09094150243313759,
          0.4431053161907388,
          0.9155289849679403,
          0.44023020027074544,
          0.21445920348446346,
          0.6740975964462287,
          0.7029425141327516,
          0.7488718605090652,
          0.31086261929102643,
          0.23759950102987293,
          0.5480583859714183,
          0.7103939271601031,
          0.9198105892955403,
          0.4683526439648289,
          0.6146225390606023,
          0.6768131541225771,
          0.5428262177146906,
          0.2527027126965484,
          0.23509953310592135,
          0.38621496300132696,
          0.19841207799876914,
          0.5133323930669464,
          0.7588489113252969,
          0.567851273636093,
          0.20395331408359096,
          0.21921618401337528,
          0.5076564516166295,
          0.5933482115734424,
          0.33751303245130215,
          0.6425581354444232,
          0.3505205120835966,
          0.709358902440242,
          0.4573430086339979,
          0.8642590419112011,
          0.7991087975812922,
          0.20985603678403364,
          0.19509347027391777,
          0.44530312638608793,
          0.6958147969171167,
          0.25170091313970666,
          0.41781647276389544,
          0.17852271663867691,
          0.03904818504164875,
          0.26809643922188275,
          0.353835156395111,
          0.09581342915638325,
          0.5272103844103799,
          0.12853602109858542,
          0.013603757231627545,
          0.8617678936012337,
          0.9275401717178812,
          0.5263726518684889,
          0.6097593087647917,
          0.7760632615232852,
          0.9637815483313339,
          0.42491014589960585,
          0.6617527646551798,
          0.898633175799821,
          0.5847565799431619,
          0.037422021788573345,
          0.17983462955846086,
          0.7536611132414852,
          0.9466998855715809,
          0.9067829383251423,
          0.6823645534166346,
          0.3007747541755672,
          0.11826509957051146,
          0.41067847326827667,
          0.885093202920183,
          0.019105045810289045,
          0.5462781991936627,
          0.39459193114406854,
          0.4497865718153362,
          0.761174435783631,
          0.7436414432559437,
          0.8775450969127563,
          0.6950988496942455,
          0.4679337772595662,
          0.6173196138236767,
          0.05871224354048832,
          0.7397522601524517,
          0.05392768976220741,
          0.10875700189366955,
          0.09423972063034058,
          0.16483103695446566,
          0.5665500184983142,
          0.21222028564517004,
          0.6491089646653639,
          0.8536449718300193,
          0.9095251889990376,
          0.3344400855936882,
          0.5031300772536145,
          0.3031227720822032,
          0.31460085702242213,
          0.09585303907068154,
          0.4422459296755181,
          0.15704748677175173,
          0.9615250723356875,
          0.9038189182005479,
          0.4329872624569755,
          0.693518153837691,
          0.8003541283830141,
          0.9157968837239128,
          0.49435934487039,
          0.5629462758517876,
          0.1979787242175326,
          0.6236165175074174,
          0.24337323044249504,
          0.5288628241368607,
          0.11519480140289828,
          0.016973687699256557,
          0.9158660423776487,
          0.3584898414730132,
          0.2199250171456516,
          0.4638680700719585,
          0.3168168607126186,
          0.5538096237271529,
          0.8117036836735869,
          0.5010076695870208,
          0.8300316512397637,
          0.38176481905981186,
          0.8297835796073014,
          0.07975752943149972,
          0.6398970213706269,
          0.4584844416051439,
          0.03193331601249749,
          0.2844481418137491,
          0.09052736212655454,
          0.8318172057154469,
          0.1190601526387659,
          0.3215319999389986,
          0.05861056485190874,
          0.5327214897154379,
          0.11774062170764865,
          0.655485677703421,
          0.15683458144893148,
          0.7698814443004373,
          0.13128157713919253,
          0.3921803924557036,
          0.7660113130158559,
          0.468668805856705,
          0.45532047298320977,
          0.1501783731942773,
          0.9608316445077496,
          0.07914604641192269,
          0.15722282171869073,
          0.2567954254790453,
          0.75816966793839,
          0.7430487216955204,
          0.4563646403439394,
          0.5862333018064129,
          0.4986829184652778,
          0.4033806178265714,
          0.3255264517609372,
          0.9630126262063647,
          0.3780512993329872,
          0.8816229281481676,
          0.7566967462934889,
          0.5143549029178612,
          0.9392211248113739,
          0.16418133425029968,
          0.2406739705986385,
          0.40665898231127007,
          0.9797480288580144,
          0.5243884869284486,
          0.9323863200251878,
          0.6619815571472635,
          0.4890813795162422,
          0.37174793177342325,
          0.8756315914888453,
          0.697457573913204,
          0.5773717877834562,
          0.06297548948557352,
          0.3558732667185528,
          0.7199441433469339,
          0.9634166887141451,
          0.6570461196846834,
          0.22433529016151832,
          0.12240094608589991,
          0.6163875452654042,
          0.8790057857517465,
          0.9658803625438611,
          0.403256462747588,
          0.2629547041743806,
          0.12358004920666066,
          0.08606415900694331,
          0.21762194544409474,
          0.19309908102113227,
          0.483884366406211,
          0.9133133379521002,
          0.9980227247432547,
          0.7828317364735193,
          0.4642269865526615,
          0.7080931367170696,
          0.4517595932413935,
          0.030641515365563365,
          0.16082157534428776,
          0.5544577906625764,
          0.9834383359741238,
          0.1988925692917124,
          0.9610855697735285,
          0.04262111761801113,
          0.983485625659178,
          0.18034123736544472,
          0.9798987424899108,
          0.4013069748930371,
          0.5850509034745762,
          0.9931301697750208,
          0.47970862331105857,
          0.5102992003239818,
          0.5114318265426848,
          0.028766495717560958,
          0.31118347434052573,
          0.13168557531927338,
          0.08854215470051463,
          0.5726222802436306,
          0.005798986945768414,
          0.16044365042472797,
          0.19737812418982192,
          0.8612279494067538,
          0.5651350286208238,
          0.8768308340163287,
          0.12841530436081627,
          0.7928557434125472,
          0.8698786677067737,
          0.2720029558002889,
          0.387546648498758,
          0.5052712595979767,
          0.045585757401420235,
          0.07038759020244734,
          0.6055883393119561,
          0.7094357188206365,
          0.37517496193049615,
          0.685728651455857,
          0.9587638315026265,
          0.9733363867596444,
          0.13145130430088348,
          0.9706381413459667,
          0.037887256486767384,
          0.04652395440030854,
          0.3895505980985967,
          0.9791197212989048,
          0.30753514615984334,
          0.7132081753406663,
          0.009955152865406491,
          0.41199660993736986,
          0.9484576141237144,
          0.3547455118478685,
          0.6224663431273744,
          0.2613406321241758,
          0.4315979365306548,
          0.47914953173826824,
          0.08887702645105555,
          0.36597601012443526,
          0.9307211301123003,
          0.3565400407559368,
          0.3742030478752093,
          0.35758121067164517,
          0.10153665805386025,
          0.1014794570966453,
          0.9023643286138986,
          0.9646164850337553,
          0.28130406542687025,
          0.14967070468345045,
          0.03888932540046064,
          0.08499616413888544,
          0.9407698961270567,
          0.5808926522017879,
          0.7203473564390729,
          0.701491264520297,
          0.4020475369047001,
          0.7645055143535983,
          0.16465182575237203,
          0.43004016503489517,
          0.051639598463730674,
          0.9915023529353938,
          0.21087636321418934,
          0.8058673672781557,
          0.217282264621799,
          0.6755289080113352,
          0.33365499070994153,
          0.28358857584608144,
          0.6484487911179477,
          0.6416360931744532,
          0.7383242074210908,
          0.05499486016811461,
          0.4013164796550289,
          0.7556043138980408,
          0.15621865564174187,
          0.4052953827346186,
          0.5852098594460254,
          0.986030319205693,
          0.2916907615439379,
          0.3674907197714561,
          0.8389172932333121,
          0.18330535850582985,
          0.11030287775969383,
          0.77989138398528,
          0.6620018892869642,
          0.3524008564723389,
          0.954098537200061,
          0.27401273791011305,
          0.2618194014737897,
          0.491857126459908,
          0.2926845498798789,
          0.6071801715731459,
          0.17815086214479803,
          0.9344504954952103,
          0.3379977027974681,
          0.18840188475802577,
          0.5867421755728944,
          0.023102748067630463,
          0.09606493669555083,
          0.9376388900252749,
          0.6065541397547556,
          0.847449484119755,
          0.8526324648088021,
          0.5892176976004194,
          0.5344165475318454,
          0.9711837111180527,
          0.3283377979759087,
          0.9678271319038251,
          0.519146641763367,
          0.08428244382783623,
          0.47160002665466816,
          0.7416326790454975,
          0.06702898426685988,
          0.013434136321836876,
          0.6276154671197156,
          0.793746878002662,
          0.8984125962267379,
          0.7803206345498627,
          0.7257771529699121,
          0.5061866632711669,
          0.027906614221358095,
          0.8189448682302952,
          0.6271869595896725,
          0.65047304418977,
          0.3129303401252801,
          0.7092722869182476,
          0.7812962311766858,
          0.26458356667982597,
          0.8093802919905129,
          0.0562346084359896,
          0.5875901374098327,
          0.628962105699183,
          0.20270551122710267,
          0.6162438622248108,
          0.7381313020137066,
          0.9074446808348264,
          0.445133976694956,
          0.34084759940473874,
          0.17752778157906413,
          0.5739849023995469,
          0.14829064998585528,
          0.5872071575144229,
          0.6053767753801694,
          0.21623092737904992,
          0.73643341068458,
          0.14055642383636402,
          0.007889084981307914,
          0.6567477904206429,
          0.16977231356155786,
          0.7706249489492937,
          0.04190445862967063,
          0.3659124360998951,
          0.03208370759059087,
          0.14943465225425323,
          0.4528955380644477,
          0.8470294244802283,
          0.23314677082191415,
          0.9897541719816358,
          0.8278090866358571,
          0.3522834459262105,
          0.45223174384921627,
          0.98948056408891,
          0.7135899060265247,
          0.5310253778541456,
          0.005648693531284721,
          0.35915299325602135,
          0.15255403936536782,
          0.17101367146988156,
          0.6636877306495442,
          0.9808634946760898,
          0.06179144598197983,
          0.5285149844103347,
          0.5327023675082673,
          0.5378187788886664,
          0.551286113026423,
          0.7255006255146513,
          0.7446432792416483,
          0.47499785074467793,
          0.20790183796193507,
          0.9289938619221562,
          0.5093766544262506,
          0.5219131992135808,
          0.4590480863346289,
          0.9909091794232661,
          0.6271971989623377,
          0.44828190433570203,
          0.2898844290110826,
          0.8343478741077357,
          0.2707344811079013,
          0.1486635432521064,
          0.7322393621782992,
          0.5587302927107891,
          0.8290901111635296,
          0.07163471280252298,
          0.558911261455097,
          0.13381333911347182,
          0.22067475226134536,
          0.02907860965483,
          0.7476274201716572,
          0.42763758082198744,
          0.31219298516732863,
          0.09482218595401104,
          0.22268992458289427,
          0.9950721768850428,
          0.30806221057981165,
          0.3846789209936007,
          0.934410287236665,
          0.04893007023636431,
          0.07892600223315627,
          0.1704107865704233,
          0.3690829889578435,
          0.9778004428344458,
          0.2567276847624175,
          0.4973293264134836,
          0.8169398398054214,
          0.6919207982735662,
          0.11746117598650141,
          0.1757229437421055,
          0.9967559115710509,
          0.3423532459945279,
          0.08041501701183473,
          0.9281231414562524,
          0.8562276958882694,
          0.8661579977570818,
          0.7940001727920206,
          0.9179053158226779,
          0.5493992278689822,
          0.4940769591616817,
          0.03773015016563186,
          0.4990661428888876,
          0.09530949442776515,
          0.47817770172764096,
          0.8492874618092303,
          0.605895193580679,
          0.42533822418829936,
          0.6122810197655039,
          0.10969399422483617,
          0.18850630378694477,
          0.8081522662576216,
          0.3105420961684462,
          0.9046402073077443,
          0.895075048236717,
          0.29528943957402076,
          0.6864366000065872,
          0.6889095029599777,
          0.5906260894189369,
          0.8989209345946305,
          0.500807441949738,
          0.32030345296850726,
          0.8553619202542125,
          0.9607604850118121,
          0.24160506265639892,
          0.8171104218847232,
          0.5437743019327211,
          0.30258591891056685,
          0.8647816426220065,
          0.1652635407343508,
          0.9323282493772413,
          0.26651588348694555,
          0.3817077490345038,
          0.47187442894436116,
          0.12058852889291582,
          0.11399958988992964,
          0.8945772628313508,
          0.46578833893745397,
          0.008545803849527855,
          0.9372440449186414,
          0.28392946344429004,
          0.3320672121528999,
          0.9888007894838393,
          0.028911645408922326,
          0.45514286717962715,
          0.03226801028835502,
          0.4646529699966059,
          0.4709157387853755,
          0.8102048673181237,
          0.07996746982270952,
          0.17918561426302193,
          0.5584469105551138,
          0.13623167105750245,
          0.4933718974741307,
          0.9405700256218058,
          0.5898231208799705,
          0.40520557876811325,
          0.900178678179074,
          0.34106108745825325,
          0.12294053163297247,
          0.9098843535422962,
          0.01669801905970869,
          0.8335878724613714,
          0.3992220153948427,
          0.47107499380837736,
          0.005968018103709727,
          0.9102533856088819,
          0.22719380382626764,
          0.020828160536565332,
          0.7143939764253879,
          0.11364026495191848,
          0.03806099266940799,
          0.49190430444833244,
          0.4699007917351341,
          0.8234015859570062,
          0.9661020087550112,
          0.2949443177130795,
          0.058620326507359044,
          0.3738434838284619,
          0.9806355586551604,
          0.4586015638071257,
          0.26241567947454103,
          0.21040794538448082,
          0.5871871373811727,
          0.7810859451449678,
          0.10902933876725318,
          0.7980677686846525,
          0.13448373648982503,
          0.7666374280726062,
          0.5016904894243136,
          0.19181308929937335,
          0.6681035731201365,
          0.7495143437090631,
          0.958496744553837,
          0.1625619447009966,
          0.3380191757128552,
          0.1585180171288556,
          0.7393322488785684,
          0.9064085587865245,
          0.618839403612952,
          0.21631366517202688,
          0.7316978666379841,
          0.6776137883817712,
          0.8653253922395691,
          0.37711297301589997,
          0.9098995381250727,
          0.5823837278750569,
          0.9959154369558968,
          0.9141763252890578,
          0.8463205136018974,
          0.3758338414525856,
          0.5899823519562875,
          0.5756738415949297,
          0.1311628447381573,
          0.05450699881273191,
          0.6147719217777333,
          0.3715249904844238,
          0.8376382613577792,
          0.5778924943676379,
          0.1802340824871973,
          0.5894608724287805,
          0.6590928950577187,
          0.7716313610693981,
          0.2670852701356582,
          0.9717370554518654,
          0.6595790607069608,
          0.5985492346940855,
          0.32733369555714464,
          0.9580424855303135,
          0.8155044958779148,
          0.9926040820845535,
          0.612491375700424,
          0.10490884892065688,
          0.017711737481512668,
          0.18599425936779956,
          0.9116450071095235,
          0.6504649782930075,
          0.7178998379047703,
          0.9792024549570874,
          0.03772504750355088,
          0.3243888983494716,
          0.6358491395071706,
          0.19281645094081934,
          0.8187842218448932,
          0.5391756115447918,
          0.3745141882105606,
          0.8725636673070222,
          0.3943205764212645,
          0.6449881512010096,
          0.3310060285702735,
          0.5105060377741086,
          0.18614793330943546,
          0.897121736012917,
          0.33869864145109707,
          0.2789617416566742,
          0.6930634112108595,
          0.4758308073930658,
          0.7193293717067857,
          0.6619200552429604,
          0.4412798040259157,
          0.2787364473228304,
          0.6166387658012866,
          0.8720482864443614,
          0.8773041105471535,
          0.7701732073344084,
          0.40481770489855284,
          0.5294280788581247,
          0.26909901592556806,
          0.5775827329082469,
          0.4261401767056805,
          0.85841879616319,
          0.5376256468363652,
          0.815753675561752,
          0.8507816078305205,
          0.33164629364621734,
          0.4046865380690724,
          0.7654565170710185,
          0.19813518751763204,
          0.3274098889931084,
          0.4478404237702671,
          0.470055131239824,
          0.5759604779612764,
          0.6465873138019422,
          0.9174748896355237,
          0.36637158833090033,
          0.27386465072369925,
          0.033819865530626214,
          0.10777749140442949,
          0.10617863438902553,
          0.30479470465708336,
          0.7348130878518732,
          0.8287529376384131,
          0.02957353002435681,
          0.6716589112312893,
          0.3092654784848654,
          0.8532453485091066,
          0.6237901824361151,
          0.5069796833412836,
          0.46329214170443955,
          0.07145250758746102,
          0.34102137603806393,
          0.6269726043169389,
          0.02263928992721509,
          0.6643925772486914,
          0.04283220803468468,
          0.5726717609312333,
          0.11135766019050641,
          0.6063916774978144,
          0.8649555589182656,
          0.21081505938861422,
          0.5457077334540446,
          0.0391724643170579,
          0.5601678606405199,
          0.7189478890487061,
          0.7271599725047738,
          0.711108303994753,
          0.971470680385402,
          0.10999894256063625,
          0.40666059818719125,
          0.09532506742103997,
          0.17068083897646968,
          0.3612756171157234,
          0.3871887854154997,
          0.727233585200585,
          0.2896991638303459,
          0.46632052722317296,
          0.22240649801402024,
          0.6304612848030295,
          0.8190964760436201,
          0.42622284467962346,
          0.35909672366394607,
          0.4927082525647335,
          0.6062798342122716,
          0.8664695111117524,
          0.2704186358054673,
          0.42665528428116184,
          0.8585410330022559,
          0.34866866513148376,
          0.8011999134174046,
          0.5356851927063441,
          0.10275438126465342,
          0.9837717789556794,
          0.6602635322599182,
          0.23876626309964588,
          0.3700338506886425,
          0.08799026010909539,
          0.2380879804533408,
          0.7629942748980314,
          0.8998638423152256,
          0.08132964340848836,
          0.19485142055294757,
          0.12303254234831451,
          0.14556048353666962,
          0.8420905954538684,
          0.5942859928455108,
          0.6163263992338428,
          0.9921730800231536,
          0.9206571554011743,
          0.1023383253980431,
          0.8001373481979038,
          0.9790079165155049,
          0.5477898942027531,
          0.0050130626168295445,
          0.938672966703763,
          0.25237860605635387,
          0.49370206306667686,
          0.84092916305433,
          0.41020206935977777,
          0.09032152916078384,
          0.9039473239432066,
          0.7820507803441372,
          0.9243812401813124,
          0.5882245291518647,
          0.41266578628945183,
          0.3005062231882808,
          0.9292815502063193,
          0.34379277144596143,
          0.7248180199930874,
          0.006260368150924678,
          0.31862135235608524,
          0.16092125321890605,
          0.6258685194245376,
          0.035493757744767485,
          0.2766230228825266,
          0.3126411998626888,
          0.4052094991550417,
          0.9232086081450329,
          0.4591482881788894,
          0.01769403793373492,
          0.8151913697724441,
          0.8934658623244423,
          0.6270247198302716,
          0.9601963316620088,
          0.317038141949351,
          0.4399371095839747,
          0.8538366334764358,
          0.1385330900257583,
          0.7972542316653067,
          0.12608095301200972,
          0.6177583377930881,
          0.6572311264446549,
          0.9105961394282527,
          0.1707857902640263,
          0.4113063366444377,
          0.5754722914623795,
          0.9651538264311008,
          0.06270004622238001,
          0.5236242265806027,
          0.34843867871033807,
          0.1582412715271132,
          0.4423284476490418,
          0.3742282894992919,
          0.8609886582572566,
          0.9638552841825154,
          0.4144680328468928,
          0.38480736149684835,
          0.29056965424517445,
          0.8896534770107223,
          0.532923961839764,
          0.8764921390653927,
          0.7901599868093587,
          0.2521576298410727,
          0.3918509453500745,
          0.40463803487129235,
          0.1731580685035652,
          0.8970371039688532,
          0.09175122210682218,
          0.3973258764679305,
          0.8659914960517501,
          0.7140508983375374,
          0.8960636167766237,
          0.660855560884956,
          0.8759370256532917,
          0.4890747733874926,
          0.3516694198653747,
          0.8143163983710633,
          0.4343513634228434,
          0.18108771690085868,
          0.28105120230190106,
          0.6622237040972762,
          0.027208143722030398,
          0.6728769181666365,
          0.048269945311465445,
          0.7122049669813463,
          0.8643736441006489,
          0.4202310269813062,
          0.5306845217900665,
          0.3959407967996109,
          0.7458450458732953,
          0.31730663658657066,
          0.8333730977808673,
          0.8700032600414986,
          0.5513120315638872,
          0.7178212419340408,
          0.10237810499547706,
          0.8059879022055779,
          0.30280381770763054,
          0.04894537492896145,
          0.25879856826907266,
          0.2692961765891101,
          0.4193456657346646,
          0.34497413643215724,
          0.7646924077574246,
          0.30582870097667003,
          0.4647830732615946,
          0.49517134378847927,
          0.5973784979385808,
          0.9005470488510913,
          0.1212157327766834,
          0.28296766705830034,
          0.2468996174086,
          0.17236277310691805,
          0.24693679331361085,
          0.35223417059549667,
          0.41971260926910825,
          0.7248575075854523,
          0.1314572145121753,
          0.6931698744928417,
          0.06841370513242351,
          0.6101712111838042,
          0.5299987598685824,
          0.5892678603981266,
          0.12065167787584186,
          0.3242312778741455,
          0.43433266311340213,
          0.7025564880699491,
          0.8562158035116298,
          0.08998263269060036,
          0.7923503156155954,
          0.3915606801334348,
          0.7560360401604225,
          0.7947264504049119,
          0.3271896519928503,
          0.5732631621637801,
          0.16737927456746693,
          0.9915603806414997,
          0.4009270366729816,
          0.9026685817199535,
          0.8147553679125393,
          0.08411258029247382,
          0.7244814767372734,
          0.08761678310216592,
          0.09929886849847569,
          0.5210044991973279,
          0.5166534610995969,
          0.6152834853642811,
          0.441470893001776,
          0.8617783129199573,
          0.25887013452847707,
          0.5064191149351601,
          0.6074191049355765,
          0.738439396839463,
          0.023767410831666114,
          0.713389460682289,
          0.5347365728863308,
          0.057539241527830964,
          0.37427733897974813,
          0.622140172487918,
          0.08231960428019103,
          0.35689683874953615,
          0.09714615887061295,
          0.5712320493102392,
          0.4934701713541364,
          0.40222049228451817,
          0.5802853718605421,
          0.11277249544775225,
          0.2851328837559982,
          0.34213720668521785,
          0.4505646861318262,
          0.6658391303599516,
          0.691938369843814,
          0.6810831947893374,
          0.5113993142956156,
          0.23095470482615876,
          0.2554805319109906,
          0.9589281837108211,
          0.980361190323113,
          0.036971158319969666,
          0.610874120566565,
          0.08473338375708417,
          0.4942907808643797,
          0.646344049449775,
          0.4746870953003445,
          0.5528844040374221,
          0.04208940955705254,
          0.9791508790935038,
          0.11398760028256871,
          0.41342789282857284,
          0.4748051785955566,
          0.3177691946861687,
          0.7583814292528804,
          0.07201120121961013,
          0.2562395242216666,
          0.2595216149301808,
          0.03003287603817517,
          0.6508908124906531,
          0.1820676369762878,
          0.2667656847658392,
          0.21148691370517003,
          0.944067447616904,
          0.0019221469345664932,
          0.7210365953505895,
          0.5093226032263416,
          0.5312814677653092,
          0.697453628744425,
          0.6782403276810287,
          0.9395846692180736,
          0.6938354224634761,
          0.41085410665121025,
          0.012107784088354112,
          0.09736888463378557,
          0.8486503487626175,
          0.525103587444788,
          0.7241468690791382,
          0.14539172532822953,
          0.6897288582585558,
          0.9676851149461775,
          0.7746987801264686,
          0.4187299409116967,
          0.782030219173189,
          0.43744275704663604,
          0.5009655642692231,
          0.9222410837155741,
          0.9528495096233157,
          0.18749224119386476,
          0.8452855850058159,
          0.9275398516658748,
          0.03637240451055934,
          0.8087115385350144,
          0.2399041280137143,
          0.28746682134863355,
          0.9968997597856891,
          0.29254001047135336,
          0.6392402398646858,
          0.3371613701374704,
          0.6911387974175326,
          0.2642008730042008,
          0.792926690283261,
          0.6705817579635476,
          0.08967543725962512,
          0.10171514887146982,
          0.3029853326454427,
          0.9748345777815337,
          0.098483236333472,
          0.540051848560429,
          0.233027011071676,
          0.8155021355816197,
          0.3712970935267057,
          0.16275221497244696,
          0.6249600124142906,
          0.35825018496418837,
          0.4592128206590471,
          0.30498602075145576,
          0.00495659183490238,
          0.3378427208835604,
          0.9779922104411837,
          0.45212010794325985,
          0.5760443284752131,
          0.4268383038942227,
          0.36442657111520416,
          0.9774523777568276,
          0.20431979549804757,
          0.5452541690736138,
          0.6046402635672056,
          0.9649461547951196,
          0.6795559156256087,
          0.7369034872596066,
          0.10442810898940524,
          0.3943266254237954,
          0.12506151117918152,
          0.03856304525044374,
          0.9153735245217086,
          0.6329210261844486,
          0.24216272399298377,
          0.8313122212080896,
          0.46356515652783925,
          0.20861329783703342,
          0.5484175688393172,
          0.9638049519063587,
          0.22881331372747948,
          0.8429117201769268,
          0.07948247765733563,
          0.2745579403338154,
          0.7982297553456662,
          0.9027421257366934,
          0.8713275788716225,
          0.7230231876212062,
          0.4790349914976061,
          0.24364259199934124,
          0.036518114848734795,
          0.8999914583789347,
          0.1599917961255083,
          0.23315369532957264,
          0.09950146704670992,
          0.47512662683663964,
          0.03563193500706452,
          0.009046824712602874,
          0.7737591537274097,
          0.021148907842736042,
          0.3430331469608824,
          0.09648290870281984,
          0.9176247462631667,
          0.06934857170233932,
          0.18574161251264443,
          0.8463278001137128,
          0.9173799083593378,
          0.762101159231859,
          0.7354181374134876,
          0.29744449226388925,
          0.6008347616155332,
          0.23098678084694413,
          0.4231444156485771,
          0.662598049756687,
          0.8429474758219235,
          0.7729953645354275,
          0.031562576306196966,
          0.12418314263071106,
          0.0348628428201162,
          0.9379693251643777,
          0.09747513989894818,
          0.9072813535353047,
          0.15259351601909177,
          0.8705910972976818,
          0.7364733837193622,
          0.986377372555418,
          0.27776244314077825,
          0.1880429402021685,
          0.6779844115222318,
          0.13775993195929914,
          0.3675480865797963,
          0.5606170241231302,
          0.24460858539123942,
          0.5152279462364225,
          0.3945126937943674,
          0.35605336598011306,
          0.4567301326497565,
          0.7570573668108371,
          0.41785828199574815,
          0.18476838235886384,
          0.9873976474956543,
          0.33088342107371915,
          0.5063153497170139,
          0.36590330890832024,
          0.19642408789448362,
          0.33345252892945587,
          0.44370812922541114,
          0.16337305569891725,
          0.7045399576691266,
          0.027135281716096582,
          0.7668309081624795,
          0.945878179758961,
          0.9835995294599733,
          0.601167328228317,
          0.5086357170824013,
          0.6031757974044044,
          0.051675609537588096,
          0.09527772666825518,
          0.13746525524398756,
          0.790825450137292,
          0.4183776134427736,
          0.1886370205391802,
          0.5853541026378319,
          0.8606438776187726,
          0.6361679113547418,
          0.5897775792829034,
          0.7500291083899371,
          0.77648190168903,
          0.4987377815172206,
          0.7977918718584426,
          0.04946596603873654,
          0.4254189101124126,
          0.4294939841004717,
          0.10698514410923154,
          0.09014267048573255,
          0.6195504562370323,
          0.6648296259145953,
          0.8867164427311421,
          0.2868468841931495,
          0.9741409046676592,
          0.4459549149621793,
          0.8412000394058944,
          0.10018624086398265,
          0.6696737208539187,
          0.48280025643020663,
          0.8116384996423004,
          0.7209471993053396,
          0.09318196252705835,
          0.3004677185224792,
          0.8614821947470533,
          0.5827561470985594,
          0.4967345519021681,
          0.10636038114328306,
          0.7384487206596344,
          0.10521240666189213,
          0.14937735691571496,
          0.8671722396348179,
          0.44712423792566547,
          0.09458666282784212,
          0.859306037381182,
          0.05280554043938812,
          0.7892545768142026,
          0.615136027084861,
          0.03153432747038476,
          0.056413665125043866,
          0.25983409689764414,
          0.0866133294440592,
          0.01069923840821907,
          0.3901978384047434,
          0.7077775747364792,
          0.6969282922797447,
          0.2206966509709415,
          0.09477143491166318,
          0.8251810348394442,
          0.37793022824043065,
          0.0876147449841489,
          0.7469057976303968,
          0.8480991898054006,
          0.861477001756039,
          0.4891004784860997,
          0.6480633804742849,
          0.32045507435892506,
          0.5419985615370169,
          0.812599902157154,
          0.17390253460923877,
          0.47098163370640334,
          0.5250417005655085,
          0.9451783875900467,
          0.5005389216804059,
          0.14472159320306788,
          0.12372252226112423,
          0.42711577679900203,
          0.06895096547374535,
          0.8293231180429481,
          0.6280508761340398,
          0.3314990046863888,
          0.8238040158196734,
          0.4965768320056996,
          0.6522002459472709,
          0.8359594324111542,
          0.5040503737461552,
          0.8096199830616382,
          0.9195065757095024,
          0.001974067762332554,
          0.6594515650927782,
          0.22617997280545976,
          0.7058871948663021,
          0.1185097276323791,
          0.8950822743005231,
          0.6017731810203595,
          0.9610252002326323,
          0.7417344187126961,
          0.4789530829513937,
          0.10956057987559975,
          0.9579717321266965,
          0.46913710490657345,
          0.7535650066471342,
          0.9541457226708483,
          0.9475477319921265,
          0.5832000369142009,
          0.7983151496323944,
          0.5503100354069204,
          0.8203902139329144,
          0.8887436558454878,
          0.07848962475879984,
          0.8624309528682406,
          0.09085644221124634,
          0.2699396659151978,
          0.05950974439358059,
          0.8526082362599617,
          0.21412131092772246,
          0.25334017773430917,
          0.24245817641815104,
          0.2404743378347901,
          0.9062023022699671,
          0.7877376329318388,
          0.6671617543163376,
          0.8732738344388175,
          0.9377058187134181,
          0.5665537565665645,
          0.4241730952857139,
          0.39465899127654824,
          0.39283662234404126,
          0.7741969519075547,
          0.8619638329700027,
          0.8257435161736455,
          0.03585014732607661,
          0.42787392694848203,
          0.69858074655327,
          0.5228458814787525,
          0.7623632567125344,
          0.6424658064854458,
          0.3300369584945213,
          0.5197071119289983,
          0.4665464768808977,
          0.3059206925409199,
          0.43168323967906574,
          0.46540775404634116,
          0.6884330224920493,
          0.8861975029845488,
          0.2640381393130311,
          0.09480151831791828,
          0.7240330713384269,
          0.9561631351957233,
          0.14309295968073277,
          0.41443106735069646,
          0.23428433611543942,
          0.4380517667109757,
          0.8564007069262367,
          0.053366367372781665,
          0.06708481480593365,
          0.5583277163500192,
          0.06547598072105676,
          0.021854889575304903,
          0.6766618449753007,
          0.7352747959957995,
          0.8454335509364161,
          0.5113222151900171,
          0.6789673833786734,
          0.4428077924622894,
          0.8786168102169675,
          0.8639471830293243,
          0.7934518718875102,
          0.29695899592794084,
          0.029173236993443652,
          0.6720740149495605,
          0.15304444730057298,
          0.8160315179154345,
          0.9887224578562056,
          0.3718923970655894,
          0.36703763923026167,
          0.11045336894936364,
          0.16758350938701838,
          0.3115806474284677,
          0.610840076110286,
          0.7741775350262363,
          0.5077235870845966,
          0.4591027010298473,
          0.8357840820753464,
          0.37167366310603056,
          0.43310578039795977,
          0.5149957228675593,
          0.6166735326313537,
          0.6317668859879016,
          0.8743168715891043,
          0.3924991928576175,
          0.9025523796391679,
          0.8720813440837599,
          0.8401129877125585,
          0.886647788625432,
          0.2792990535980533,
          0.7423326869120864,
          0.01747039457782351,
          0.12575082950433425,
          0.7542966729427057,
          0.7231327048611809,
          0.7070471891066846,
          0.8692053866914363,
          0.9045839407531353,
          0.42070715308732276,
          0.0737645358336545,
          0.6075622982527153,
          0.04862735185654965,
          0.25255803635359286,
          0.18644906110877024,
          0.9958493749580403,
          0.9132027816490607,
          0.07816787165877803,
          0.6877553669352618,
          0.6789179892961538,
          0.46726975703338824,
          0.7424877879450398,
          0.835211826970731,
          0.37794817322643104,
          0.45183012122502675,
          0.9234956421635274,
          0.381673210353789,
          0.6277642238911514,
          0.17689120576697948,
          0.6983242276614259,
          0.2341762844567874,
          0.6424118180075695,
          0.2661384289179072,
          0.4474119059731446,
          0.20227327890003166,
          0.9442926424809224,
          0.4307823471794455,
          0.93231258932694,
          0.18997021524950308,
          0.6752381245161275,
          0.9873165673760695,
          0.8897440615290487,
          0.3875010357702161,
          0.4200280187715718,
          0.9935714210138502,
          0.6702830087096705,
          0.8858919735704115,
          0.7295130700207801,
          0.032917203632993886,
          0.008266974763968093,
          0.13959700941677677,
          0.8120331575482305,
          0.771523095048205,
          0.1490947778636046,
          0.7674840930488843,
          0.3884087591090363,
          0.4557907010087694,
          0.0406063618164616,
          0.7378089334922203,
          0.5278033801055005,
          0.10783939469946446,
          0.016267888878894965,
          0.8705947175401966,
          0.7276075560135157,
          0.46166935291385014,
          0.4791404485834345,
          0.5665711146041784,
          0.9129148751684119,
          0.9894924079723086,
          0.8170768109906393,
          0.5767350880249495,
          0.6333785167481534,
          0.6419031393159988,
          0.6479623562272672,
          0.14749018316212648,
          0.411989497061811,
          0.08644396746085625,
          0.7346291359279313,
          0.6541251404117651,
          0.5474173821556394,
          0.5485932872801422,
          0.258157840689786,
          0.6446312889340101,
          0.49178829112001277,
          0.9987030083212312,
          0.2290551466408549,
          0.924367575667633,
          0.3037163162045783,
          0.93194619262609,
          0.004462037891531212,
          0.15683385730385468,
          0.0819926904651832,
          0.9753839221521353,
          0.548129486901252,
          0.7586062042107234,
          0.8253197842443746,
          0.2602681988909653,
          0.026922695485751547,
          0.7041240397235184,
          0.9851737670175341,
          0.9345779868497615,
          0.000661454234648251,
          0.25392438796994055,
          0.9715410411795644,
          0.29727618548551127,
          0.8846966717457634,
          0.3540076119321538,
          0.23069059196554997,
          0.05480362581625142,
          0.35340259284123987,
          0.6723855481061501,
          0.9153952266002433,
          0.29340176892491177,
          0.6524474320458596,
          0.18428665288847768,
          0.43063073846697963,
          0.46864894574978677,
          0.10954771154123477,
          0.3741370161708699,
          0.2835499917138683,
          0.10481753274445504,
          0.7239615642793282,
          0.1469572399140493,
          0.5480972583808997,
          0.5972306227540428,
          0.8520477207874663,
          0.46371882645206386,
          0.2320494656689731,
          0.7511168448964357,
          0.31437472878157735,
          0.1381460114049179,
          0.9345390637442468,
          0.615597536017039,
          0.9061432535081141,
          0.48088326849884255,
          0.012176964209453023,
          0.4213970956812615,
          0.2233367698676023,
          0.0961607756652555,
          0.10563256072739236,
          0.4184495094094115,
          0.9400408809108328,
          0.1562351323159834,
          0.7496246224335502,
          0.8375722120608942,
          0.9402101855878253,
          0.6737023034711184,
          0.45378869324108084,
          0.149309353726648,
          0.13038965590740825,
          0.49937542002825563,
          0.9250828205256478,
          0.9708113043660856,
          0.5797061144252912,
          0.06687453921348752,
          0.40168588391661497,
          0.28039238458863625,
          0.004201637579750228,
          0.07823412759391957,
          0.34103998628511345,
          0.1527217521484049,
          0.8554676440826466,
          0.22419666373666247,
          0.6371431154194142,
          0.7142049614422047,
          0.41220834360281355,
          0.1623076026417961,
          0.9569091015704833,
          0.9214360410930953,
          0.12109806298972992,
          0.1591319999441383,
          0.6901596095717761,
          0.25401300860580356,
          0.8801275677025152,
          0.77624617112686,
          0.6884188421079028,
          0.2892995325760944,
          0.5803544328280543,
          0.725475948352355,
          0.5043811353917697,
          0.13250131732951465,
          0.5582255602486154,
          0.3015676103246244,
          0.682538065137133,
          0.08491314949382056,
          0.23979726616290342,
          0.9989178784679713,
          0.34455835081553543,
          0.7599119112834325,
          0.7551534903834697,
          0.2638094688377821,
          0.05049497379782153,
          0.37962666102864895,
          0.4623514989319376,
          0.8989286234069388,
          0.6914486276384912,
          0.7345428379211244,
          0.4649631907007926,
          0.5664087117922709,
          0.4859730035186254,
          0.9174964485287206,
          0.25579670302042745,
          0.715588581039143,
          0.2176844012820055,
          0.48659055257152295,
          0.5151706305019269,
          0.23432015142377305,
          0.3185568504730214,
          0.7475437309022389,
          0.7372477798081128,
          0.9174475776384625,
          0.24202311156903789,
          0.8993509622646462,
          0.3402375958909608,
          0.853676396825508,
          0.11237874634395795,
          0.5756043272426115,
          0.9127175632601773,
          0.6782965426691256,
          0.63543719623554,
          0.18203913340179945,
          0.9682635572187738,
          0.9584754004177496,
          0.9208382155170043,
          0.05431734369004948,
          0.9711372505096909,
          0.5009405755384435,
          0.2766205808354554,
          0.40843162897386665,
          0.4002231717423368,
          0.2747320638753863,
          0.13516783530725174,
          0.2579917516768704,
          0.25451366717817026,
          0.20099853518585498,
          0.5962613365485824,
          0.11875436408032058,
          0.9904630307530935,
          0.10761248801902346,
          0.3986612111955662,
          0.08166746851050133,
          0.1721758178906272,
          0.5650284922130506,
          0.28853705115302186,
          0.15014906443596387,
          0.1829492728498101,
          0.9441844316779249,
          0.6708449264600364,
          0.47492775674682786,
          0.03089555504774688,
          0.5722153350953573,
          0.2520145123985026,
          0.014473505644331142,
          0.8502989221871975,
          0.20239125670263947,
          0.9265667994055801,
          0.8683846991606424,
          0.3630999541297655,
          0.7394527410108911,
          0.5848728416565072,
          0.4235955441398166,
          0.4037613050513925,
          0.39364537921470644,
          0.8121175124579832,
          0.7243397515887378,
          0.8539581715367828,
          0.026423640904884027,
          0.44424332032092584,
          0.3253699166173867,
          0.20614997072912067,
          0.4964423117643466,
          0.7690929341002639,
          0.38701783445291504,
          0.14404128619426648,
          0.4946749853103982,
          0.8005837333958943,
          0.847379674828979,
          0.7261861023697002,
          0.6092599537528427,
          0.6842852221749146,
          0.5721101237534714,
          0.28400276590485796,
          0.4118263383445815,
          0.7124904282001621,
          0.23634265795414,
          0.3993550296759162,
          0.5881862194642047,
          0.8407800887456305,
          0.750413766254619,
          0.3792410552252482,
          0.9518718796888345,
          0.5874923904671916,
          0.42762795252453467,
          0.6500060189187027,
          0.7156617086188769,
          0.9553691819731611,
          0.17095436248677576,
          0.7920469137331093,
          0.15885075666453075,
          0.6100257171747722,
          0.3822503322380827,
          0.9851607218540075,
          0.07152939865043295,
          0.9423464483600132,
          0.20573824496455428,
          0.015677936525854697,
          0.33864594749286603,
          0.3702350340069459,
          0.9550646947808817,
          0.25958185791443356,
          0.06775631791526748,
          0.3676973220444424,
          0.7342325233790582,
          0.5023947139730092,
          0.2147411218268993,
          0.4822904733247345,
          0.25039801795560235,
          0.7448462541021328,
          0.33197793153359023,
          0.3676948999765973,
          0.7303746454510569,
          0.55920475010913,
          0.5080852887242192,
          0.32423996160384494,
          0.01184768406893466,
          0.31018752049124954,
          0.4985135039000146,
          0.45990409500068874,
          0.08603558458359128,
          0.7552935852709756,
          0.6750092223594745,
          0.8786252474329161,
          0.48316760397597336,
          0.12693001918503288,
          0.4284870614519064,
          0.8175497042492162,
          0.14219501558249414,
          0.813903966099192,
          0.10617499481140902,
          0.30881743588643273,
          0.6903367878702257,
          0.43895358293110176,
          0.39343181966098206,
          0.7201962355835685,
          0.2142009608366655,
          0.7600079595535757,
          0.25529765134977755,
          0.5169750006470984,
          0.3587725935267715,
          0.2789707223881759,
          0.5862676031210673,
          0.4757175527948819,
          0.6203268919815079,
          0.4626411144113648,
          0.2824367749264086,
          0.15530659807715752,
          0.9520553804743808,
          0.5391253021640794,
          0.17049957927113735,
          0.7549145811356244,
          0.18162112895815719,
          0.7553520303356365,
          0.9960626276915285,
          0.009115681951815224,
          0.7893569008277387,
          0.5053267384399586,
          0.4934590720695351,
          0.5835886484902014,
          0.3285617505545442,
          0.30475356050829006,
          0.25269531083300134,
          0.13876487789949188,
          0.5450104864882991,
          0.06705469784385343,
          0.5738728731991233,
          0.6406445837156391,
          0.18647125091419336,
          0.5983748890918597,
          0.7294100709102945,
          0.10132794172566606,
          0.17312549440579927,
          0.06252108484003349,
          0.005228664695291929,
          0.2824953176792705,
          0.7367571351624833,
          0.3930231741462574,
          0.12363682943497267,
          0.4186873840767029,
          0.40284485547848425,
          0.4863762741777994,
          0.833748639464652,
          0.554367427740474,
          0.007538637613460741,
          0.017005691933844935,
          0.4726278024447629,
          0.6359315931850169,
          0.14011877294616004,
          0.8866428042321328,
          0.5587656193401319,
          0.5094842516129823,
          0.30217022769096724,
          0.610168589611667,
          0.5085165191180295,
          0.41614859525547654,
          0.9017855395936029,
          0.6374689682350191,
          0.7856847659690019,
          0.4327796260493777,
          0.06878199384358175,
          0.22229402110476681,
          0.9939375413530657,
          0.13008340914988203,
          0.15541051982158993,
          0.4356029820081089,
          0.6993397579641848,
          0.25886980702234286,
          0.9408386662450291,
          0.7959067727574215,
          0.3431496584288014,
          0.808276134984361,
          0.7216512618628844,
          0.20935286111618,
          0.42278151570438693,
          0.327404324461506,
          0.3053105529317972,
          0.612543186710958,
          0.7635841987180763,
          0.7265683070686125,
          0.2542051563797282,
          0.12548483965639412,
          0.8217317053814533,
          0.9171781130629789,
          0.4487367504430072,
          0.9869640390610006,
          0.745726067820742,
          0.7672367110541913,
          0.43258477488161085,
          0.8550593367358207
         ],
         "y": [
          0.6619402441876058,
          0.3988730573916821,
          0.6307034532973227,
          0.029510344609871675,
          0.19334183585843234,
          0.9383161436216041,
          0.41294069097775965,
          0.8379186568736551,
          0.6574759486088768,
          0.9600386237901702,
          0.2134824626616868,
          0.4596141635995513,
          0.14626501143395854,
          0.13658545004350675,
          0.30686733397444566,
          0.4497122289617185,
          0.4879629226738422,
          0.2074515645099967,
          0.9390849144438898,
          0.5515941524154301,
          0.8527338550819765,
          0.5002858527438694,
          0.4562897601249125,
          0.42153135574697764,
          0.22084386792450972,
          0.10080827217857169,
          0.24118012079919893,
          0.8444672302434608,
          0.6938080869645564,
          0.032065334659223454,
          0.18374367816896997,
          0.6063924670339574,
          0.016939488142483694,
          0.7441807532821576,
          0.7773575795913971,
          0.7481179866692164,
          0.42918386393667707,
          0.5890999630603055,
          0.9129106185724403,
          0.8861844109712094,
          0.1185954173093201,
          0.3269894191566399,
          0.0896693656112163,
          0.4298703012491101,
          0.6977351544606527,
          0.48462508005778904,
          0.4869223271581121,
          0.16855285396321062,
          0.20846251201319532,
          0.9873920339843553,
          0.9995265619281029,
          0.8042047616673643,
          0.20647930577173812,
          0.22373619559110025,
          0.21942695583812888,
          0.4642978643850343,
          0.7862293255231757,
          0.1750511807164704,
          0.5394197858348261,
          0.36872725239557247,
          0.020956192727670242,
          0.2026261729231129,
          0.7720193606559511,
          0.7766369947134473,
          0.2561707917483915,
          0.344771961419031,
          0.3975217044858287,
          0.8169366377608285,
          0.5282929397171919,
          0.2804688954910811,
          0.6757519222203816,
          0.39498625911229357,
          0.7916672908897894,
          0.010449104463092551,
          0.0867072320939205,
          0.06868341898473962,
          0.5232743616812028,
          0.9582478660397578,
          0.5037706830540238,
          0.9008613613252484,
          0.046137733350181453,
          0.8940259413067857,
          0.2864391816786611,
          0.8006744514488331,
          0.6124305452180723,
          0.7962937396062323,
          0.12155428394678403,
          0.6751235667055507,
          0.4661911440035077,
          0.9133488989531721,
          0.6592556243199376,
          0.8848587078981235,
          0.701804493413769,
          0.8696661382808042,
          0.12049670544449664,
          0.024675038558237605,
          0.29009233870757634,
          0.06619544966831503,
          0.8025623907845271,
          0.9002609089400546,
          0.10795123304499166,
          0.2900368467931459,
          0.5901046301138048,
          0.6572598867120281,
          0.292874744417022,
          0.4189217684335482,
          0.15691367943077095,
          0.97749005681422,
          0.25836539557626437,
          0.46874733699772797,
          0.33874776400974604,
          0.41682592886244885,
          0.3718575072017055,
          0.18032002073236764,
          0.9293549397191404,
          0.06166765057442447,
          0.3209693112401292,
          0.3086484626246514,
          0.4206007810796254,
          0.017890717294639757,
          0.5457676839182559,
          0.11991588206083803,
          0.5428253605700483,
          0.2833983260936326,
          0.4789521128630122,
          0.6742175321834007,
          0.1869258204177512,
          0.7448384297972069,
          0.31105589254389865,
          0.7380496380798222,
          0.23929035582510616,
          0.31356456492906337,
          0.5911861913866268,
          0.2729775138253313,
          0.5557230307247892,
          0.3629643311792633,
          0.3633496364905544,
          0.20827621472288926,
          0.3444515542158775,
          0.6189169265063749,
          0.6863183730097205,
          0.05995570571704478,
          0.23160898664015683,
          0.4627654887711381,
          0.6901709091262659,
          0.07056208383284246,
          0.3056654391389928,
          0.007671446965838102,
          0.8480505226237111,
          0.24666993837984041,
          0.6741861279347623,
          0.06807780275368891,
          0.46996527877580174,
          0.7728369800313583,
          0.10871512356439028,
          0.017494814851998663,
          0.5684201553751536,
          0.4477064839468732,
          0.6589094679764711,
          0.4790047819418234,
          0.46022841515846613,
          0.7165371803755798,
          0.15814184230609718,
          0.29495753008771197,
          0.9880689017072729,
          0.2963639454765278,
          0.04998792686691844,
          0.3491220433127754,
          0.3479473831768485,
          0.16832322763325336,
          0.5284399278368944,
          0.1181863217793554,
          0.30728369645175835,
          0.45128669712424063,
          0.642434155403694,
          0.5613444344864819,
          0.07177597674480585,
          0.3578495175515455,
          0.8577195153061354,
          0.4146797974351043,
          0.22488915955248534,
          0.5793736421094485,
          0.6129678551755929,
          0.6978024772123481,
          0.39886554857100587,
          0.07796152745632468,
          0.11702024556010282,
          0.21272689646738707,
          0.6278581643366433,
          0.5429208458103638,
          0.5925952358951626,
          0.4326640836502118,
          0.1560351498294481,
          0.12665908541899207,
          0.953238185046565,
          0.3727510002843212,
          0.03293190814690672,
          0.5209065230431574,
          0.6292850599205829,
          0.5180236619099579,
          0.0858849875295048,
          0.08246724597453803,
          0.8746361829449681,
          0.051296023057299744,
          0.5912669376257678,
          0.6858059535275413,
          0.840831261479413,
          0.7407616531100595,
          0.9596288379438166,
          0.1307230779209002,
          0.1948763816882395,
          0.35810354401900846,
          0.9556606491607404,
          0.06711479999810688,
          0.6325173235611755,
          0.8355171739751284,
          0.06399189319176946,
          0.6735687582537331,
          0.5654302091064904,
          0.7076800140250186,
          0.5981166459534007,
          0.9670936144928912,
          0.949718142250731,
          0.5250479163353994,
          0.3457998765006185,
          0.00874778642463292,
          0.07045400721080453,
          0.4636469749905193,
          0.026491490732968415,
          0.65197987302443,
          0.32841300135837437,
          0.23094068115248556,
          0.18911778237176147,
          0.7149088518270532,
          0.10382246597789346,
          0.12642318951709863,
          0.2574788263351513,
          0.07871827449553315,
          0.455398674902625,
          0.8958908210925977,
          0.4075195294190025,
          0.9114621493239337,
          0.9261953647447125,
          0.13597334608698253,
          0.2694257484163125,
          0.019049996589959872,
          0.7530597224821002,
          0.6735730243692745,
          0.2687008111929312,
          0.01989372276314616,
          0.8194187964027333,
          0.2954145470858659,
          0.1071889316975515,
          0.2595771501082319,
          0.7748663066646161,
          0.7988666899777965,
          0.8038759483496171,
          0.4410628678818701,
          0.5627591210929231,
          0.988685250606121,
          0.023468108838338386,
          0.30565681228603425,
          0.5816314450311695,
          0.580073459627912,
          0.9513282563721553,
          0.8818539049384343,
          0.18165448445176102,
          0.3010247045036636,
          0.9414986338472442,
          0.7731085848607233,
          0.27115097616286077,
          0.9275367159821077,
          0.4749511341308812,
          0.14475547361929642,
          0.3507354701568234,
          0.2376719743786293,
          0.5993110870977248,
          0.18355045740055587,
          0.9061677777798525,
          0.18568582655247612,
          0.802282610233116,
          0.27726992310531806,
          0.9412931756037397,
          0.45174025935158835,
          0.8290230039613509,
          0.029235041238546033,
          0.5424925434941273,
          0.18129289569055518,
          0.5483018397222609,
          0.19733717791633998,
          0.6614975669756554,
          0.29310953184219846,
          0.5502567738507185,
          0.9309958553010172,
          0.7013577795518962,
          0.12390970101155485,
          0.5819615264632391,
          0.39858915091082836,
          0.5816429184172552,
          0.20557126170429096,
          0.6278233380315997,
          0.12039153409401193,
          0.7522554881962875,
          0.41809792093149256,
          0.07967677943402263,
          0.33477395722509173,
          0.08453009174944504,
          0.3962256315391369,
          0.5268170271559489,
          0.25897381395684804,
          0.34287351960790435,
          0.027993579905183363,
          0.9190182755003742,
          0.8690608458974444,
          0.9433836329514497,
          0.5303195472400999,
          0.26935790332946297,
          0.6681678598722576,
          0.15921629867213405,
          0.48558981125499967,
          0.9662121116277623,
          0.11826704898415197,
          0.963101330239832,
          0.30538339852542806,
          0.43934712490004413,
          0.8053138255433612,
          0.339544624041875,
          0.6402484404700365,
          0.37028670184800727,
          0.0795355861685193,
          0.13785161562215253,
          0.35368981102984787,
          0.5592665153955737,
          0.18579804737969674,
          0.44023048682357924,
          0.681653943302695,
          0.40157787433965075,
          0.7101214689621361,
          0.8103120343630964,
          0.8961075642681519,
          0.21800654347766524,
          0.08535616161815118,
          0.1836238496956637,
          0.04041758177188115,
          0.8212808577899606,
          0.5456906741284273,
          0.6254345399140726,
          0.9790193290854221,
          0.5804909003882158,
          0.08977376580598673,
          0.14862537685429167,
          0.8391586293070765,
          0.1537675788790679,
          0.6862437671649159,
          0.9996864864629311,
          0.8553243833109676,
          0.0935849795032665,
          0.09303832882991081,
          0.512663351872879,
          0.5658213056646926,
          0.9279729199695751,
          0.4118424179160841,
          0.9854399086199895,
          0.9901491577174636,
          0.22531648469838805,
          0.32152223766010646,
          0.7298235192873045,
          0.3277256713616743,
          0.700943645428375,
          0.8022828882286145,
          0.6983131340002345,
          0.8319870748048447,
          0.304785632575476,
          0.8408128076158118,
          0.0004298771382211797,
          0.30561784327610597,
          0.6020689216325772,
          0.46028616784088616,
          0.5256655228271955,
          0.35293952908448756,
          0.4358120296892033,
          0.9671721636795072,
          0.6977593819663888,
          0.5065038683384124,
          0.25202335747002147,
          0.09700246416659042,
          0.2641017139959452,
          0.4635883059527426,
          0.6862203298809206,
          0.09538122798331494,
          0.5872724411400896,
          0.9045948650878806,
          0.3331400345081137,
          0.7769387063696467,
          0.7550726707813558,
          0.1273527553348337,
          0.3132398629055685,
          0.005841094055137663,
          0.10019315379809346,
          0.2723700311479653,
          0.3553156221603335,
          0.9477523852947158,
          0.9622911014813608,
          0.9167823378825182,
          0.9821318207696579,
          0.8439794454070791,
          0.4802280813782219,
          0.9736871081763628,
          0.9468963377517179,
          0.8732195263450432,
          0.05868960857249694,
          0.805413378968797,
          0.12825239591114013,
          0.7713290603831902,
          0.9179022107835503,
          0.9721851893778959,
          0.8688665590482966,
          0.1917971125821918,
          0.8884661841828286,
          0.4954300964176117,
          0.9473644753308086,
          0.5815939464950126,
          0.1911386367533332,
          0.31773755368368173,
          0.4773596564614533,
          0.22722551080567333,
          0.0021704842870936547,
          0.10321663770873102,
          0.9631746868811779,
          0.9557749812468674,
          0.852389269305765,
          0.991528329809603,
          0.14241189518230912,
          0.8373568770005055,
          0.11294269220629927,
          0.8670048248606257,
          0.8856994896078187,
          0.3198893143806586,
          0.16704170977661337,
          0.8779073684486219,
          0.697156560312623,
          0.35529379503803415,
          0.5322208518870716,
          0.45291899074770325,
          0.301283981692098,
          0.09685315843295572,
          0.774748229538512,
          0.36874642766544463,
          0.84965215308432,
          0.6847571426319251,
          0.6535008762138383,
          0.09396610491306767,
          0.8631630978928577,
          0.19693086422438766,
          0.019174060087078337,
          0.08583254021114495,
          0.6028971050822883,
          0.17127814660208263,
          0.4147347774126663,
          0.3222098832574475,
          0.6689042101007407,
          0.6130447500272772,
          0.34714182456496745,
          0.30348915528649456,
          0.7912342504694063,
          0.571126656001256,
          0.23793650537714006,
          0.9573912853496924,
          0.4699184808847793,
          0.8343446391943682,
          0.15426093206219404,
          0.7669203806541276,
          0.26715758196645056,
          0.420248400811397,
          0.30126224270696267,
          0.5547334165589468,
          0.5338827973367359,
          0.5988764916142196,
          0.46360011681326296,
          0.46530688239285944,
          0.6955355289612832,
          0.21351974570919385,
          0.12374497631071735,
          0.9765213750823877,
          0.34448641352138665,
          0.21789345298593743,
          0.19069815485843689,
          0.5766768346769917,
          0.5095220387656723,
          0.4141802465177653,
          0.12122730088010325,
          0.5117307512509801,
          0.5360881904925376,
          0.4833865596197645,
          0.7768471530363339,
          0.8552552658162242,
          0.24691459364478652,
          0.06766571509299224,
          0.5114364015996319,
          0.3368757345453387,
          0.6748132099457985,
          0.3276037422120567,
          0.005856790303964243,
          0.38666060833697924,
          0.4065812865877666,
          0.10486782133973427,
          0.4913844468348223,
          0.24806070572503325,
          0.5939263463408079,
          0.803369505391599,
          0.7338654548387836,
          0.2414643387414216,
          0.6334739551739268,
          0.7039266386168175,
          0.09528473463300213,
          0.20141980359381972,
          0.3516479598039036,
          0.5717286034553422,
          0.5871013278366237,
          0.21768675258937753,
          0.6239256346073581,
          0.9496020828181818,
          0.7987090085556594,
          0.9118264108138067,
          0.421254180232127,
          0.33151399847474483,
          0.048448432376926864,
          0.7386578984453255,
          0.7127482686324648,
          0.9705604215755483,
          0.5461103095426992,
          0.5767803014801232,
          0.7452094508614949,
          0.6654209558430748,
          0.9605994538535462,
          0.07544970023297759,
          0.05929095024609676,
          0.9963462897439289,
          0.25826502136435525,
          0.07119114513115832,
          0.16173770864399062,
          0.6822689374050904,
          0.5846948560526086,
          0.8838066054866635,
          0.23101761925357267,
          0.1584901863501177,
          0.2151938556455406,
          0.15403658208853066,
          0.0018154012307569634,
          0.6214414257776332,
          0.8488603135180951,
          0.16342601080057007,
          0.8740732644354299,
          0.562739177520875,
          0.3007107210429739,
          0.9301771849349253,
          0.6199304636217609,
          0.37233443387423226,
          0.5653430493469335,
          0.4544889189690824,
          0.5024234170657563,
          0.01667505491769694,
          0.7704969137519433,
          0.34626343156161155,
          0.6692452303185086,
          0.07690906006614318,
          0.6510630167395675,
          0.5708739574153748,
          0.6701149509844115,
          0.7279363206684757,
          0.09767721276219954,
          0.4446023174941921,
          0.2033967521907839,
          0.9993559310525936,
          0.38938897422811847,
          0.016995446387448654,
          0.15357169907811763,
          0.6809111431791233,
          0.28276649089958183,
          0.6814442091650662,
          0.4162874274931513,
          0.7416774657516612,
          0.2151744130335166,
          0.610501618797338,
          0.9255184919970053,
          0.49516085197880166,
          0.2481196672304402,
          0.4427812247247359,
          0.5326274038936373,
          0.5693516821237923,
          0.28615299563177243,
          0.7949952787373339,
          0.9274488308012679,
          0.23772017871600637,
          0.5470459227505157,
          0.4005868655173226,
          0.4857266873344849,
          0.08871369868474621,
          0.9916106197147071,
          0.4945303855508939,
          0.6680685605670408,
          0.5603165781006302,
          0.8805388277209648,
          0.626256076966652,
          0.46619163819032616,
          0.6815160221221043,
          0.5568326800440978,
          0.08241210826072398,
          0.19041485870541508,
          0.7736621455782354,
          0.329658346804252,
          0.6358284048849938,
          0.3162491320221026,
          0.9505602526951005,
          0.2842257673246793,
          0.2791648310042716,
          0.28032959581452144,
          0.957098867078037,
          0.995543026946752,
          0.14628665829785326,
          0.6301043857865057,
          0.26692522501024907,
          0.4068404138813936,
          0.48229315767751013,
          0.3834295317066031,
          0.7065982127241306,
          0.30128036898700483,
          0.44458456672179514,
          0.37814397458245363,
          0.9329859538190092,
          0.2809097804130056,
          0.3558054467136633,
          0.9870996518498886,
          0.503799158524472,
          0.36998585807599027,
          0.1758402648034545,
          0.40495258980567794,
          0.405676821850686,
          0.058542801871058536,
          0.22584505363973884,
          0.9679334411212548,
          0.8068248096279231,
          0.9467652799098886,
          0.9726699748278804,
          0.38265574268439784,
          0.7922597610112047,
          0.27924492950131374,
          0.3629243456926602,
          0.7555452355187781,
          0.38213915979059887,
          0.702054157247324,
          0.6198160294202771,
          0.5825126383600484,
          0.9481615497013327,
          0.34074817449729244,
          0.6100857607103991,
          0.20111279470179222,
          0.5137605036345685,
          0.24672888844603447,
          0.6189323966112541,
          0.15322450480851135,
          0.5908634957484705,
          0.5489528798638691,
          0.7663710976972253,
          0.8344850726250114,
          0.6516675640819747,
          0.4782765754169509,
          0.7297391857250395,
          0.03958515564420784,
          0.8278821526864217,
          0.9091692469611838,
          0.9847090155097861,
          0.1706988214068963,
          0.78090691440881,
          0.821098619168811,
          0.926244751284774,
          0.6150947333944515,
          0.6386464132770627,
          0.6456949306457741,
          0.4619590332818835,
          0.902770159396702,
          0.4099392107128539,
          0.18701485509698557,
          0.28165200825273784,
          0.7461410897672244,
          0.40213402535447884,
          0.38853453762940826,
          0.12483131184314311,
          0.5395278528427618,
          0.10419743803399495,
          0.07738974991627057,
          0.13516820250205208,
          0.5968318064839071,
          0.6407892128802041,
          0.03300484202891796,
          0.4471421401225547,
          0.4559749281096571,
          0.757257199466194,
          0.8736566893444281,
          0.13782801671205613,
          0.43710354420945396,
          0.30847603748176144,
          0.06497764210857704,
          0.47187903979687296,
          0.7488154149415253,
          0.9207436839356912,
          0.7896495885834303,
          0.2343547874760249,
          0.3896677493846892,
          0.3453840161117254,
          0.16852234122400678,
          0.9436979988177941,
          0.18879428647263607,
          0.3376114758941726,
          0.32953082786952625,
          0.813183257602559,
          0.2630725881327214,
          0.7432597934113478,
          0.5625120578058724,
          0.22060320412785084,
          0.20336122967397463,
          0.4656750718446212,
          0.5769355976831405,
          0.9837852743878474,
          0.6798988127001334,
          0.05857883825718335,
          0.38042709772055194,
          0.16668050504793364,
          0.5399723472645503,
          0.15195623730624885,
          0.37006917861538813,
          0.9404503763191586,
          0.7487683487129656,
          0.40166227174361946,
          0.6766205545378348,
          0.8220684673240687,
          0.47114906089796105,
          0.9782221596791002,
          0.3306780857844719,
          0.9375538004038432,
          0.9278704487927173,
          0.11962200321497485,
          0.7092287173420562,
          0.5120925734023412,
          0.5977580325792672,
          0.283604737905369,
          0.0367422680459254,
          0.39498933361680333,
          0.6421573574976813,
          0.7881314913713932,
          0.667846755453003,
          0.7002278625088583,
          0.6407295203255592,
          0.5255040037874966,
          0.6869899655494509,
          0.9406789611092609,
          0.09911247325207351,
          0.970314144967012,
          0.2474656423442987,
          0.9519738017179079,
          0.6525983395471217,
          0.7008196578779406,
          0.94367751354452,
          0.6136310024137591,
          0.04781661955428007,
          0.7570494913629785,
          0.9832200660035857,
          0.5462537904194419,
          0.7064169136013152,
          0.61214219064075,
          0.6805539549731117,
          0.44802908867152214,
          0.7797142075867577,
          0.0009865101747885685,
          0.9841497514216219,
          0.705687901823167,
          0.6520604198963079,
          0.1568450714649119,
          0.24067885958313662,
          0.3498320610407585,
          0.888062749469833,
          0.6995203708207898,
          0.483195867100773,
          0.754263576711306,
          0.26068330777209836,
          0.14907211005526844,
          0.12426298326449448,
          0.7663084620762259,
          0.1766150340705963,
          0.6942369423943692,
          0.39821236741511357,
          0.01631324278839208,
          0.7195052564310445,
          0.9434235339741047,
          0.4443387961878813,
          0.48983794289281757,
          0.06395444353456803,
          0.5904703397054365,
          0.18712555046311774,
          0.5327238981669434,
          0.8941326041207867,
          0.8903796600390728,
          0.8815153244628745,
          0.7720757872916677,
          0.19531991783171554,
          0.9747666811538352,
          0.17249047716313803,
          0.9731850741369253,
          0.39459966931397705,
          0.9016817490809541,
          0.20069392130990327,
          0.6566546050557833,
          0.0003500671970844138,
          0.7965723894993932,
          0.5984527568875415,
          0.9688066777848291,
          0.4491093013244536,
          0.6639922674470202,
          0.9021827797095062,
          0.3933436525982952,
          0.42555436332582364,
          0.25800938474884705,
          0.19934472017309124,
          0.3119999552015633,
          0.03013401907624047,
          0.07821037634042327,
          0.36366921790396634,
          0.15775987192747065,
          0.44770399829149976,
          0.576294754034114,
          0.743997897721944,
          0.7898618638447562,
          0.6347010470948897,
          0.8159492059215211,
          0.3866046060569416,
          0.14864455202501436,
          0.8394722481125717,
          0.5707189188722994,
          0.12351377771420147,
          0.4326668691539708,
          0.7129309400650916,
          0.904547354074398,
          0.9158706824339202,
          0.34857414609781934,
          0.8453809920336764,
          0.1212722991217492,
          0.731961295629996,
          0.9487397093442985,
          0.33928110658952637,
          0.8588983117969137,
          0.20061396608703363,
          0.2884583219697241,
          0.6957518290581738,
          0.15082963183595643,
          0.1504655377164862,
          0.4912885382320573,
          0.8783491661376888,
          0.8617989558377861,
          0.7852539442164059,
          0.9527288650837104,
          0.1676558585625424,
          0.6119852671213445,
          0.21550480634023017,
          0.27863142794004536,
          0.5773731110843899,
          0.8754618148338992,
          0.2659367228776931,
          0.8349947847416862,
          0.7295614427133398,
          0.4662358554292858,
          0.20861447743531525,
          0.33248980422438446,
          0.49013267499909063,
          0.31332954642268895,
          0.6647333733649974,
          0.6575259926860697,
          0.23150473369657532,
          0.5692389495230581,
          0.20194295947849794,
          0.5161078394208388,
          0.4696198610235405,
          0.7039538198219267,
          0.810521874730934,
          0.9293289864076524,
          0.12486782082448378,
          0.15264710839834583,
          0.20080336689773937,
          0.4809298229253065,
          0.14927287725388938,
          0.21838211258307794,
          0.15840012437002482,
          0.8134465028738372,
          0.1093806917283503,
          0.17749028478922158,
          0.9709280011003127,
          0.6033703251688564,
          0.6513823933874642,
          0.14064180380108116,
          0.22175733554723487,
          0.7609722368197037,
          0.05228327099931551,
          0.18200094877773365,
          0.7509367214469737,
          0.36911617848938405,
          0.2534062825797232,
          0.6315954743216747,
          0.5688369790029868,
          0.9337200891288543,
          0.9024925490601132,
          0.6409596476980125,
          0.3014618196142623,
          0.5479189678372923,
          0.38300606436738804,
          0.06096741262360594,
          0.22298690185159964,
          0.7434965028617229,
          0.5618354129520431,
          0.18033775276222863,
          0.2418911229203986,
          0.3261657425950324,
          0.4432995899498363,
          0.39959711354227034,
          0.6821143236946567,
          0.571383870992831,
          0.9907403465510284,
          0.8681716968181701,
          0.13215925560517472,
          0.9437447443953564,
          0.7327849228701033,
          0.27987956472710485,
          0.5864520529644691,
          0.5495800205170045,
          0.40597741101383955,
          0.6085555132217344,
          0.44883750200778927,
          0.4466274664512673,
          0.5819260921924422,
          0.3686396796078403,
          0.96280982390827,
          0.6503540080128708,
          0.968987922332368,
          0.612774154453724,
          0.42825344009247635,
          0.5933379499578442,
          0.7518833455889661,
          0.4941880185929114,
          0.9621296638244218,
          0.2659601797565686,
          0.6026322512012373,
          0.7823040272729972,
          0.9026338837089144,
          0.753357145334258,
          0.8233738209073423,
          0.4672421274773949,
          0.7310256881088248,
          0.12765914732091677,
          0.8589536374366221,
          0.7189445820075446,
          0.9273942244781801,
          0.6305879102626284,
          0.23970644229515925,
          0.38876813693945833,
          0.783177919140155,
          0.23504212248008538,
          0.4628381786267719,
          0.35843219815618277,
          0.7564221726366018,
          0.33972690896862245,
          0.6112542665920154,
          0.7284363955743031,
          0.44641277403519186,
          0.33090391181608847,
          0.8020248320757523,
          0.5129100872872592,
          0.7087471943463357,
          0.8851842089646296,
          0.2783735980012466,
          0.8352745348098501,
          0.5216992013860342,
          0.45025490474123053,
          0.24834219593759144,
          0.4516921858884063,
          0.7341192084086322,
          0.6567946205995632,
          0.6885167050086399,
          0.9279691192429853,
          0.053477016734390426,
          0.4517441121180765,
          0.7196913682765199,
          0.6835006577158805,
          0.7007463525600002,
          0.29020195709305774,
          0.6195525889914593,
          0.961245333048339,
          0.2583678482865651,
          0.7543594064225677,
          0.9025375321919602,
          0.7145968007286294,
          0.8488509962047904,
          0.04710704202460092,
          0.17254882632497748,
          0.04618496733615696,
          0.9067222321761815,
          0.85467031146562,
          0.20705588050808688,
          0.6857078813452041,
          0.6277334390616784,
          0.9073331024006784,
          0.6259211719471935,
          0.17603278148172852,
          0.5446987095604423,
          0.2018003020261543,
          0.8039869911167321,
          0.6173639658113593,
          0.07117197788657947,
          0.7080983706819445,
          0.7311458281794925,
          0.21475921825259003,
          0.593074028460171,
          0.5284262428365709,
          0.37603651113558734,
          0.7215821075243003,
          0.8511998899779589,
          0.80002013584751,
          0.25341468374414844,
          0.8369887020335625,
          0.6101543094399935,
          0.6744872138836738,
          0.6205018077967731,
          0.8038519702092883,
          0.5843647807454964,
          0.12217437253208363,
          0.41913470706859934,
          0.6627833840567111,
          0.40320807539755743,
          0.6966328430441748,
          0.7403213582991199,
          0.46810306472792695,
          0.2751637661394152,
          0.35664614765640434,
          0.785012102405109,
          0.5124932649686997,
          0.6736759836212703,
          0.9620649470023742,
          0.08419118916350432,
          0.9625883814411818,
          0.34432195507690777,
          0.7197307121980399,
          0.8076447964543209,
          0.5781998952972442,
          0.6950242723256602,
          0.7405944716053083,
          0.033412567410194494,
          0.036875185188170345,
          0.24930995615620177,
          0.1674484938332378,
          0.25115850844551046,
          0.8606503131390278,
          0.028432635934577233,
          0.36127669496939485,
          0.4759207003963273,
          0.95675166074403,
          0.3711884945083592,
          0.4067567067398501,
          0.4377966552331044,
          0.5660369564039652,
          0.5138963107291511,
          0.3960825155984027,
          0.15068973953286002,
          0.27790139339560727,
          0.6067444936011579,
          0.8004577767765978,
          0.7574236001731202,
          0.5094829387938097,
          0.5869653566120143,
          0.5529331315378236,
          0.9546551074772064,
          0.4805834078898704,
          0.5870146699950544,
          0.7463154249340846,
          0.5635585457426832,
          0.9746223132989232,
          0.34532928796819573,
          0.004032556142947175,
          0.7269208573930728,
          0.2920117015817004,
          0.41206938678628724,
          0.9051057620322763,
          0.40162137993679614,
          0.20738660075208648,
          0.849085774000386,
          0.6587271049912906,
          0.7355185181086439,
          0.014351766550515066,
          0.7258848077109813,
          0.32745278453754045,
          0.3427989879355938,
          0.8446162434370083,
          0.9167243941586055,
          0.7946978895267309,
          0.7935881574745536,
          0.33254031354494373,
          0.6932314250108227,
          0.698317588253514,
          0.3450524505705783,
          0.34205193099610764,
          0.7273975977446334,
          0.23122896806746485,
          0.9207977575098798,
          0.6754018217515979,
          0.05427820733939559,
          0.8261944334214629,
          0.7909049531187466,
          0.6890879078138148,
          0.6760323600463045,
          0.6967706584295854,
          0.6288695850036267,
          0.37870772054717217,
          0.8190928239696135,
          0.0866429645394664,
          0.7140903149182213,
          0.7296399244546066,
          0.7765307728670873,
          0.09678625531531493,
          0.018133932956809207,
          0.3196176482251363,
          0.3793589267766324,
          0.8558371831953182,
          0.18699846709362755,
          0.40013648442641014,
          0.9259858149708361,
          0.395462988334641,
          0.6483079061907923,
          0.9274963934270096,
          0.5414106256234278,
          0.29992488074230306,
          0.7321830640863134,
          0.7524158580654804,
          0.635878426096367,
          0.682963125955959,
          0.26244230959040593,
          0.5644927699869753,
          0.02326111340907311,
          0.22400128311974032,
          0.21583732351255092,
          0.9224723743564968,
          0.6762650668787535,
          0.5274958272154593,
          0.12760059358563203,
          0.5365732882012053,
          0.5676575919826763,
          0.557481090586187,
          0.014363447610355684,
          0.4452376849152312,
          0.9922401858068145,
          0.9072579700594189,
          0.3746435439646736,
          0.24728273612839136,
          0.5264157587302828,
          0.764322855778968,
          0.13732979472720352,
          0.9900678174217166,
          0.5300328603335194,
          0.6387557923028766,
          0.5383167255228235,
          0.6316380345378616,
          0.7662016243543982,
          0.06312211787314959,
          0.670161287466537,
          0.9624079306701908,
          0.4412792000429161,
          0.9436955552286971,
          0.13423476471232887,
          0.2933187289165532,
          0.3576960109858609,
          0.6831095761991502,
          0.08282118094942403,
          0.7876360236035992,
          0.10689153345276947,
          0.1474829861057675,
          0.6110624487719433,
          0.7828810984085773,
          0.43024125205446795,
          0.6384704451006437,
          0.027294875317393053,
          0.7443045953459707,
          0.07135683124467196,
          0.8438033945739597,
          0.8976782194619006,
          0.7509092325294493,
          0.36625826026388575,
          0.7721956732677282,
          0.7454989903375874,
          0.35638928171599404,
          0.23093806878255096,
          0.973255905511026,
          0.1563453918033234,
          0.08537986756413041,
          0.02138395117255254,
          0.41797312772233575,
          0.04416589967717355,
          0.16771065105145555,
          0.17409948922797602,
          0.21566459566731255,
          0.1934891108958321,
          0.9776532418625618,
          0.9963946329491478,
          0.4835125950921515,
          0.8198182555334694,
          0.008963826702239053,
          0.4944207931042893,
          0.32574976214179574,
          0.08251705536502496,
          0.602037290527661,
          0.04223914262110162,
          0.3305283408180121,
          0.02533887219689246,
          0.6013684638017036,
          0.5559797085766502,
          0.4077290400146121,
          0.8711065654722916,
          0.1946820681505056,
          0.5689330254957085,
          0.23742579072516246,
          0.9257198682494476,
          0.9053864348771827,
          0.6209039056716547,
          0.9934742854990051,
          0.5207531786735353,
          0.0708119697825178,
          0.5217518612778826,
          0.9796213445771569,
          0.7315131219742037,
          0.23542049744524596,
          0.5173279747090977,
          0.6350778915786562,
          0.6823718964869703,
          0.8336384478245805,
          0.5134243662053507,
          0.9658390015296575,
          0.820985155460197,
          0.854344347184841,
          0.19326407805196755,
          0.3681425290995859,
          0.013468028421990574,
          0.499468709671247,
          0.9171458524476654,
          0.8353705707572029,
          0.0229049547972775,
          0.9117020735142584,
          0.8976797755857834,
          0.9173003926656141,
          0.5295746436335554,
          0.26423654830238463,
          0.27921846858254806,
          0.29759818658401205,
          0.590694821686998,
          0.7442658390294662,
          0.18909398011909406,
          0.3534219766767167,
          0.04325657677245076,
          0.6158217999537743,
          0.6392195522062445,
          0.47937956049091246,
          0.9491462538024026,
          0.3966322285611945,
          0.5630563652719398,
          0.3947754399261433,
          0.734991891469878,
          0.48075973641206515,
          0.6329728921589677,
          0.943084382520163,
          0.06526385157828285,
          0.8534759258547349,
          0.09680147455382992,
          0.7829054715415115,
          0.07075374754181196,
          0.3459610532344852,
          0.9125089158489778,
          0.9401359735856194,
          0.8045108556174766,
          0.99630911750125,
          0.4453767020136069,
          0.3324633128253238,
          0.6500683732606722,
          0.4406029510086389,
          0.398182809848169,
          0.22215422766412884,
          0.6198438063042686,
          0.4109306041485167,
          0.9120305802494072,
          0.5776307211721374,
          0.8094149692039123,
          0.38568951263050755,
          0.1277823112908023,
          0.5429501704315213,
          0.24349794070323905,
          0.9880626569671968,
          0.24788925079148794,
          0.2578897905994062,
          0.37416641394950334,
          0.15688550586949357,
          0.9314604955926568,
          0.8762268200484302,
          0.3671828255657805,
          0.4453043953397259,
          0.6113325420434845,
          0.2796845319104889,
          0.0497497988732325,
          0.8071077043744537,
          0.4232555133086151,
          0.7191261843478234,
          0.42241888726542987,
          0.12744548168245984,
          0.1799771937658935,
          0.7970040181233773,
          0.5725030791866557,
          0.00204628375097049,
          0.970568804799723,
          0.6658859672662161,
          0.9818429416975969,
          0.8960976060317817,
          0.9384862307842375,
          0.9985361025286971,
          0.2392417307218081,
          0.38613689257404815,
          0.9824534112439256,
          0.5762385931435136,
          0.15035573425833615,
          0.5921214838236307,
          0.08963309061983393,
          0.1967332200139471,
          0.07743713518628392,
          0.3754481347558344,
          0.14384150522130668,
          0.16428659358219244,
          0.05816209217745749,
          0.8546493118058314,
          0.8499227604813548,
          0.8154499442399126,
          0.9436997686054244,
          0.8480998429942977,
          0.29567647820340837,
          0.5771807326876581,
          0.17229414074916372,
          0.9777075304786468,
          0.7271657333409046,
          0.8943283826104671,
          0.9003698728173226,
          0.8560720561369588,
          0.9454521784696953,
          0.18385033532330208,
          0.6271772313852605,
          0.6293741981025839,
          0.5805607959265093,
          0.15787849070145166,
          0.31325702110639664,
          0.3908630129310784,
          0.4471526602657968,
          0.18689720943040145,
          0.4042850956279648,
          0.23918649010735615,
          0.04762834518729653,
          0.3447997706201702,
          0.11445039997413098,
          0.8488178384513911,
          0.4696928093022187,
          0.951818980211105,
          0.2883680845976887,
          0.5377141583934599,
          0.7795924194668354,
          0.2959791365564646,
          0.9521413391323533,
          0.5061486336663807,
          0.18410147334115012,
          0.5696053032052306,
          0.37956947122331797,
          0.2641686740456576,
          0.17383424461687458,
          0.25642849309700855,
          0.8340612802041317,
          0.4935060170623461,
          0.7425260052571716,
          0.09334989993039011,
          0.9590680974994527,
          0.4682348803554671,
          0.8705217899510383,
          0.8942009961915117,
          0.7017040729655367,
          0.5703387934058284,
          0.8049567646750778,
          0.5565397124278401,
          0.7252366615014038,
          0.30040043741504663,
          0.2733894902067595,
          0.08922293906647472,
          0.23560399517229358,
          0.8113758728362856,
          0.03547824414367118,
          0.8645567311898933,
          0.29896222317419474,
          0.008150808547238153,
          0.7227688805514128,
          0.23913291495902445,
          0.1309904317590973,
          0.7304724770934646,
          0.7338500647200262,
          0.9661943016827662,
          0.8932349429122692,
          0.7896118494660083,
          0.765941618342385,
          0.6106847566045898,
          0.3735028989100556,
          0.052873980349903094,
          0.2523248234752691,
          0.1351975625236571,
          0.17623025437433748,
          0.7495037188066328,
          0.2044288204822844,
          0.8410318959678372,
          0.5251336680569729,
          0.07301102321141884,
          0.6228009287510766,
          0.9348657329225352,
          0.20558236605716218,
          0.6640157894159819,
          0.044482617070895625,
          0.7895142773545291,
          0.17028464818911915,
          0.4165776532278259,
          0.9755266141441002,
          0.11816446025585314,
          0.5070508483527766,
          0.44555890997661696,
          0.237214020491761,
          0.7152618667386179,
          0.9198001968342117,
          0.16834775247810518,
          0.18186164452909492,
          0.07233657315085829,
          0.03632958112115248,
          0.8753779591098136,
          0.6215043034062773,
          0.2746257144112867,
          0.49507535238739653,
          0.3802610397702343,
          0.5653763749428466,
          0.08869740754786481,
          0.44132244382011543,
          0.2519599573617204,
          0.7284498936387345,
          0.21376407086514437,
          0.524425016315414,
          0.9919186828354846,
          0.08658957247363752,
          0.7154370595711853,
          0.7328928035723313,
          0.28758425965176115,
          0.09602968974889858,
          0.19432783942481624,
          0.04452431284184122,
          0.4669697394131884,
          0.7454252359311467,
          0.7515336958899383,
          0.472400649016919,
          0.20495721492702346,
          0.019151597575891022,
          0.7307231532862435,
          0.7997130082056398,
          0.007842152753980258,
          0.051904977711808686,
          0.9370440117165562,
          0.7125734954108636,
          0.14909293034576088,
          0.357455386566075,
          0.10775222514976912,
          0.2947091999862109,
          0.14989540183070138,
          0.7679172674370516,
          0.6342961460409231,
          0.968411225843671,
          0.869208871514016,
          0.599110126143013,
          0.9970410415112794,
          0.07212999568260214,
          0.8244717848038837,
          0.4799313410464636,
          0.48236080265336445,
          0.6205236560063669,
          0.8833350176472523,
          0.6266350109272941,
          0.7327124193730731,
          0.049361599376382403,
          0.33293085213181384,
          0.8279295867988328,
          0.23038959719260932,
          0.616590677797136,
          0.6253159047460826,
          0.38717258681547073,
          0.3670620249215968,
          0.9430511724159996,
          0.30205922129774254,
          0.7399229081425868,
          0.6984255447021291,
          0.15734404569209848,
          0.12616534780683442,
          0.5136248435090225,
          0.03652258076157244,
          0.9970426687494458,
          0.227540217186184,
          0.11225574005276617,
          0.9417153018000555,
          0.9142123183738214,
          0.12971805023167526,
          0.9458297511433542,
          0.35125652147960795,
          0.9389016095191047,
          0.1308179507031404,
          0.1977257209524783,
          0.014153795447299777,
          0.6014210587409043,
          0.4789484867099453,
          0.6625155954601608,
          0.02457635302264327,
          0.13407046529767308,
          0.04583210834604745,
          0.1432586988494251,
          0.4098069513291601,
          0.5825745089635829,
          0.7100777624105026,
          0.49885604364024017,
          0.6743461313903664,
          0.004474803605261757,
          0.2959902566952687,
          0.794620628391161,
          0.008629139083118686,
          0.9736327593618563,
          0.8697309646361762,
          0.49431042388622914,
          0.7979394371560292,
          0.5505274248788035,
          0.7428117467301498,
          0.2433382428894203,
          0.037252966039402646,
          0.9519583480543108,
          0.5735883333141116,
          0.7382558583359589,
          0.2823905807338596,
          0.44551361394183153,
          0.9889889298807887,
          0.3921230270840794,
          0.08002867780303624,
          0.5246803349763318,
          0.5047897919946971,
          0.4955542410721214,
          0.32335272920141467,
          0.583744301702835,
          0.7599717658662757,
          0.1135830135223228,
          0.10653981197083395,
          0.9897570121155811,
          0.143230023110814,
          0.8626006797909872,
          0.5304442809679413,
          0.012677811033407482,
          0.008760474972820398,
          0.5373870304148293,
          0.13061721493600853,
          0.2577130146447296,
          0.053931010795724044,
          0.29622827893299,
          0.3519049941676352,
          0.5242014280127427,
          0.520565563105925,
          0.2863214860728974,
          0.5332723283197645,
          0.3036839607941466,
          0.5735572905665558,
          0.22576256696057784,
          0.29285438460667645,
          0.7124986342976534,
          0.5908791058772803,
          0.8178765362497582,
          0.34235872689833025,
          0.19314214460146129,
          0.35565628550085904,
          0.5047856794276233,
          0.7421181483631879,
          0.38253033150639215,
          0.02491215299851135,
          0.6574581902582284,
          0.20066839810767045,
          0.46341302814178054,
          0.9756685628119962,
          0.37615718266769815,
          0.48963507046878985,
          0.7373294931592989,
          0.34960058955895323,
          0.3765762599988055,
          0.7890680775935862,
          0.6193583605463395,
          0.4180069944157011,
          0.4924652783464196,
          0.2030940886764967,
          0.6970358951082913,
          0.9992688808338711,
          0.5824520270421455,
          0.43320188126777837,
          0.7472840986110053,
          0.24639490498011585,
          0.08198116735207683,
          0.2915341303207146,
          0.9334169423255182,
          0.49617972137186195,
          0.30938126017408896,
          0.9109048762123407,
          0.09729563115928463,
          0.36707368413944785,
          0.49786673194714437,
          0.11552127908951648,
          0.5113912401654591,
          0.5378133821088695,
          0.31525889553426567,
          0.8187058055031472,
          0.003475287792574444,
          0.8256727932996636,
          0.9360082884245028,
          0.18773128019787944,
          0.8715740274745856,
          0.8219754467537198,
          0.7956202937239797,
          0.01118478297659109,
          0.8966237542275356,
          0.23671250069925887,
          0.16100171166210242,
          0.4670020454772831,
          0.46417319488338393,
          0.1744387342750745,
          0.8401867138110453,
          0.4267985817122967,
          0.9998402426314439,
          0.401782226036588,
          0.8265499947211193,
          0.3158042442571284,
          0.37168432199377943,
          0.2684627543391638,
          0.9969760791391311,
          0.5414477187266873,
          0.11394331832483873,
          0.008713464329953569,
          0.9913500138767873,
          0.11123077798277947,
          0.675750718882615,
          0.9056578402901269,
          0.8298027159108224,
          0.15889510008441377,
          0.07671910550143868,
          0.6488020522597793,
          0.11313133384257201,
          0.8352423837975667,
          0.36702037451768166,
          0.7235859666096607,
          0.4574675902483091,
          0.8083974846280163,
          0.3181100101646406,
          0.5855457956090047,
          0.75665953003292,
          0.3757441358207715,
          0.02462630629916618,
          0.818598636904551,
          0.09873630104651443,
          0.6746374702150739,
          0.7137428731981004,
          0.6093612437615731,
          0.37607009548672754,
          0.6888929843804533,
          0.31643086147912225,
          0.45640178690367605,
          0.35083450263412386,
          0.8650098041340849,
          0.26705168021376136,
          0.34763200804714767,
          0.9792574554506598,
          0.3152858039649923,
          0.9051646653404332,
          0.8119103070355517,
          0.015776648880930555,
          0.24693204125272594,
          0.2294182007434452,
          0.0134259335281528,
          0.4631971077178617,
          0.04145079464370349,
          0.07026270914440269,
          0.8941006772892851,
          0.9973724612280988,
          0.5005647614843385,
          0.803180845514479,
          0.32014415820676445,
          0.2320889936727678,
          0.3546191188738864,
          0.9748000503069516,
          0.40377543855886544,
          0.32664162716895717,
          0.4096006914790602,
          0.6614849342854853,
          0.4147409652583641,
          0.19590899105620374,
          0.46509509843175656,
          0.32553490836211507,
          0.3603769822761903,
          0.367759636643615,
          0.5632145090603673,
          0.9376385951933616,
          0.4721177393339946,
          0.711866173124453,
          0.7118959648292329,
          0.09840664562181678,
          0.9796039364315032,
          0.663882219588595,
          0.8544995039313918,
          0.12743511404457142,
          0.10425227340218313,
          0.19054603311348783,
          0.5830462032692906,
          0.09351009374027008,
          0.7294298718680514,
          0.12768828857527126,
          0.9734094408246459,
          0.4653419148991562,
          0.0015239241420864635,
          0.9874904209405346,
          0.8591398803046969,
          0.3498086882942567,
          0.2601221519939301,
          0.7539317365267436,
          0.9213232000264052,
          0.6970123965693276,
          0.7141324247548181,
          0.8222829744453192,
          0.9822229387895912,
          0.5113316283490288,
          0.8528962584790333,
          0.8600633298504294,
          0.26319969874615146,
          0.8596244424158973,
          0.14444055601010475,
          0.41750715739396815,
          0.16845335103442216,
          0.5850242746644243,
          0.6903326347868771,
          0.9576881878800163,
          0.7874577701535966,
          0.11478642821458274,
          0.04493885747197224,
          0.2710167032655163,
          0.6085649265623957,
          0.7566980245750714,
          0.5143442222975552,
          0.31829820308569623,
          0.8870574576435671,
          0.9709159424353992,
          0.8760979651376576,
          0.1520761334512054,
          0.08015450014060832,
          0.1902952776217095,
          0.5310449253766288,
          0.06908780281853899,
          0.6082239734926712,
          0.06760194439911404,
          0.2583780838137253,
          0.040127870185496795,
          0.6372203636204905,
          0.41072423381348,
          0.05163046433819163,
          0.16132656385118638,
          0.6165289329900757,
          0.2850892540312553,
          0.12465624380475149,
          0.5841961888546441,
          0.8648763734133058,
          0.5739252192700743,
          0.8208474195075517,
          0.46589013940414725,
          0.5344658795180938,
          0.39730390799776316,
          0.043230008758637584,
          0.7125671452738469,
          0.020355934538043963,
          0.6527720165477993,
          0.4463295912051539,
          0.5152437124372374,
          0.8428957676712818,
          0.6736605517216887,
          0.37622376485734776,
          0.5619281832754273,
          0.05110806691118186,
          0.6331591099062129,
          0.13390184341288347,
          0.11054964704488823,
          0.33787170603208794,
          0.819376278058376,
          0.70297584588564,
          0.5855642325964975,
          0.9323905709385588,
          0.42681826796823474,
          0.48126731090681674,
          0.8653492597676704,
          0.12557379539780633,
          0.7980142769765411,
          0.09988293364070411,
          0.3671418860557589,
          0.1939368649467198,
          0.3448901646735134,
          0.388038798114269,
          0.8780484259363122,
          0.19038952511827545,
          0.9719790345187734,
          0.13041667220742204,
          0.3799562970636122,
          0.8845690894831354,
          0.7010292987272233,
          0.06236399497792999,
          0.6055534383066483,
          0.8032407344071646,
          0.2683927842747643,
          0.5431720618530455,
          0.9373732356815102,
          0.23181274078393654,
          0.21644278016990803,
          0.1981167403873334,
          0.6736199933444492,
          0.8290230213718809,
          0.6057820329649974,
          0.7436006156840942,
          0.9975876373184104,
          0.3885049177061948,
          0.9184078267451358,
          0.9332632597725775,
          0.7373690804450984,
          0.43488519099168577,
          0.5400508968107548,
          0.0874696021757142,
          0.18714536943931626,
          0.5707719732349343,
          0.19423566962876004,
          0.521033541560964,
          0.5921605718295601,
          0.6118918193514112,
          0.2026909013150191,
          0.3037740313882633,
          0.556998589617568,
          0.3432808440346006,
          0.5377831337092729,
          0.1244353600975091,
          0.9647338160100021,
          0.796885514139031,
          0.1545973707415842,
          0.7000875468173184,
          0.6510073234056533,
          0.23059462426443555,
          0.9345102817361867,
          0.42620231802143993,
          0.9031956897567277,
          0.24630046567228536,
          0.6360047592017416,
          0.2061186647302401,
          0.8448904881485826,
          0.5510508944898832,
          0.2695461636332265,
          0.2798231585016653,
          0.9685864048645308,
          0.26931701828099486,
          0.12708532416300533,
          0.6272093135635644,
          0.08586715885950169,
          0.6603434931732669,
          0.46817496434892436,
          0.8886210709964881,
          0.45810016150132127,
          0.5550358525051691,
          0.1731608641361012,
          0.9898475202790195,
          0.14723506270284759,
          0.2390893280858759,
          0.44430964713994403,
          0.970802196558029,
          0.3911552138389903,
          0.18316715411590534,
          0.27429140717918765,
          0.4181079762926344,
          0.7848319453998365,
          0.29999466164236044,
          0.9869698832287562,
          0.5123232654156356,
          0.25195670385937896,
          0.5321694615935426,
          0.6149931055839539,
          0.7368436653055468,
          0.16401950230497098,
          0.6288207460416596,
          0.37509662653599485,
          0.5256581612380172,
          0.5719552953967751,
          0.323795752268509,
          0.38983840036038553,
          0.9904776519083343,
          0.8266754393636465,
          0.5826359529778408,
          0.16964645720363658,
          0.1240792833686537,
          0.3095454310824983,
          0.8994044296593341,
          0.5183405499717749,
          0.6267545197328189,
          0.09102253308181685,
          0.3573970525436091,
          0.29563304636601484,
          0.40488492089686956,
          0.6800049845070796,
          0.01568998919945297,
          0.9614104766889292,
          0.18138607572907517,
          0.33217557641916606,
          0.44847725948851,
          0.3165365404492527,
          0.6820803320882758,
          0.3532797519854304,
          0.16068603726417796,
          0.8567954214415291,
          0.7895884936348742,
          0.41533329545954045,
          0.6334245279199487,
          0.7782816570949505,
          0.6381789603674161,
          0.39746205068710794,
          0.8789939911717044,
          0.39422168641958,
          0.7322827943383297,
          0.8718381364823068,
          0.4955302409564495,
          0.23319562561287133,
          0.6501199164209277,
          0.5304940139986003,
          0.1816631704681907,
          0.10497375191335678,
          0.9525120246501222,
          0.3146523768588705,
          0.674728876709972,
          0.4816303670362809,
          0.7397609329157344,
          0.15497563837187844,
          0.559051598759903,
          0.9566609268907946,
          0.1253465850525003,
          0.060175245115605125,
          0.20025656230336708,
          0.2339722218101844,
          0.43498948813596416,
          0.5697773424579766,
          0.19621476423235507,
          0.2729468402656037,
          0.17918385884306953,
          0.3932796851792574,
          0.810725400119679,
          0.02427707924367206,
          0.9974853930978974,
          0.17608649508780483,
          0.24567895632645165,
          0.6459065061065756,
          0.11658215004762296,
          0.0028951482006759344,
          0.8693616897396984,
          0.16162804902496297,
          0.18630096011405917,
          0.47129369126432274,
          0.620842582835051,
          0.8892873497237519,
          0.9813259287142344,
          0.9051963350027126,
          0.30435742048055237,
          0.7361910522500278,
          0.9011470115983111,
          0.8518202404477867,
          0.43768114623422394,
          0.9446381317728686,
          0.8344617268201111,
          0.7181589844536126,
          0.38745751099876446,
          0.00642439910997028,
          0.6965979379638544,
          0.7344345849724686,
          0.5047877018752461,
          0.4269416985334422,
          0.9425969965495419,
          0.49547435091006475,
          0.43429888657469484,
          0.5869982688029902,
          0.2760943300751477,
          0.026504600620607888,
          0.7672774564016627
         ]
        }
       ],
       "layout": {
        "template": {
         "data": {
          "bar": [
           {
            "error_x": {
             "color": "#2a3f5f"
            },
            "error_y": {
             "color": "#2a3f5f"
            },
            "marker": {
             "line": {
              "color": "#E5ECF6",
              "width": 0.5
             }
            },
            "type": "bar"
           }
          ],
          "barpolar": [
           {
            "marker": {
             "line": {
              "color": "#E5ECF6",
              "width": 0.5
             }
            },
            "type": "barpolar"
           }
          ],
          "carpet": [
           {
            "aaxis": {
             "endlinecolor": "#2a3f5f",
             "gridcolor": "white",
             "linecolor": "white",
             "minorgridcolor": "white",
             "startlinecolor": "#2a3f5f"
            },
            "baxis": {
             "endlinecolor": "#2a3f5f",
             "gridcolor": "white",
             "linecolor": "white",
             "minorgridcolor": "white",
             "startlinecolor": "#2a3f5f"
            },
            "type": "carpet"
           }
          ],
          "choropleth": [
           {
            "colorbar": {
             "outlinewidth": 0,
             "ticks": ""
            },
            "type": "choropleth"
           }
          ],
          "contour": [
           {
            "colorbar": {
             "outlinewidth": 0,
             "ticks": ""
            },
            "colorscale": [
             [
              0,
              "#0d0887"
             ],
             [
              0.1111111111111111,
              "#46039f"
             ],
             [
              0.2222222222222222,
              "#7201a8"
             ],
             [
              0.3333333333333333,
              "#9c179e"
             ],
             [
              0.4444444444444444,
              "#bd3786"
             ],
             [
              0.5555555555555556,
              "#d8576b"
             ],
             [
              0.6666666666666666,
              "#ed7953"
             ],
             [
              0.7777777777777778,
              "#fb9f3a"
             ],
             [
              0.8888888888888888,
              "#fdca26"
             ],
             [
              1,
              "#f0f921"
             ]
            ],
            "type": "contour"
           }
          ],
          "contourcarpet": [
           {
            "colorbar": {
             "outlinewidth": 0,
             "ticks": ""
            },
            "type": "contourcarpet"
           }
          ],
          "heatmap": [
           {
            "colorbar": {
             "outlinewidth": 0,
             "ticks": ""
            },
            "colorscale": [
             [
              0,
              "#0d0887"
             ],
             [
              0.1111111111111111,
              "#46039f"
             ],
             [
              0.2222222222222222,
              "#7201a8"
             ],
             [
              0.3333333333333333,
              "#9c179e"
             ],
             [
              0.4444444444444444,
              "#bd3786"
             ],
             [
              0.5555555555555556,
              "#d8576b"
             ],
             [
              0.6666666666666666,
              "#ed7953"
             ],
             [
              0.7777777777777778,
              "#fb9f3a"
             ],
             [
              0.8888888888888888,
              "#fdca26"
             ],
             [
              1,
              "#f0f921"
             ]
            ],
            "type": "heatmap"
           }
          ],
          "heatmapgl": [
           {
            "colorbar": {
             "outlinewidth": 0,
             "ticks": ""
            },
            "colorscale": [
             [
              0,
              "#0d0887"
             ],
             [
              0.1111111111111111,
              "#46039f"
             ],
             [
              0.2222222222222222,
              "#7201a8"
             ],
             [
              0.3333333333333333,
              "#9c179e"
             ],
             [
              0.4444444444444444,
              "#bd3786"
             ],
             [
              0.5555555555555556,
              "#d8576b"
             ],
             [
              0.6666666666666666,
              "#ed7953"
             ],
             [
              0.7777777777777778,
              "#fb9f3a"
             ],
             [
              0.8888888888888888,
              "#fdca26"
             ],
             [
              1,
              "#f0f921"
             ]
            ],
            "type": "heatmapgl"
           }
          ],
          "histogram": [
           {
            "marker": {
             "colorbar": {
              "outlinewidth": 0,
              "ticks": ""
             }
            },
            "type": "histogram"
           }
          ],
          "histogram2d": [
           {
            "colorbar": {
             "outlinewidth": 0,
             "ticks": ""
            },
            "colorscale": [
             [
              0,
              "#0d0887"
             ],
             [
              0.1111111111111111,
              "#46039f"
             ],
             [
              0.2222222222222222,
              "#7201a8"
             ],
             [
              0.3333333333333333,
              "#9c179e"
             ],
             [
              0.4444444444444444,
              "#bd3786"
             ],
             [
              0.5555555555555556,
              "#d8576b"
             ],
             [
              0.6666666666666666,
              "#ed7953"
             ],
             [
              0.7777777777777778,
              "#fb9f3a"
             ],
             [
              0.8888888888888888,
              "#fdca26"
             ],
             [
              1,
              "#f0f921"
             ]
            ],
            "type": "histogram2d"
           }
          ],
          "histogram2dcontour": [
           {
            "colorbar": {
             "outlinewidth": 0,
             "ticks": ""
            },
            "colorscale": [
             [
              0,
              "#0d0887"
             ],
             [
              0.1111111111111111,
              "#46039f"
             ],
             [
              0.2222222222222222,
              "#7201a8"
             ],
             [
              0.3333333333333333,
              "#9c179e"
             ],
             [
              0.4444444444444444,
              "#bd3786"
             ],
             [
              0.5555555555555556,
              "#d8576b"
             ],
             [
              0.6666666666666666,
              "#ed7953"
             ],
             [
              0.7777777777777778,
              "#fb9f3a"
             ],
             [
              0.8888888888888888,
              "#fdca26"
             ],
             [
              1,
              "#f0f921"
             ]
            ],
            "type": "histogram2dcontour"
           }
          ],
          "mesh3d": [
           {
            "colorbar": {
             "outlinewidth": 0,
             "ticks": ""
            },
            "type": "mesh3d"
           }
          ],
          "parcoords": [
           {
            "line": {
             "colorbar": {
              "outlinewidth": 0,
              "ticks": ""
             }
            },
            "type": "parcoords"
           }
          ],
          "pie": [
           {
            "automargin": true,
            "type": "pie"
           }
          ],
          "scatter": [
           {
            "marker": {
             "colorbar": {
              "outlinewidth": 0,
              "ticks": ""
             }
            },
            "type": "scatter"
           }
          ],
          "scatter3d": [
           {
            "line": {
             "colorbar": {
              "outlinewidth": 0,
              "ticks": ""
             }
            },
            "marker": {
             "colorbar": {
              "outlinewidth": 0,
              "ticks": ""
             }
            },
            "type": "scatter3d"
           }
          ],
          "scattercarpet": [
           {
            "marker": {
             "colorbar": {
              "outlinewidth": 0,
              "ticks": ""
             }
            },
            "type": "scattercarpet"
           }
          ],
          "scattergeo": [
           {
            "marker": {
             "colorbar": {
              "outlinewidth": 0,
              "ticks": ""
             }
            },
            "type": "scattergeo"
           }
          ],
          "scattergl": [
           {
            "marker": {
             "colorbar": {
              "outlinewidth": 0,
              "ticks": ""
             }
            },
            "type": "scattergl"
           }
          ],
          "scattermapbox": [
           {
            "marker": {
             "colorbar": {
              "outlinewidth": 0,
              "ticks": ""
             }
            },
            "type": "scattermapbox"
           }
          ],
          "scatterpolar": [
           {
            "marker": {
             "colorbar": {
              "outlinewidth": 0,
              "ticks": ""
             }
            },
            "type": "scatterpolar"
           }
          ],
          "scatterpolargl": [
           {
            "marker": {
             "colorbar": {
              "outlinewidth": 0,
              "ticks": ""
             }
            },
            "type": "scatterpolargl"
           }
          ],
          "scatterternary": [
           {
            "marker": {
             "colorbar": {
              "outlinewidth": 0,
              "ticks": ""
             }
            },
            "type": "scatterternary"
           }
          ],
          "surface": [
           {
            "colorbar": {
             "outlinewidth": 0,
             "ticks": ""
            },
            "colorscale": [
             [
              0,
              "#0d0887"
             ],
             [
              0.1111111111111111,
              "#46039f"
             ],
             [
              0.2222222222222222,
              "#7201a8"
             ],
             [
              0.3333333333333333,
              "#9c179e"
             ],
             [
              0.4444444444444444,
              "#bd3786"
             ],
             [
              0.5555555555555556,
              "#d8576b"
             ],
             [
              0.6666666666666666,
              "#ed7953"
             ],
             [
              0.7777777777777778,
              "#fb9f3a"
             ],
             [
              0.8888888888888888,
              "#fdca26"
             ],
             [
              1,
              "#f0f921"
             ]
            ],
            "type": "surface"
           }
          ],
          "table": [
           {
            "cells": {
             "fill": {
              "color": "#EBF0F8"
             },
             "line": {
              "color": "white"
             }
            },
            "header": {
             "fill": {
              "color": "#C8D4E3"
             },
             "line": {
              "color": "white"
             }
            },
            "type": "table"
           }
          ]
         },
         "layout": {
          "annotationdefaults": {
           "arrowcolor": "#2a3f5f",
           "arrowhead": 0,
           "arrowwidth": 1
          },
          "coloraxis": {
           "colorbar": {
            "outlinewidth": 0,
            "ticks": ""
           }
          },
          "colorscale": {
           "diverging": [
            [
             0,
             "#8e0152"
            ],
            [
             0.1,
             "#c51b7d"
            ],
            [
             0.2,
             "#de77ae"
            ],
            [
             0.3,
             "#f1b6da"
            ],
            [
             0.4,
             "#fde0ef"
            ],
            [
             0.5,
             "#f7f7f7"
            ],
            [
             0.6,
             "#e6f5d0"
            ],
            [
             0.7,
             "#b8e186"
            ],
            [
             0.8,
             "#7fbc41"
            ],
            [
             0.9,
             "#4d9221"
            ],
            [
             1,
             "#276419"
            ]
           ],
           "sequential": [
            [
             0,
             "#0d0887"
            ],
            [
             0.1111111111111111,
             "#46039f"
            ],
            [
             0.2222222222222222,
             "#7201a8"
            ],
            [
             0.3333333333333333,
             "#9c179e"
            ],
            [
             0.4444444444444444,
             "#bd3786"
            ],
            [
             0.5555555555555556,
             "#d8576b"
            ],
            [
             0.6666666666666666,
             "#ed7953"
            ],
            [
             0.7777777777777778,
             "#fb9f3a"
            ],
            [
             0.8888888888888888,
             "#fdca26"
            ],
            [
             1,
             "#f0f921"
            ]
           ],
           "sequentialminus": [
            [
             0,
             "#0d0887"
            ],
            [
             0.1111111111111111,
             "#46039f"
            ],
            [
             0.2222222222222222,
             "#7201a8"
            ],
            [
             0.3333333333333333,
             "#9c179e"
            ],
            [
             0.4444444444444444,
             "#bd3786"
            ],
            [
             0.5555555555555556,
             "#d8576b"
            ],
            [
             0.6666666666666666,
             "#ed7953"
            ],
            [
             0.7777777777777778,
             "#fb9f3a"
            ],
            [
             0.8888888888888888,
             "#fdca26"
            ],
            [
             1,
             "#f0f921"
            ]
           ]
          },
          "colorway": [
           "#636efa",
           "#EF553B",
           "#00cc96",
           "#ab63fa",
           "#FFA15A",
           "#19d3f3",
           "#FF6692",
           "#B6E880",
           "#FF97FF",
           "#FECB52"
          ],
          "font": {
           "color": "#2a3f5f"
          },
          "geo": {
           "bgcolor": "white",
           "lakecolor": "white",
           "landcolor": "#E5ECF6",
           "showlakes": true,
           "showland": true,
           "subunitcolor": "white"
          },
          "hoverlabel": {
           "align": "left"
          },
          "hovermode": "closest",
          "mapbox": {
           "style": "light"
          },
          "paper_bgcolor": "white",
          "plot_bgcolor": "#E5ECF6",
          "polar": {
           "angularaxis": {
            "gridcolor": "white",
            "linecolor": "white",
            "ticks": ""
           },
           "bgcolor": "#E5ECF6",
           "radialaxis": {
            "gridcolor": "white",
            "linecolor": "white",
            "ticks": ""
           }
          },
          "scene": {
           "xaxis": {
            "backgroundcolor": "#E5ECF6",
            "gridcolor": "white",
            "gridwidth": 2,
            "linecolor": "white",
            "showbackground": true,
            "ticks": "",
            "zerolinecolor": "white"
           },
           "yaxis": {
            "backgroundcolor": "#E5ECF6",
            "gridcolor": "white",
            "gridwidth": 2,
            "linecolor": "white",
            "showbackground": true,
            "ticks": "",
            "zerolinecolor": "white"
           },
           "zaxis": {
            "backgroundcolor": "#E5ECF6",
            "gridcolor": "white",
            "gridwidth": 2,
            "linecolor": "white",
            "showbackground": true,
            "ticks": "",
            "zerolinecolor": "white"
           }
          },
          "shapedefaults": {
           "line": {
            "color": "#2a3f5f"
           }
          },
          "ternary": {
           "aaxis": {
            "gridcolor": "white",
            "linecolor": "white",
            "ticks": ""
           },
           "baxis": {
            "gridcolor": "white",
            "linecolor": "white",
            "ticks": ""
           },
           "bgcolor": "#E5ECF6",
           "caxis": {
            "gridcolor": "white",
            "linecolor": "white",
            "ticks": ""
           }
          },
          "title": {
           "x": 0.05
          },
          "xaxis": {
           "automargin": true,
           "gridcolor": "white",
           "linecolor": "white",
           "ticks": "",
           "title": {
            "standoff": 15
           },
           "zerolinecolor": "white",
           "zerolinewidth": 2
          },
          "yaxis": {
           "automargin": true,
           "gridcolor": "white",
           "linecolor": "white",
           "ticks": "",
           "title": {
            "standoff": 15
           },
           "zerolinecolor": "white",
           "zerolinewidth": 2
          }
         }
        }
       }
      },
      "text/html": "<div>\n        \n        \n            <div id=\"e0b6d63f-ac50-4737-bb05-0a756937ec43\" class=\"plotly-graph-div\" style=\"height:525px; width:100%;\"></div>\n            <script type=\"text/javascript\">\n                require([\"plotly\"], function(Plotly) {\n                    window.PLOTLYENV=window.PLOTLYENV || {};\n                    \n                if (document.getElementById(\"e0b6d63f-ac50-4737-bb05-0a756937ec43\")) {\n                    Plotly.newPlot(\n                        'e0b6d63f-ac50-4737-bb05-0a756937ec43',\n                        [{\"mode\": \"markers\", \"type\": \"scatter\", \"x\": [0.5161812515562698, 0.35680537613401964, 0.49708533165279967, 0.9040299747775501, 0.4458928516059254, 0.9040915286330936, 0.7903781480673108, 0.8924861112381864, 0.06876592307434204, 0.8518090084657048, 0.13712810258425323, 0.715284270200792, 0.4109958696882594, 0.7744107981293173, 0.8545561928979208, 0.5215944336298807, 0.9810157711907873, 0.6827061727052622, 0.8578992279625853, 0.35389099113004474, 0.13488224885587696, 0.9428572446072842, 0.34473558392995307, 0.8865664492362244, 0.5820468517600643, 0.29998921265029643, 0.20019108613855674, 0.49860665506341917, 0.8465481593998612, 0.8147667354653363, 0.7180470970461486, 0.9999861621133128, 0.12139291777691208, 0.4838135868314227, 0.7986536989406677, 0.709962950924172, 0.2758663676388666, 0.3326787111935643, 0.9777574482908697, 0.8026371809846388, 0.22703055771487668, 0.138120653279991, 0.4087704002053705, 0.9444509516984676, 0.8440619009042829, 0.7551558893599419, 0.7466500325410415, 0.11574179385120398, 0.2923638471065877, 0.45330060676144646, 0.43708314689130845, 0.15143837702506635, 0.9308185207554551, 0.915998564021176, 0.15275603840003193, 0.4771752363498444, 0.7323419240428467, 0.8843267211420269, 0.43091291062963344, 0.07424537161548717, 0.7021374952759175, 0.7629069230116553, 0.5050142959248834, 0.6694167211709899, 0.41144798734020704, 0.4120160326563559, 0.5023439283778478, 0.8641974006967869, 0.579897043381321, 0.6446645196188083, 0.7094779682421891, 0.4523616708810695, 0.2221139305989721, 0.3896189154736648, 0.3489391539483446, 0.699095890282603, 0.017749902218188174, 0.692443635109215, 0.8398756734069217, 0.7040999817012747, 0.17250122529702183, 0.156992541039793, 0.5564457799819361, 0.04535052183150878, 0.010955357124602605, 0.1032847228246887, 0.15357914127211258, 0.2608403285088181, 0.6990281896294748, 0.1191166816682947, 0.7839823068501829, 0.572684558682043, 0.6154071515568541, 0.42661512351579856, 0.48126108695031045, 0.6175361967314923, 0.6404932084929531, 0.5924329863640809, 0.45128132677750177, 0.9135929161902477, 0.7690143387137057, 0.4320817546670861, 0.9771660438592193, 0.6665108687636873, 0.12765706282118283, 0.8417198508615633, 0.8467093747113755, 0.9269979672974923, 0.7911226982678071, 0.5856955682976699, 0.6765410091232497, 0.5046649151638208, 0.29599309670221685, 0.7964269041287155, 0.6813648639064557, 0.21576853088619097, 0.3738506053506603, 0.13158706350390115, 0.7381897748706963, 0.22840481517856714, 0.5353365057285799, 4.8673378237884535e-06, 0.3479124028772268, 0.3953679396765285, 0.17797368757150855, 0.33583389691268006, 0.35463827455943975, 0.29065109458938887, 0.18774661168583362, 0.8352135336361813, 0.8190572117914138, 0.535355793960682, 0.008427784706732555, 0.9431732243115621, 0.18425619945734195, 0.9109259570638625, 0.2533891214840006, 0.5345996623182566, 0.639637418146936, 0.2541862772921051, 0.34897571531646865, 0.7370218215479882, 0.39173159876941344, 0.12492255195576996, 0.40921132049716324, 0.2788826569542022, 0.9580997987297337, 0.5718692807487568, 0.9718175719377062, 0.09158935479186836, 0.5827458506421458, 0.7625447904825466, 0.8097244384750149, 0.22409633556147024, 0.5934089613067434, 0.9008015362406824, 0.15049743254902437, 0.14351777648859254, 0.6976928337095003, 0.6040657734091169, 0.18805553705499756, 0.1933366281686013, 0.16254976184613168, 0.4392126381858744, 0.09012671545487361, 0.7357928976344079, 0.5829778622466082, 0.03734630937272243, 0.44422277385825826, 0.4907146351511047, 0.5114003848051721, 0.6996608875668218, 0.5313992020634214, 0.7001877441116537, 0.76377817810694, 0.16587178481265563, 0.6640642000563501, 0.572541777136237, 0.5497268770286148, 0.8298921977416616, 0.7748696096749267, 0.785618620732135, 0.2358825841482456, 0.5679382015137323, 0.636756121541365, 0.6188220096323539, 0.23953828203573557, 0.5066800073695276, 0.20341896921042935, 0.609436860485438, 0.7104959769378002, 0.02040863560241213, 0.13052523483751322, 0.11865415099378063, 0.44728369963592696, 0.41881559690937276, 0.14429247884870067, 0.22030717188380367, 0.49442300990363897, 0.08072239065889675, 0.9806663912702178, 0.5768678957635998, 0.5309981267240276, 0.23660619646128522, 0.8975647175295598, 0.4463036014810545, 0.041933759550177085, 0.7957995612753708, 0.91064792984507, 0.6881275548403062, 0.579747467767488, 0.6801387385747822, 0.6774770050399792, 0.3768363905673996, 0.7398434866604219, 0.1772571787321242, 0.544489940972053, 0.860423804298498, 0.024254248164591652, 0.4643089009301493, 0.585109112247831, 0.3830527742204026, 0.6375143170054178, 0.016204728550145542, 0.018152060421480543, 0.45266070799783664, 0.7012000182157689, 0.7022729156676485, 0.9461013604837801, 0.8876373583401946, 0.9356764643972678, 0.8246269695695642, 0.926208617287099, 0.36017151804330716, 0.9004391394312974, 0.8832295868167447, 0.2489378558557237, 0.8404299031808709, 0.1517631566330444, 0.3113117889449025, 0.7389203879319487, 0.2859926854819841, 0.42856688319150116, 0.7798372797331812, 0.8355703568671518, 0.6600658890690825, 0.16732708070945435, 0.7713101652795022, 0.6140818831914443, 0.04093117331483964, 0.6243378197418012, 0.575504562128372, 0.7901712586959861, 0.6577909638052009, 0.7521569127169915, 0.40758942268966936, 0.19295090835541362, 0.1519849285386775, 0.07986534479938168, 0.1810379407297451, 0.3495649762630314, 0.9300721769423579, 0.09593392810339385, 0.1937625216015213, 0.022415366244426527, 0.28143719968003866, 0.12541192232767961, 0.7545427164744255, 0.39364861087420433, 0.02166915119162327, 0.4746927994563801, 0.2307085967685507, 0.8798494560594667, 0.8668560751920023, 0.31722249340159314, 0.5406138510899108, 0.13653043721927538, 0.7728803548997908, 0.6702057750925233, 0.7349758802473352, 0.2260073774540753, 0.6182168949131881, 0.8488383660055134, 0.9101989442154153, 0.9219937954067526, 0.2697991276926528, 0.9790390972248567, 0.35914047908526936, 0.8159395851536045, 0.08041408817008511, 0.9519134557556806, 0.6584375192219656, 0.851121162709935, 0.5155975339050463, 0.9863308678569545, 0.5842010906020921, 0.2708382884778605, 0.38926208288646136, 0.5536093866321742, 0.5690850504580734, 0.915140882746676, 0.246755101204299, 0.19834900035122038, 0.27187566892541826, 0.6506156213702834, 0.45262533802092764, 0.2720810752300159, 0.7306411717408134, 0.2873192531612919, 0.7991100222137046, 0.5142006259493093, 0.11020949663669644, 0.09094150243313759, 0.4431053161907388, 0.9155289849679403, 0.44023020027074544, 0.21445920348446346, 0.6740975964462287, 0.7029425141327516, 0.7488718605090652, 0.31086261929102643, 0.23759950102987293, 0.5480583859714183, 0.7103939271601031, 0.9198105892955403, 0.4683526439648289, 0.6146225390606023, 0.6768131541225771, 0.5428262177146906, 0.2527027126965484, 0.23509953310592135, 0.38621496300132696, 0.19841207799876914, 0.5133323930669464, 0.7588489113252969, 0.567851273636093, 0.20395331408359096, 0.21921618401337528, 0.5076564516166295, 0.5933482115734424, 0.33751303245130215, 0.6425581354444232, 0.3505205120835966, 0.709358902440242, 0.4573430086339979, 0.8642590419112011, 0.7991087975812922, 0.20985603678403364, 0.19509347027391777, 0.44530312638608793, 0.6958147969171167, 0.25170091313970666, 0.41781647276389544, 0.17852271663867691, 0.03904818504164875, 0.26809643922188275, 0.353835156395111, 0.09581342915638325, 0.5272103844103799, 0.12853602109858542, 0.013603757231627545, 0.8617678936012337, 0.9275401717178812, 0.5263726518684889, 0.6097593087647917, 0.7760632615232852, 0.9637815483313339, 0.42491014589960585, 0.6617527646551798, 0.898633175799821, 0.5847565799431619, 0.037422021788573345, 0.17983462955846086, 0.7536611132414852, 0.9466998855715809, 0.9067829383251423, 0.6823645534166346, 0.3007747541755672, 0.11826509957051146, 0.41067847326827667, 0.885093202920183, 0.019105045810289045, 0.5462781991936627, 0.39459193114406854, 0.4497865718153362, 0.761174435783631, 0.7436414432559437, 0.8775450969127563, 0.6950988496942455, 0.4679337772595662, 0.6173196138236767, 0.05871224354048832, 0.7397522601524517, 0.05392768976220741, 0.10875700189366955, 0.09423972063034058, 0.16483103695446566, 0.5665500184983142, 0.21222028564517004, 0.6491089646653639, 0.8536449718300193, 0.9095251889990376, 0.3344400855936882, 0.5031300772536145, 0.3031227720822032, 0.31460085702242213, 0.09585303907068154, 0.4422459296755181, 0.15704748677175173, 0.9615250723356875, 0.9038189182005479, 0.4329872624569755, 0.693518153837691, 0.8003541283830141, 0.9157968837239128, 0.49435934487039, 0.5629462758517876, 0.1979787242175326, 0.6236165175074174, 0.24337323044249504, 0.5288628241368607, 0.11519480140289828, 0.016973687699256557, 0.9158660423776487, 0.3584898414730132, 0.2199250171456516, 0.4638680700719585, 0.3168168607126186, 0.5538096237271529, 0.8117036836735869, 0.5010076695870208, 0.8300316512397637, 0.38176481905981186, 0.8297835796073014, 0.07975752943149972, 0.6398970213706269, 0.4584844416051439, 0.03193331601249749, 0.2844481418137491, 0.09052736212655454, 0.8318172057154469, 0.1190601526387659, 0.3215319999389986, 0.05861056485190874, 0.5327214897154379, 0.11774062170764865, 0.655485677703421, 0.15683458144893148, 0.7698814443004373, 0.13128157713919253, 0.3921803924557036, 0.7660113130158559, 0.468668805856705, 0.45532047298320977, 0.1501783731942773, 0.9608316445077496, 0.07914604641192269, 0.15722282171869073, 0.2567954254790453, 0.75816966793839, 0.7430487216955204, 0.4563646403439394, 0.5862333018064129, 0.4986829184652778, 0.4033806178265714, 0.3255264517609372, 0.9630126262063647, 0.3780512993329872, 0.8816229281481676, 0.7566967462934889, 0.5143549029178612, 0.9392211248113739, 0.16418133425029968, 0.2406739705986385, 0.40665898231127007, 0.9797480288580144, 0.5243884869284486, 0.9323863200251878, 0.6619815571472635, 0.4890813795162422, 0.37174793177342325, 0.8756315914888453, 0.697457573913204, 0.5773717877834562, 0.06297548948557352, 0.3558732667185528, 0.7199441433469339, 0.9634166887141451, 0.6570461196846834, 0.22433529016151832, 0.12240094608589991, 0.6163875452654042, 0.8790057857517465, 0.9658803625438611, 0.403256462747588, 0.2629547041743806, 0.12358004920666066, 0.08606415900694331, 0.21762194544409474, 0.19309908102113227, 0.483884366406211, 0.9133133379521002, 0.9980227247432547, 0.7828317364735193, 0.4642269865526615, 0.7080931367170696, 0.4517595932413935, 0.030641515365563365, 0.16082157534428776, 0.5544577906625764, 0.9834383359741238, 0.1988925692917124, 0.9610855697735285, 0.04262111761801113, 0.983485625659178, 0.18034123736544472, 0.9798987424899108, 0.4013069748930371, 0.5850509034745762, 0.9931301697750208, 0.47970862331105857, 0.5102992003239818, 0.5114318265426848, 0.028766495717560958, 0.31118347434052573, 0.13168557531927338, 0.08854215470051463, 0.5726222802436306, 0.005798986945768414, 0.16044365042472797, 0.19737812418982192, 0.8612279494067538, 0.5651350286208238, 0.8768308340163287, 0.12841530436081627, 0.7928557434125472, 0.8698786677067737, 0.2720029558002889, 0.387546648498758, 0.5052712595979767, 0.045585757401420235, 0.07038759020244734, 0.6055883393119561, 0.7094357188206365, 0.37517496193049615, 0.685728651455857, 0.9587638315026265, 0.9733363867596444, 0.13145130430088348, 0.9706381413459667, 0.037887256486767384, 0.04652395440030854, 0.3895505980985967, 0.9791197212989048, 0.30753514615984334, 0.7132081753406663, 0.009955152865406491, 0.41199660993736986, 0.9484576141237144, 0.3547455118478685, 0.6224663431273744, 0.2613406321241758, 0.4315979365306548, 0.47914953173826824, 0.08887702645105555, 0.36597601012443526, 0.9307211301123003, 0.3565400407559368, 0.3742030478752093, 0.35758121067164517, 0.10153665805386025, 0.1014794570966453, 0.9023643286138986, 0.9646164850337553, 0.28130406542687025, 0.14967070468345045, 0.03888932540046064, 0.08499616413888544, 0.9407698961270567, 0.5808926522017879, 0.7203473564390729, 0.701491264520297, 0.4020475369047001, 0.7645055143535983, 0.16465182575237203, 0.43004016503489517, 0.051639598463730674, 0.9915023529353938, 0.21087636321418934, 0.8058673672781557, 0.217282264621799, 0.6755289080113352, 0.33365499070994153, 0.28358857584608144, 0.6484487911179477, 0.6416360931744532, 0.7383242074210908, 0.05499486016811461, 0.4013164796550289, 0.7556043138980408, 0.15621865564174187, 0.4052953827346186, 0.5852098594460254, 0.986030319205693, 0.2916907615439379, 0.3674907197714561, 0.8389172932333121, 0.18330535850582985, 0.11030287775969383, 0.77989138398528, 0.6620018892869642, 0.3524008564723389, 0.954098537200061, 0.27401273791011305, 0.2618194014737897, 0.491857126459908, 0.2926845498798789, 0.6071801715731459, 0.17815086214479803, 0.9344504954952103, 0.3379977027974681, 0.18840188475802577, 0.5867421755728944, 0.023102748067630463, 0.09606493669555083, 0.9376388900252749, 0.6065541397547556, 0.847449484119755, 0.8526324648088021, 0.5892176976004194, 0.5344165475318454, 0.9711837111180527, 0.3283377979759087, 0.9678271319038251, 0.519146641763367, 0.08428244382783623, 0.47160002665466816, 0.7416326790454975, 0.06702898426685988, 0.013434136321836876, 0.6276154671197156, 0.793746878002662, 0.8984125962267379, 0.7803206345498627, 0.7257771529699121, 0.5061866632711669, 0.027906614221358095, 0.8189448682302952, 0.6271869595896725, 0.65047304418977, 0.3129303401252801, 0.7092722869182476, 0.7812962311766858, 0.26458356667982597, 0.8093802919905129, 0.0562346084359896, 0.5875901374098327, 0.628962105699183, 0.20270551122710267, 0.6162438622248108, 0.7381313020137066, 0.9074446808348264, 0.445133976694956, 0.34084759940473874, 0.17752778157906413, 0.5739849023995469, 0.14829064998585528, 0.5872071575144229, 0.6053767753801694, 0.21623092737904992, 0.73643341068458, 0.14055642383636402, 0.007889084981307914, 0.6567477904206429, 0.16977231356155786, 0.7706249489492937, 0.04190445862967063, 0.3659124360998951, 0.03208370759059087, 0.14943465225425323, 0.4528955380644477, 0.8470294244802283, 0.23314677082191415, 0.9897541719816358, 0.8278090866358571, 0.3522834459262105, 0.45223174384921627, 0.98948056408891, 0.7135899060265247, 0.5310253778541456, 0.005648693531284721, 0.35915299325602135, 0.15255403936536782, 0.17101367146988156, 0.6636877306495442, 0.9808634946760898, 0.06179144598197983, 0.5285149844103347, 0.5327023675082673, 0.5378187788886664, 0.551286113026423, 0.7255006255146513, 0.7446432792416483, 0.47499785074467793, 0.20790183796193507, 0.9289938619221562, 0.5093766544262506, 0.5219131992135808, 0.4590480863346289, 0.9909091794232661, 0.6271971989623377, 0.44828190433570203, 0.2898844290110826, 0.8343478741077357, 0.2707344811079013, 0.1486635432521064, 0.7322393621782992, 0.5587302927107891, 0.8290901111635296, 0.07163471280252298, 0.558911261455097, 0.13381333911347182, 0.22067475226134536, 0.02907860965483, 0.7476274201716572, 0.42763758082198744, 0.31219298516732863, 0.09482218595401104, 0.22268992458289427, 0.9950721768850428, 0.30806221057981165, 0.3846789209936007, 0.934410287236665, 0.04893007023636431, 0.07892600223315627, 0.1704107865704233, 0.3690829889578435, 0.9778004428344458, 0.2567276847624175, 0.4973293264134836, 0.8169398398054214, 0.6919207982735662, 0.11746117598650141, 0.1757229437421055, 0.9967559115710509, 0.3423532459945279, 0.08041501701183473, 0.9281231414562524, 0.8562276958882694, 0.8661579977570818, 0.7940001727920206, 0.9179053158226779, 0.5493992278689822, 0.4940769591616817, 0.03773015016563186, 0.4990661428888876, 0.09530949442776515, 0.47817770172764096, 0.8492874618092303, 0.605895193580679, 0.42533822418829936, 0.6122810197655039, 0.10969399422483617, 0.18850630378694477, 0.8081522662576216, 0.3105420961684462, 0.9046402073077443, 0.895075048236717, 0.29528943957402076, 0.6864366000065872, 0.6889095029599777, 0.5906260894189369, 0.8989209345946305, 0.500807441949738, 0.32030345296850726, 0.8553619202542125, 0.9607604850118121, 0.24160506265639892, 0.8171104218847232, 0.5437743019327211, 0.30258591891056685, 0.8647816426220065, 0.1652635407343508, 0.9323282493772413, 0.26651588348694555, 0.3817077490345038, 0.47187442894436116, 0.12058852889291582, 0.11399958988992964, 0.8945772628313508, 0.46578833893745397, 0.008545803849527855, 0.9372440449186414, 0.28392946344429004, 0.3320672121528999, 0.9888007894838393, 0.028911645408922326, 0.45514286717962715, 0.03226801028835502, 0.4646529699966059, 0.4709157387853755, 0.8102048673181237, 0.07996746982270952, 0.17918561426302193, 0.5584469105551138, 0.13623167105750245, 0.4933718974741307, 0.9405700256218058, 0.5898231208799705, 0.40520557876811325, 0.900178678179074, 0.34106108745825325, 0.12294053163297247, 0.9098843535422962, 0.01669801905970869, 0.8335878724613714, 0.3992220153948427, 0.47107499380837736, 0.005968018103709727, 0.9102533856088819, 0.22719380382626764, 0.020828160536565332, 0.7143939764253879, 0.11364026495191848, 0.03806099266940799, 0.49190430444833244, 0.4699007917351341, 0.8234015859570062, 0.9661020087550112, 0.2949443177130795, 0.058620326507359044, 0.3738434838284619, 0.9806355586551604, 0.4586015638071257, 0.26241567947454103, 0.21040794538448082, 0.5871871373811727, 0.7810859451449678, 0.10902933876725318, 0.7980677686846525, 0.13448373648982503, 0.7666374280726062, 0.5016904894243136, 0.19181308929937335, 0.6681035731201365, 0.7495143437090631, 0.958496744553837, 0.1625619447009966, 0.3380191757128552, 0.1585180171288556, 0.7393322488785684, 0.9064085587865245, 0.618839403612952, 0.21631366517202688, 0.7316978666379841, 0.6776137883817712, 0.8653253922395691, 0.37711297301589997, 0.9098995381250727, 0.5823837278750569, 0.9959154369558968, 0.9141763252890578, 0.8463205136018974, 0.3758338414525856, 0.5899823519562875, 0.5756738415949297, 0.1311628447381573, 0.05450699881273191, 0.6147719217777333, 0.3715249904844238, 0.8376382613577792, 0.5778924943676379, 0.1802340824871973, 0.5894608724287805, 0.6590928950577187, 0.7716313610693981, 0.2670852701356582, 0.9717370554518654, 0.6595790607069608, 0.5985492346940855, 0.32733369555714464, 0.9580424855303135, 0.8155044958779148, 0.9926040820845535, 0.612491375700424, 0.10490884892065688, 0.017711737481512668, 0.18599425936779956, 0.9116450071095235, 0.6504649782930075, 0.7178998379047703, 0.9792024549570874, 0.03772504750355088, 0.3243888983494716, 0.6358491395071706, 0.19281645094081934, 0.8187842218448932, 0.5391756115447918, 0.3745141882105606, 0.8725636673070222, 0.3943205764212645, 0.6449881512010096, 0.3310060285702735, 0.5105060377741086, 0.18614793330943546, 0.897121736012917, 0.33869864145109707, 0.2789617416566742, 0.6930634112108595, 0.4758308073930658, 0.7193293717067857, 0.6619200552429604, 0.4412798040259157, 0.2787364473228304, 0.6166387658012866, 0.8720482864443614, 0.8773041105471535, 0.7701732073344084, 0.40481770489855284, 0.5294280788581247, 0.26909901592556806, 0.5775827329082469, 0.4261401767056805, 0.85841879616319, 0.5376256468363652, 0.815753675561752, 0.8507816078305205, 0.33164629364621734, 0.4046865380690724, 0.7654565170710185, 0.19813518751763204, 0.3274098889931084, 0.4478404237702671, 0.470055131239824, 0.5759604779612764, 0.6465873138019422, 0.9174748896355237, 0.36637158833090033, 0.27386465072369925, 0.033819865530626214, 0.10777749140442949, 0.10617863438902553, 0.30479470465708336, 0.7348130878518732, 0.8287529376384131, 0.02957353002435681, 0.6716589112312893, 0.3092654784848654, 0.8532453485091066, 0.6237901824361151, 0.5069796833412836, 0.46329214170443955, 0.07145250758746102, 0.34102137603806393, 0.6269726043169389, 0.02263928992721509, 0.6643925772486914, 0.04283220803468468, 0.5726717609312333, 0.11135766019050641, 0.6063916774978144, 0.8649555589182656, 0.21081505938861422, 0.5457077334540446, 0.0391724643170579, 0.5601678606405199, 0.7189478890487061, 0.7271599725047738, 0.711108303994753, 0.971470680385402, 0.10999894256063625, 0.40666059818719125, 0.09532506742103997, 0.17068083897646968, 0.3612756171157234, 0.3871887854154997, 0.727233585200585, 0.2896991638303459, 0.46632052722317296, 0.22240649801402024, 0.6304612848030295, 0.8190964760436201, 0.42622284467962346, 0.35909672366394607, 0.4927082525647335, 0.6062798342122716, 0.8664695111117524, 0.2704186358054673, 0.42665528428116184, 0.8585410330022559, 0.34866866513148376, 0.8011999134174046, 0.5356851927063441, 0.10275438126465342, 0.9837717789556794, 0.6602635322599182, 0.23876626309964588, 0.3700338506886425, 0.08799026010909539, 0.2380879804533408, 0.7629942748980314, 0.8998638423152256, 0.08132964340848836, 0.19485142055294757, 0.12303254234831451, 0.14556048353666962, 0.8420905954538684, 0.5942859928455108, 0.6163263992338428, 0.9921730800231536, 0.9206571554011743, 0.1023383253980431, 0.8001373481979038, 0.9790079165155049, 0.5477898942027531, 0.0050130626168295445, 0.938672966703763, 0.25237860605635387, 0.49370206306667686, 0.84092916305433, 0.41020206935977777, 0.09032152916078384, 0.9039473239432066, 0.7820507803441372, 0.9243812401813124, 0.5882245291518647, 0.41266578628945183, 0.3005062231882808, 0.9292815502063193, 0.34379277144596143, 0.7248180199930874, 0.006260368150924678, 0.31862135235608524, 0.16092125321890605, 0.6258685194245376, 0.035493757744767485, 0.2766230228825266, 0.3126411998626888, 0.4052094991550417, 0.9232086081450329, 0.4591482881788894, 0.01769403793373492, 0.8151913697724441, 0.8934658623244423, 0.6270247198302716, 0.9601963316620088, 0.317038141949351, 0.4399371095839747, 0.8538366334764358, 0.1385330900257583, 0.7972542316653067, 0.12608095301200972, 0.6177583377930881, 0.6572311264446549, 0.9105961394282527, 0.1707857902640263, 0.4113063366444377, 0.5754722914623795, 0.9651538264311008, 0.06270004622238001, 0.5236242265806027, 0.34843867871033807, 0.1582412715271132, 0.4423284476490418, 0.3742282894992919, 0.8609886582572566, 0.9638552841825154, 0.4144680328468928, 0.38480736149684835, 0.29056965424517445, 0.8896534770107223, 0.532923961839764, 0.8764921390653927, 0.7901599868093587, 0.2521576298410727, 0.3918509453500745, 0.40463803487129235, 0.1731580685035652, 0.8970371039688532, 0.09175122210682218, 0.3973258764679305, 0.8659914960517501, 0.7140508983375374, 0.8960636167766237, 0.660855560884956, 0.8759370256532917, 0.4890747733874926, 0.3516694198653747, 0.8143163983710633, 0.4343513634228434, 0.18108771690085868, 0.28105120230190106, 0.6622237040972762, 0.027208143722030398, 0.6728769181666365, 0.048269945311465445, 0.7122049669813463, 0.8643736441006489, 0.4202310269813062, 0.5306845217900665, 0.3959407967996109, 0.7458450458732953, 0.31730663658657066, 0.8333730977808673, 0.8700032600414986, 0.5513120315638872, 0.7178212419340408, 0.10237810499547706, 0.8059879022055779, 0.30280381770763054, 0.04894537492896145, 0.25879856826907266, 0.2692961765891101, 0.4193456657346646, 0.34497413643215724, 0.7646924077574246, 0.30582870097667003, 0.4647830732615946, 0.49517134378847927, 0.5973784979385808, 0.9005470488510913, 0.1212157327766834, 0.28296766705830034, 0.2468996174086, 0.17236277310691805, 0.24693679331361085, 0.35223417059549667, 0.41971260926910825, 0.7248575075854523, 0.1314572145121753, 0.6931698744928417, 0.06841370513242351, 0.6101712111838042, 0.5299987598685824, 0.5892678603981266, 0.12065167787584186, 0.3242312778741455, 0.43433266311340213, 0.7025564880699491, 0.8562158035116298, 0.08998263269060036, 0.7923503156155954, 0.3915606801334348, 0.7560360401604225, 0.7947264504049119, 0.3271896519928503, 0.5732631621637801, 0.16737927456746693, 0.9915603806414997, 0.4009270366729816, 0.9026685817199535, 0.8147553679125393, 0.08411258029247382, 0.7244814767372734, 0.08761678310216592, 0.09929886849847569, 0.5210044991973279, 0.5166534610995969, 0.6152834853642811, 0.441470893001776, 0.8617783129199573, 0.25887013452847707, 0.5064191149351601, 0.6074191049355765, 0.738439396839463, 0.023767410831666114, 0.713389460682289, 0.5347365728863308, 0.057539241527830964, 0.37427733897974813, 0.622140172487918, 0.08231960428019103, 0.35689683874953615, 0.09714615887061295, 0.5712320493102392, 0.4934701713541364, 0.40222049228451817, 0.5802853718605421, 0.11277249544775225, 0.2851328837559982, 0.34213720668521785, 0.4505646861318262, 0.6658391303599516, 0.691938369843814, 0.6810831947893374, 0.5113993142956156, 0.23095470482615876, 0.2554805319109906, 0.9589281837108211, 0.980361190323113, 0.036971158319969666, 0.610874120566565, 0.08473338375708417, 0.4942907808643797, 0.646344049449775, 0.4746870953003445, 0.5528844040374221, 0.04208940955705254, 0.9791508790935038, 0.11398760028256871, 0.41342789282857284, 0.4748051785955566, 0.3177691946861687, 0.7583814292528804, 0.07201120121961013, 0.2562395242216666, 0.2595216149301808, 0.03003287603817517, 0.6508908124906531, 0.1820676369762878, 0.2667656847658392, 0.21148691370517003, 0.944067447616904, 0.0019221469345664932, 0.7210365953505895, 0.5093226032263416, 0.5312814677653092, 0.697453628744425, 0.6782403276810287, 0.9395846692180736, 0.6938354224634761, 0.41085410665121025, 0.012107784088354112, 0.09736888463378557, 0.8486503487626175, 0.525103587444788, 0.7241468690791382, 0.14539172532822953, 0.6897288582585558, 0.9676851149461775, 0.7746987801264686, 0.4187299409116967, 0.782030219173189, 0.43744275704663604, 0.5009655642692231, 0.9222410837155741, 0.9528495096233157, 0.18749224119386476, 0.8452855850058159, 0.9275398516658748, 0.03637240451055934, 0.8087115385350144, 0.2399041280137143, 0.28746682134863355, 0.9968997597856891, 0.29254001047135336, 0.6392402398646858, 0.3371613701374704, 0.6911387974175326, 0.2642008730042008, 0.792926690283261, 0.6705817579635476, 0.08967543725962512, 0.10171514887146982, 0.3029853326454427, 0.9748345777815337, 0.098483236333472, 0.540051848560429, 0.233027011071676, 0.8155021355816197, 0.3712970935267057, 0.16275221497244696, 0.6249600124142906, 0.35825018496418837, 0.4592128206590471, 0.30498602075145576, 0.00495659183490238, 0.3378427208835604, 0.9779922104411837, 0.45212010794325985, 0.5760443284752131, 0.4268383038942227, 0.36442657111520416, 0.9774523777568276, 0.20431979549804757, 0.5452541690736138, 0.6046402635672056, 0.9649461547951196, 0.6795559156256087, 0.7369034872596066, 0.10442810898940524, 0.3943266254237954, 0.12506151117918152, 0.03856304525044374, 0.9153735245217086, 0.6329210261844486, 0.24216272399298377, 0.8313122212080896, 0.46356515652783925, 0.20861329783703342, 0.5484175688393172, 0.9638049519063587, 0.22881331372747948, 0.8429117201769268, 0.07948247765733563, 0.2745579403338154, 0.7982297553456662, 0.9027421257366934, 0.8713275788716225, 0.7230231876212062, 0.4790349914976061, 0.24364259199934124, 0.036518114848734795, 0.8999914583789347, 0.1599917961255083, 0.23315369532957264, 0.09950146704670992, 0.47512662683663964, 0.03563193500706452, 0.009046824712602874, 0.7737591537274097, 0.021148907842736042, 0.3430331469608824, 0.09648290870281984, 0.9176247462631667, 0.06934857170233932, 0.18574161251264443, 0.8463278001137128, 0.9173799083593378, 0.762101159231859, 0.7354181374134876, 0.29744449226388925, 0.6008347616155332, 0.23098678084694413, 0.4231444156485771, 0.662598049756687, 0.8429474758219235, 0.7729953645354275, 0.031562576306196966, 0.12418314263071106, 0.0348628428201162, 0.9379693251643777, 0.09747513989894818, 0.9072813535353047, 0.15259351601909177, 0.8705910972976818, 0.7364733837193622, 0.986377372555418, 0.27776244314077825, 0.1880429402021685, 0.6779844115222318, 0.13775993195929914, 0.3675480865797963, 0.5606170241231302, 0.24460858539123942, 0.5152279462364225, 0.3945126937943674, 0.35605336598011306, 0.4567301326497565, 0.7570573668108371, 0.41785828199574815, 0.18476838235886384, 0.9873976474956543, 0.33088342107371915, 0.5063153497170139, 0.36590330890832024, 0.19642408789448362, 0.33345252892945587, 0.44370812922541114, 0.16337305569891725, 0.7045399576691266, 0.027135281716096582, 0.7668309081624795, 0.945878179758961, 0.9835995294599733, 0.601167328228317, 0.5086357170824013, 0.6031757974044044, 0.051675609537588096, 0.09527772666825518, 0.13746525524398756, 0.790825450137292, 0.4183776134427736, 0.1886370205391802, 0.5853541026378319, 0.8606438776187726, 0.6361679113547418, 0.5897775792829034, 0.7500291083899371, 0.77648190168903, 0.4987377815172206, 0.7977918718584426, 0.04946596603873654, 0.4254189101124126, 0.4294939841004717, 0.10698514410923154, 0.09014267048573255, 0.6195504562370323, 0.6648296259145953, 0.8867164427311421, 0.2868468841931495, 0.9741409046676592, 0.4459549149621793, 0.8412000394058944, 0.10018624086398265, 0.6696737208539187, 0.48280025643020663, 0.8116384996423004, 0.7209471993053396, 0.09318196252705835, 0.3004677185224792, 0.8614821947470533, 0.5827561470985594, 0.4967345519021681, 0.10636038114328306, 0.7384487206596344, 0.10521240666189213, 0.14937735691571496, 0.8671722396348179, 0.44712423792566547, 0.09458666282784212, 0.859306037381182, 0.05280554043938812, 0.7892545768142026, 0.615136027084861, 0.03153432747038476, 0.056413665125043866, 0.25983409689764414, 0.0866133294440592, 0.01069923840821907, 0.3901978384047434, 0.7077775747364792, 0.6969282922797447, 0.2206966509709415, 0.09477143491166318, 0.8251810348394442, 0.37793022824043065, 0.0876147449841489, 0.7469057976303968, 0.8480991898054006, 0.861477001756039, 0.4891004784860997, 0.6480633804742849, 0.32045507435892506, 0.5419985615370169, 0.812599902157154, 0.17390253460923877, 0.47098163370640334, 0.5250417005655085, 0.9451783875900467, 0.5005389216804059, 0.14472159320306788, 0.12372252226112423, 0.42711577679900203, 0.06895096547374535, 0.8293231180429481, 0.6280508761340398, 0.3314990046863888, 0.8238040158196734, 0.4965768320056996, 0.6522002459472709, 0.8359594324111542, 0.5040503737461552, 0.8096199830616382, 0.9195065757095024, 0.001974067762332554, 0.6594515650927782, 0.22617997280545976, 0.7058871948663021, 0.1185097276323791, 0.8950822743005231, 0.6017731810203595, 0.9610252002326323, 0.7417344187126961, 0.4789530829513937, 0.10956057987559975, 0.9579717321266965, 0.46913710490657345, 0.7535650066471342, 0.9541457226708483, 0.9475477319921265, 0.5832000369142009, 0.7983151496323944, 0.5503100354069204, 0.8203902139329144, 0.8887436558454878, 0.07848962475879984, 0.8624309528682406, 0.09085644221124634, 0.2699396659151978, 0.05950974439358059, 0.8526082362599617, 0.21412131092772246, 0.25334017773430917, 0.24245817641815104, 0.2404743378347901, 0.9062023022699671, 0.7877376329318388, 0.6671617543163376, 0.8732738344388175, 0.9377058187134181, 0.5665537565665645, 0.4241730952857139, 0.39465899127654824, 0.39283662234404126, 0.7741969519075547, 0.8619638329700027, 0.8257435161736455, 0.03585014732607661, 0.42787392694848203, 0.69858074655327, 0.5228458814787525, 0.7623632567125344, 0.6424658064854458, 0.3300369584945213, 0.5197071119289983, 0.4665464768808977, 0.3059206925409199, 0.43168323967906574, 0.46540775404634116, 0.6884330224920493, 0.8861975029845488, 0.2640381393130311, 0.09480151831791828, 0.7240330713384269, 0.9561631351957233, 0.14309295968073277, 0.41443106735069646, 0.23428433611543942, 0.4380517667109757, 0.8564007069262367, 0.053366367372781665, 0.06708481480593365, 0.5583277163500192, 0.06547598072105676, 0.021854889575304903, 0.6766618449753007, 0.7352747959957995, 0.8454335509364161, 0.5113222151900171, 0.6789673833786734, 0.4428077924622894, 0.8786168102169675, 0.8639471830293243, 0.7934518718875102, 0.29695899592794084, 0.029173236993443652, 0.6720740149495605, 0.15304444730057298, 0.8160315179154345, 0.9887224578562056, 0.3718923970655894, 0.36703763923026167, 0.11045336894936364, 0.16758350938701838, 0.3115806474284677, 0.610840076110286, 0.7741775350262363, 0.5077235870845966, 0.4591027010298473, 0.8357840820753464, 0.37167366310603056, 0.43310578039795977, 0.5149957228675593, 0.6166735326313537, 0.6317668859879016, 0.8743168715891043, 0.3924991928576175, 0.9025523796391679, 0.8720813440837599, 0.8401129877125585, 0.886647788625432, 0.2792990535980533, 0.7423326869120864, 0.01747039457782351, 0.12575082950433425, 0.7542966729427057, 0.7231327048611809, 0.7070471891066846, 0.8692053866914363, 0.9045839407531353, 0.42070715308732276, 0.0737645358336545, 0.6075622982527153, 0.04862735185654965, 0.25255803635359286, 0.18644906110877024, 0.9958493749580403, 0.9132027816490607, 0.07816787165877803, 0.6877553669352618, 0.6789179892961538, 0.46726975703338824, 0.7424877879450398, 0.835211826970731, 0.37794817322643104, 0.45183012122502675, 0.9234956421635274, 0.381673210353789, 0.6277642238911514, 0.17689120576697948, 0.6983242276614259, 0.2341762844567874, 0.6424118180075695, 0.2661384289179072, 0.4474119059731446, 0.20227327890003166, 0.9442926424809224, 0.4307823471794455, 0.93231258932694, 0.18997021524950308, 0.6752381245161275, 0.9873165673760695, 0.8897440615290487, 0.3875010357702161, 0.4200280187715718, 0.9935714210138502, 0.6702830087096705, 0.8858919735704115, 0.7295130700207801, 0.032917203632993886, 0.008266974763968093, 0.13959700941677677, 0.8120331575482305, 0.771523095048205, 0.1490947778636046, 0.7674840930488843, 0.3884087591090363, 0.4557907010087694, 0.0406063618164616, 0.7378089334922203, 0.5278033801055005, 0.10783939469946446, 0.016267888878894965, 0.8705947175401966, 0.7276075560135157, 0.46166935291385014, 0.4791404485834345, 0.5665711146041784, 0.9129148751684119, 0.9894924079723086, 0.8170768109906393, 0.5767350880249495, 0.6333785167481534, 0.6419031393159988, 0.6479623562272672, 0.14749018316212648, 0.411989497061811, 0.08644396746085625, 0.7346291359279313, 0.6541251404117651, 0.5474173821556394, 0.5485932872801422, 0.258157840689786, 0.6446312889340101, 0.49178829112001277, 0.9987030083212312, 0.2290551466408549, 0.924367575667633, 0.3037163162045783, 0.93194619262609, 0.004462037891531212, 0.15683385730385468, 0.0819926904651832, 0.9753839221521353, 0.548129486901252, 0.7586062042107234, 0.8253197842443746, 0.2602681988909653, 0.026922695485751547, 0.7041240397235184, 0.9851737670175341, 0.9345779868497615, 0.000661454234648251, 0.25392438796994055, 0.9715410411795644, 0.29727618548551127, 0.8846966717457634, 0.3540076119321538, 0.23069059196554997, 0.05480362581625142, 0.35340259284123987, 0.6723855481061501, 0.9153952266002433, 0.29340176892491177, 0.6524474320458596, 0.18428665288847768, 0.43063073846697963, 0.46864894574978677, 0.10954771154123477, 0.3741370161708699, 0.2835499917138683, 0.10481753274445504, 0.7239615642793282, 0.1469572399140493, 0.5480972583808997, 0.5972306227540428, 0.8520477207874663, 0.46371882645206386, 0.2320494656689731, 0.7511168448964357, 0.31437472878157735, 0.1381460114049179, 0.9345390637442468, 0.615597536017039, 0.9061432535081141, 0.48088326849884255, 0.012176964209453023, 0.4213970956812615, 0.2233367698676023, 0.0961607756652555, 0.10563256072739236, 0.4184495094094115, 0.9400408809108328, 0.1562351323159834, 0.7496246224335502, 0.8375722120608942, 0.9402101855878253, 0.6737023034711184, 0.45378869324108084, 0.149309353726648, 0.13038965590740825, 0.49937542002825563, 0.9250828205256478, 0.9708113043660856, 0.5797061144252912, 0.06687453921348752, 0.40168588391661497, 0.28039238458863625, 0.004201637579750228, 0.07823412759391957, 0.34103998628511345, 0.1527217521484049, 0.8554676440826466, 0.22419666373666247, 0.6371431154194142, 0.7142049614422047, 0.41220834360281355, 0.1623076026417961, 0.9569091015704833, 0.9214360410930953, 0.12109806298972992, 0.1591319999441383, 0.6901596095717761, 0.25401300860580356, 0.8801275677025152, 0.77624617112686, 0.6884188421079028, 0.2892995325760944, 0.5803544328280543, 0.725475948352355, 0.5043811353917697, 0.13250131732951465, 0.5582255602486154, 0.3015676103246244, 0.682538065137133, 0.08491314949382056, 0.23979726616290342, 0.9989178784679713, 0.34455835081553543, 0.7599119112834325, 0.7551534903834697, 0.2638094688377821, 0.05049497379782153, 0.37962666102864895, 0.4623514989319376, 0.8989286234069388, 0.6914486276384912, 0.7345428379211244, 0.4649631907007926, 0.5664087117922709, 0.4859730035186254, 0.9174964485287206, 0.25579670302042745, 0.715588581039143, 0.2176844012820055, 0.48659055257152295, 0.5151706305019269, 0.23432015142377305, 0.3185568504730214, 0.7475437309022389, 0.7372477798081128, 0.9174475776384625, 0.24202311156903789, 0.8993509622646462, 0.3402375958909608, 0.853676396825508, 0.11237874634395795, 0.5756043272426115, 0.9127175632601773, 0.6782965426691256, 0.63543719623554, 0.18203913340179945, 0.9682635572187738, 0.9584754004177496, 0.9208382155170043, 0.05431734369004948, 0.9711372505096909, 0.5009405755384435, 0.2766205808354554, 0.40843162897386665, 0.4002231717423368, 0.2747320638753863, 0.13516783530725174, 0.2579917516768704, 0.25451366717817026, 0.20099853518585498, 0.5962613365485824, 0.11875436408032058, 0.9904630307530935, 0.10761248801902346, 0.3986612111955662, 0.08166746851050133, 0.1721758178906272, 0.5650284922130506, 0.28853705115302186, 0.15014906443596387, 0.1829492728498101, 0.9441844316779249, 0.6708449264600364, 0.47492775674682786, 0.03089555504774688, 0.5722153350953573, 0.2520145123985026, 0.014473505644331142, 0.8502989221871975, 0.20239125670263947, 0.9265667994055801, 0.8683846991606424, 0.3630999541297655, 0.7394527410108911, 0.5848728416565072, 0.4235955441398166, 0.4037613050513925, 0.39364537921470644, 0.8121175124579832, 0.7243397515887378, 0.8539581715367828, 0.026423640904884027, 0.44424332032092584, 0.3253699166173867, 0.20614997072912067, 0.4964423117643466, 0.7690929341002639, 0.38701783445291504, 0.14404128619426648, 0.4946749853103982, 0.8005837333958943, 0.847379674828979, 0.7261861023697002, 0.6092599537528427, 0.6842852221749146, 0.5721101237534714, 0.28400276590485796, 0.4118263383445815, 0.7124904282001621, 0.23634265795414, 0.3993550296759162, 0.5881862194642047, 0.8407800887456305, 0.750413766254619, 0.3792410552252482, 0.9518718796888345, 0.5874923904671916, 0.42762795252453467, 0.6500060189187027, 0.7156617086188769, 0.9553691819731611, 0.17095436248677576, 0.7920469137331093, 0.15885075666453075, 0.6100257171747722, 0.3822503322380827, 0.9851607218540075, 0.07152939865043295, 0.9423464483600132, 0.20573824496455428, 0.015677936525854697, 0.33864594749286603, 0.3702350340069459, 0.9550646947808817, 0.25958185791443356, 0.06775631791526748, 0.3676973220444424, 0.7342325233790582, 0.5023947139730092, 0.2147411218268993, 0.4822904733247345, 0.25039801795560235, 0.7448462541021328, 0.33197793153359023, 0.3676948999765973, 0.7303746454510569, 0.55920475010913, 0.5080852887242192, 0.32423996160384494, 0.01184768406893466, 0.31018752049124954, 0.4985135039000146, 0.45990409500068874, 0.08603558458359128, 0.7552935852709756, 0.6750092223594745, 0.8786252474329161, 0.48316760397597336, 0.12693001918503288, 0.4284870614519064, 0.8175497042492162, 0.14219501558249414, 0.813903966099192, 0.10617499481140902, 0.30881743588643273, 0.6903367878702257, 0.43895358293110176, 0.39343181966098206, 0.7201962355835685, 0.2142009608366655, 0.7600079595535757, 0.25529765134977755, 0.5169750006470984, 0.3587725935267715, 0.2789707223881759, 0.5862676031210673, 0.4757175527948819, 0.6203268919815079, 0.4626411144113648, 0.2824367749264086, 0.15530659807715752, 0.9520553804743808, 0.5391253021640794, 0.17049957927113735, 0.7549145811356244, 0.18162112895815719, 0.7553520303356365, 0.9960626276915285, 0.009115681951815224, 0.7893569008277387, 0.5053267384399586, 0.4934590720695351, 0.5835886484902014, 0.3285617505545442, 0.30475356050829006, 0.25269531083300134, 0.13876487789949188, 0.5450104864882991, 0.06705469784385343, 0.5738728731991233, 0.6406445837156391, 0.18647125091419336, 0.5983748890918597, 0.7294100709102945, 0.10132794172566606, 0.17312549440579927, 0.06252108484003349, 0.005228664695291929, 0.2824953176792705, 0.7367571351624833, 0.3930231741462574, 0.12363682943497267, 0.4186873840767029, 0.40284485547848425, 0.4863762741777994, 0.833748639464652, 0.554367427740474, 0.007538637613460741, 0.017005691933844935, 0.4726278024447629, 0.6359315931850169, 0.14011877294616004, 0.8866428042321328, 0.5587656193401319, 0.5094842516129823, 0.30217022769096724, 0.610168589611667, 0.5085165191180295, 0.41614859525547654, 0.9017855395936029, 0.6374689682350191, 0.7856847659690019, 0.4327796260493777, 0.06878199384358175, 0.22229402110476681, 0.9939375413530657, 0.13008340914988203, 0.15541051982158993, 0.4356029820081089, 0.6993397579641848, 0.25886980702234286, 0.9408386662450291, 0.7959067727574215, 0.3431496584288014, 0.808276134984361, 0.7216512618628844, 0.20935286111618, 0.42278151570438693, 0.327404324461506, 0.3053105529317972, 0.612543186710958, 0.7635841987180763, 0.7265683070686125, 0.2542051563797282, 0.12548483965639412, 0.8217317053814533, 0.9171781130629789, 0.4487367504430072, 0.9869640390610006, 0.745726067820742, 0.7672367110541913, 0.43258477488161085, 0.8550593367358207], \"y\": [0.6619402441876058, 0.3988730573916821, 0.6307034532973227, 0.029510344609871675, 0.19334183585843234, 0.9383161436216041, 0.41294069097775965, 0.8379186568736551, 0.6574759486088768, 0.9600386237901702, 0.2134824626616868, 0.4596141635995513, 0.14626501143395854, 0.13658545004350675, 0.30686733397444566, 0.4497122289617185, 0.4879629226738422, 0.2074515645099967, 0.9390849144438898, 0.5515941524154301, 0.8527338550819765, 0.5002858527438694, 0.4562897601249125, 0.42153135574697764, 0.22084386792450972, 0.10080827217857169, 0.24118012079919893, 0.8444672302434608, 0.6938080869645564, 0.032065334659223454, 0.18374367816896997, 0.6063924670339574, 0.016939488142483694, 0.7441807532821576, 0.7773575795913971, 0.7481179866692164, 0.42918386393667707, 0.5890999630603055, 0.9129106185724403, 0.8861844109712094, 0.1185954173093201, 0.3269894191566399, 0.0896693656112163, 0.4298703012491101, 0.6977351544606527, 0.48462508005778904, 0.4869223271581121, 0.16855285396321062, 0.20846251201319532, 0.9873920339843553, 0.9995265619281029, 0.8042047616673643, 0.20647930577173812, 0.22373619559110025, 0.21942695583812888, 0.4642978643850343, 0.7862293255231757, 0.1750511807164704, 0.5394197858348261, 0.36872725239557247, 0.020956192727670242, 0.2026261729231129, 0.7720193606559511, 0.7766369947134473, 0.2561707917483915, 0.344771961419031, 0.3975217044858287, 0.8169366377608285, 0.5282929397171919, 0.2804688954910811, 0.6757519222203816, 0.39498625911229357, 0.7916672908897894, 0.010449104463092551, 0.0867072320939205, 0.06868341898473962, 0.5232743616812028, 0.9582478660397578, 0.5037706830540238, 0.9008613613252484, 0.046137733350181453, 0.8940259413067857, 0.2864391816786611, 0.8006744514488331, 0.6124305452180723, 0.7962937396062323, 0.12155428394678403, 0.6751235667055507, 0.4661911440035077, 0.9133488989531721, 0.6592556243199376, 0.8848587078981235, 0.701804493413769, 0.8696661382808042, 0.12049670544449664, 0.024675038558237605, 0.29009233870757634, 0.06619544966831503, 0.8025623907845271, 0.9002609089400546, 0.10795123304499166, 0.2900368467931459, 0.5901046301138048, 0.6572598867120281, 0.292874744417022, 0.4189217684335482, 0.15691367943077095, 0.97749005681422, 0.25836539557626437, 0.46874733699772797, 0.33874776400974604, 0.41682592886244885, 0.3718575072017055, 0.18032002073236764, 0.9293549397191404, 0.06166765057442447, 0.3209693112401292, 0.3086484626246514, 0.4206007810796254, 0.017890717294639757, 0.5457676839182559, 0.11991588206083803, 0.5428253605700483, 0.2833983260936326, 0.4789521128630122, 0.6742175321834007, 0.1869258204177512, 0.7448384297972069, 0.31105589254389865, 0.7380496380798222, 0.23929035582510616, 0.31356456492906337, 0.5911861913866268, 0.2729775138253313, 0.5557230307247892, 0.3629643311792633, 0.3633496364905544, 0.20827621472288926, 0.3444515542158775, 0.6189169265063749, 0.6863183730097205, 0.05995570571704478, 0.23160898664015683, 0.4627654887711381, 0.6901709091262659, 0.07056208383284246, 0.3056654391389928, 0.007671446965838102, 0.8480505226237111, 0.24666993837984041, 0.6741861279347623, 0.06807780275368891, 0.46996527877580174, 0.7728369800313583, 0.10871512356439028, 0.017494814851998663, 0.5684201553751536, 0.4477064839468732, 0.6589094679764711, 0.4790047819418234, 0.46022841515846613, 0.7165371803755798, 0.15814184230609718, 0.29495753008771197, 0.9880689017072729, 0.2963639454765278, 0.04998792686691844, 0.3491220433127754, 0.3479473831768485, 0.16832322763325336, 0.5284399278368944, 0.1181863217793554, 0.30728369645175835, 0.45128669712424063, 0.642434155403694, 0.5613444344864819, 0.07177597674480585, 0.3578495175515455, 0.8577195153061354, 0.4146797974351043, 0.22488915955248534, 0.5793736421094485, 0.6129678551755929, 0.6978024772123481, 0.39886554857100587, 0.07796152745632468, 0.11702024556010282, 0.21272689646738707, 0.6278581643366433, 0.5429208458103638, 0.5925952358951626, 0.4326640836502118, 0.1560351498294481, 0.12665908541899207, 0.953238185046565, 0.3727510002843212, 0.03293190814690672, 0.5209065230431574, 0.6292850599205829, 0.5180236619099579, 0.0858849875295048, 0.08246724597453803, 0.8746361829449681, 0.051296023057299744, 0.5912669376257678, 0.6858059535275413, 0.840831261479413, 0.7407616531100595, 0.9596288379438166, 0.1307230779209002, 0.1948763816882395, 0.35810354401900846, 0.9556606491607404, 0.06711479999810688, 0.6325173235611755, 0.8355171739751284, 0.06399189319176946, 0.6735687582537331, 0.5654302091064904, 0.7076800140250186, 0.5981166459534007, 0.9670936144928912, 0.949718142250731, 0.5250479163353994, 0.3457998765006185, 0.00874778642463292, 0.07045400721080453, 0.4636469749905193, 0.026491490732968415, 0.65197987302443, 0.32841300135837437, 0.23094068115248556, 0.18911778237176147, 0.7149088518270532, 0.10382246597789346, 0.12642318951709863, 0.2574788263351513, 0.07871827449553315, 0.455398674902625, 0.8958908210925977, 0.4075195294190025, 0.9114621493239337, 0.9261953647447125, 0.13597334608698253, 0.2694257484163125, 0.019049996589959872, 0.7530597224821002, 0.6735730243692745, 0.2687008111929312, 0.01989372276314616, 0.8194187964027333, 0.2954145470858659, 0.1071889316975515, 0.2595771501082319, 0.7748663066646161, 0.7988666899777965, 0.8038759483496171, 0.4410628678818701, 0.5627591210929231, 0.988685250606121, 0.023468108838338386, 0.30565681228603425, 0.5816314450311695, 0.580073459627912, 0.9513282563721553, 0.8818539049384343, 0.18165448445176102, 0.3010247045036636, 0.9414986338472442, 0.7731085848607233, 0.27115097616286077, 0.9275367159821077, 0.4749511341308812, 0.14475547361929642, 0.3507354701568234, 0.2376719743786293, 0.5993110870977248, 0.18355045740055587, 0.9061677777798525, 0.18568582655247612, 0.802282610233116, 0.27726992310531806, 0.9412931756037397, 0.45174025935158835, 0.8290230039613509, 0.029235041238546033, 0.5424925434941273, 0.18129289569055518, 0.5483018397222609, 0.19733717791633998, 0.6614975669756554, 0.29310953184219846, 0.5502567738507185, 0.9309958553010172, 0.7013577795518962, 0.12390970101155485, 0.5819615264632391, 0.39858915091082836, 0.5816429184172552, 0.20557126170429096, 0.6278233380315997, 0.12039153409401193, 0.7522554881962875, 0.41809792093149256, 0.07967677943402263, 0.33477395722509173, 0.08453009174944504, 0.3962256315391369, 0.5268170271559489, 0.25897381395684804, 0.34287351960790435, 0.027993579905183363, 0.9190182755003742, 0.8690608458974444, 0.9433836329514497, 0.5303195472400999, 0.26935790332946297, 0.6681678598722576, 0.15921629867213405, 0.48558981125499967, 0.9662121116277623, 0.11826704898415197, 0.963101330239832, 0.30538339852542806, 0.43934712490004413, 0.8053138255433612, 0.339544624041875, 0.6402484404700365, 0.37028670184800727, 0.0795355861685193, 0.13785161562215253, 0.35368981102984787, 0.5592665153955737, 0.18579804737969674, 0.44023048682357924, 0.681653943302695, 0.40157787433965075, 0.7101214689621361, 0.8103120343630964, 0.8961075642681519, 0.21800654347766524, 0.08535616161815118, 0.1836238496956637, 0.04041758177188115, 0.8212808577899606, 0.5456906741284273, 0.6254345399140726, 0.9790193290854221, 0.5804909003882158, 0.08977376580598673, 0.14862537685429167, 0.8391586293070765, 0.1537675788790679, 0.6862437671649159, 0.9996864864629311, 0.8553243833109676, 0.0935849795032665, 0.09303832882991081, 0.512663351872879, 0.5658213056646926, 0.9279729199695751, 0.4118424179160841, 0.9854399086199895, 0.9901491577174636, 0.22531648469838805, 0.32152223766010646, 0.7298235192873045, 0.3277256713616743, 0.700943645428375, 0.8022828882286145, 0.6983131340002345, 0.8319870748048447, 0.304785632575476, 0.8408128076158118, 0.0004298771382211797, 0.30561784327610597, 0.6020689216325772, 0.46028616784088616, 0.5256655228271955, 0.35293952908448756, 0.4358120296892033, 0.9671721636795072, 0.6977593819663888, 0.5065038683384124, 0.25202335747002147, 0.09700246416659042, 0.2641017139959452, 0.4635883059527426, 0.6862203298809206, 0.09538122798331494, 0.5872724411400896, 0.9045948650878806, 0.3331400345081137, 0.7769387063696467, 0.7550726707813558, 0.1273527553348337, 0.3132398629055685, 0.005841094055137663, 0.10019315379809346, 0.2723700311479653, 0.3553156221603335, 0.9477523852947158, 0.9622911014813608, 0.9167823378825182, 0.9821318207696579, 0.8439794454070791, 0.4802280813782219, 0.9736871081763628, 0.9468963377517179, 0.8732195263450432, 0.05868960857249694, 0.805413378968797, 0.12825239591114013, 0.7713290603831902, 0.9179022107835503, 0.9721851893778959, 0.8688665590482966, 0.1917971125821918, 0.8884661841828286, 0.4954300964176117, 0.9473644753308086, 0.5815939464950126, 0.1911386367533332, 0.31773755368368173, 0.4773596564614533, 0.22722551080567333, 0.0021704842870936547, 0.10321663770873102, 0.9631746868811779, 0.9557749812468674, 0.852389269305765, 0.991528329809603, 0.14241189518230912, 0.8373568770005055, 0.11294269220629927, 0.8670048248606257, 0.8856994896078187, 0.3198893143806586, 0.16704170977661337, 0.8779073684486219, 0.697156560312623, 0.35529379503803415, 0.5322208518870716, 0.45291899074770325, 0.301283981692098, 0.09685315843295572, 0.774748229538512, 0.36874642766544463, 0.84965215308432, 0.6847571426319251, 0.6535008762138383, 0.09396610491306767, 0.8631630978928577, 0.19693086422438766, 0.019174060087078337, 0.08583254021114495, 0.6028971050822883, 0.17127814660208263, 0.4147347774126663, 0.3222098832574475, 0.6689042101007407, 0.6130447500272772, 0.34714182456496745, 0.30348915528649456, 0.7912342504694063, 0.571126656001256, 0.23793650537714006, 0.9573912853496924, 0.4699184808847793, 0.8343446391943682, 0.15426093206219404, 0.7669203806541276, 0.26715758196645056, 0.420248400811397, 0.30126224270696267, 0.5547334165589468, 0.5338827973367359, 0.5988764916142196, 0.46360011681326296, 0.46530688239285944, 0.6955355289612832, 0.21351974570919385, 0.12374497631071735, 0.9765213750823877, 0.34448641352138665, 0.21789345298593743, 0.19069815485843689, 0.5766768346769917, 0.5095220387656723, 0.4141802465177653, 0.12122730088010325, 0.5117307512509801, 0.5360881904925376, 0.4833865596197645, 0.7768471530363339, 0.8552552658162242, 0.24691459364478652, 0.06766571509299224, 0.5114364015996319, 0.3368757345453387, 0.6748132099457985, 0.3276037422120567, 0.005856790303964243, 0.38666060833697924, 0.4065812865877666, 0.10486782133973427, 0.4913844468348223, 0.24806070572503325, 0.5939263463408079, 0.803369505391599, 0.7338654548387836, 0.2414643387414216, 0.6334739551739268, 0.7039266386168175, 0.09528473463300213, 0.20141980359381972, 0.3516479598039036, 0.5717286034553422, 0.5871013278366237, 0.21768675258937753, 0.6239256346073581, 0.9496020828181818, 0.7987090085556594, 0.9118264108138067, 0.421254180232127, 0.33151399847474483, 0.048448432376926864, 0.7386578984453255, 0.7127482686324648, 0.9705604215755483, 0.5461103095426992, 0.5767803014801232, 0.7452094508614949, 0.6654209558430748, 0.9605994538535462, 0.07544970023297759, 0.05929095024609676, 0.9963462897439289, 0.25826502136435525, 0.07119114513115832, 0.16173770864399062, 0.6822689374050904, 0.5846948560526086, 0.8838066054866635, 0.23101761925357267, 0.1584901863501177, 0.2151938556455406, 0.15403658208853066, 0.0018154012307569634, 0.6214414257776332, 0.8488603135180951, 0.16342601080057007, 0.8740732644354299, 0.562739177520875, 0.3007107210429739, 0.9301771849349253, 0.6199304636217609, 0.37233443387423226, 0.5653430493469335, 0.4544889189690824, 0.5024234170657563, 0.01667505491769694, 0.7704969137519433, 0.34626343156161155, 0.6692452303185086, 0.07690906006614318, 0.6510630167395675, 0.5708739574153748, 0.6701149509844115, 0.7279363206684757, 0.09767721276219954, 0.4446023174941921, 0.2033967521907839, 0.9993559310525936, 0.38938897422811847, 0.016995446387448654, 0.15357169907811763, 0.6809111431791233, 0.28276649089958183, 0.6814442091650662, 0.4162874274931513, 0.7416774657516612, 0.2151744130335166, 0.610501618797338, 0.9255184919970053, 0.49516085197880166, 0.2481196672304402, 0.4427812247247359, 0.5326274038936373, 0.5693516821237923, 0.28615299563177243, 0.7949952787373339, 0.9274488308012679, 0.23772017871600637, 0.5470459227505157, 0.4005868655173226, 0.4857266873344849, 0.08871369868474621, 0.9916106197147071, 0.4945303855508939, 0.6680685605670408, 0.5603165781006302, 0.8805388277209648, 0.626256076966652, 0.46619163819032616, 0.6815160221221043, 0.5568326800440978, 0.08241210826072398, 0.19041485870541508, 0.7736621455782354, 0.329658346804252, 0.6358284048849938, 0.3162491320221026, 0.9505602526951005, 0.2842257673246793, 0.2791648310042716, 0.28032959581452144, 0.957098867078037, 0.995543026946752, 0.14628665829785326, 0.6301043857865057, 0.26692522501024907, 0.4068404138813936, 0.48229315767751013, 0.3834295317066031, 0.7065982127241306, 0.30128036898700483, 0.44458456672179514, 0.37814397458245363, 0.9329859538190092, 0.2809097804130056, 0.3558054467136633, 0.9870996518498886, 0.503799158524472, 0.36998585807599027, 0.1758402648034545, 0.40495258980567794, 0.405676821850686, 0.058542801871058536, 0.22584505363973884, 0.9679334411212548, 0.8068248096279231, 0.9467652799098886, 0.9726699748278804, 0.38265574268439784, 0.7922597610112047, 0.27924492950131374, 0.3629243456926602, 0.7555452355187781, 0.38213915979059887, 0.702054157247324, 0.6198160294202771, 0.5825126383600484, 0.9481615497013327, 0.34074817449729244, 0.6100857607103991, 0.20111279470179222, 0.5137605036345685, 0.24672888844603447, 0.6189323966112541, 0.15322450480851135, 0.5908634957484705, 0.5489528798638691, 0.7663710976972253, 0.8344850726250114, 0.6516675640819747, 0.4782765754169509, 0.7297391857250395, 0.03958515564420784, 0.8278821526864217, 0.9091692469611838, 0.9847090155097861, 0.1706988214068963, 0.78090691440881, 0.821098619168811, 0.926244751284774, 0.6150947333944515, 0.6386464132770627, 0.6456949306457741, 0.4619590332818835, 0.902770159396702, 0.4099392107128539, 0.18701485509698557, 0.28165200825273784, 0.7461410897672244, 0.40213402535447884, 0.38853453762940826, 0.12483131184314311, 0.5395278528427618, 0.10419743803399495, 0.07738974991627057, 0.13516820250205208, 0.5968318064839071, 0.6407892128802041, 0.03300484202891796, 0.4471421401225547, 0.4559749281096571, 0.757257199466194, 0.8736566893444281, 0.13782801671205613, 0.43710354420945396, 0.30847603748176144, 0.06497764210857704, 0.47187903979687296, 0.7488154149415253, 0.9207436839356912, 0.7896495885834303, 0.2343547874760249, 0.3896677493846892, 0.3453840161117254, 0.16852234122400678, 0.9436979988177941, 0.18879428647263607, 0.3376114758941726, 0.32953082786952625, 0.813183257602559, 0.2630725881327214, 0.7432597934113478, 0.5625120578058724, 0.22060320412785084, 0.20336122967397463, 0.4656750718446212, 0.5769355976831405, 0.9837852743878474, 0.6798988127001334, 0.05857883825718335, 0.38042709772055194, 0.16668050504793364, 0.5399723472645503, 0.15195623730624885, 0.37006917861538813, 0.9404503763191586, 0.7487683487129656, 0.40166227174361946, 0.6766205545378348, 0.8220684673240687, 0.47114906089796105, 0.9782221596791002, 0.3306780857844719, 0.9375538004038432, 0.9278704487927173, 0.11962200321497485, 0.7092287173420562, 0.5120925734023412, 0.5977580325792672, 0.283604737905369, 0.0367422680459254, 0.39498933361680333, 0.6421573574976813, 0.7881314913713932, 0.667846755453003, 0.7002278625088583, 0.6407295203255592, 0.5255040037874966, 0.6869899655494509, 0.9406789611092609, 0.09911247325207351, 0.970314144967012, 0.2474656423442987, 0.9519738017179079, 0.6525983395471217, 0.7008196578779406, 0.94367751354452, 0.6136310024137591, 0.04781661955428007, 0.7570494913629785, 0.9832200660035857, 0.5462537904194419, 0.7064169136013152, 0.61214219064075, 0.6805539549731117, 0.44802908867152214, 0.7797142075867577, 0.0009865101747885685, 0.9841497514216219, 0.705687901823167, 0.6520604198963079, 0.1568450714649119, 0.24067885958313662, 0.3498320610407585, 0.888062749469833, 0.6995203708207898, 0.483195867100773, 0.754263576711306, 0.26068330777209836, 0.14907211005526844, 0.12426298326449448, 0.7663084620762259, 0.1766150340705963, 0.6942369423943692, 0.39821236741511357, 0.01631324278839208, 0.7195052564310445, 0.9434235339741047, 0.4443387961878813, 0.48983794289281757, 0.06395444353456803, 0.5904703397054365, 0.18712555046311774, 0.5327238981669434, 0.8941326041207867, 0.8903796600390728, 0.8815153244628745, 0.7720757872916677, 0.19531991783171554, 0.9747666811538352, 0.17249047716313803, 0.9731850741369253, 0.39459966931397705, 0.9016817490809541, 0.20069392130990327, 0.6566546050557833, 0.0003500671970844138, 0.7965723894993932, 0.5984527568875415, 0.9688066777848291, 0.4491093013244536, 0.6639922674470202, 0.9021827797095062, 0.3933436525982952, 0.42555436332582364, 0.25800938474884705, 0.19934472017309124, 0.3119999552015633, 0.03013401907624047, 0.07821037634042327, 0.36366921790396634, 0.15775987192747065, 0.44770399829149976, 0.576294754034114, 0.743997897721944, 0.7898618638447562, 0.6347010470948897, 0.8159492059215211, 0.3866046060569416, 0.14864455202501436, 0.8394722481125717, 0.5707189188722994, 0.12351377771420147, 0.4326668691539708, 0.7129309400650916, 0.904547354074398, 0.9158706824339202, 0.34857414609781934, 0.8453809920336764, 0.1212722991217492, 0.731961295629996, 0.9487397093442985, 0.33928110658952637, 0.8588983117969137, 0.20061396608703363, 0.2884583219697241, 0.6957518290581738, 0.15082963183595643, 0.1504655377164862, 0.4912885382320573, 0.8783491661376888, 0.8617989558377861, 0.7852539442164059, 0.9527288650837104, 0.1676558585625424, 0.6119852671213445, 0.21550480634023017, 0.27863142794004536, 0.5773731110843899, 0.8754618148338992, 0.2659367228776931, 0.8349947847416862, 0.7295614427133398, 0.4662358554292858, 0.20861447743531525, 0.33248980422438446, 0.49013267499909063, 0.31332954642268895, 0.6647333733649974, 0.6575259926860697, 0.23150473369657532, 0.5692389495230581, 0.20194295947849794, 0.5161078394208388, 0.4696198610235405, 0.7039538198219267, 0.810521874730934, 0.9293289864076524, 0.12486782082448378, 0.15264710839834583, 0.20080336689773937, 0.4809298229253065, 0.14927287725388938, 0.21838211258307794, 0.15840012437002482, 0.8134465028738372, 0.1093806917283503, 0.17749028478922158, 0.9709280011003127, 0.6033703251688564, 0.6513823933874642, 0.14064180380108116, 0.22175733554723487, 0.7609722368197037, 0.05228327099931551, 0.18200094877773365, 0.7509367214469737, 0.36911617848938405, 0.2534062825797232, 0.6315954743216747, 0.5688369790029868, 0.9337200891288543, 0.9024925490601132, 0.6409596476980125, 0.3014618196142623, 0.5479189678372923, 0.38300606436738804, 0.06096741262360594, 0.22298690185159964, 0.7434965028617229, 0.5618354129520431, 0.18033775276222863, 0.2418911229203986, 0.3261657425950324, 0.4432995899498363, 0.39959711354227034, 0.6821143236946567, 0.571383870992831, 0.9907403465510284, 0.8681716968181701, 0.13215925560517472, 0.9437447443953564, 0.7327849228701033, 0.27987956472710485, 0.5864520529644691, 0.5495800205170045, 0.40597741101383955, 0.6085555132217344, 0.44883750200778927, 0.4466274664512673, 0.5819260921924422, 0.3686396796078403, 0.96280982390827, 0.6503540080128708, 0.968987922332368, 0.612774154453724, 0.42825344009247635, 0.5933379499578442, 0.7518833455889661, 0.4941880185929114, 0.9621296638244218, 0.2659601797565686, 0.6026322512012373, 0.7823040272729972, 0.9026338837089144, 0.753357145334258, 0.8233738209073423, 0.4672421274773949, 0.7310256881088248, 0.12765914732091677, 0.8589536374366221, 0.7189445820075446, 0.9273942244781801, 0.6305879102626284, 0.23970644229515925, 0.38876813693945833, 0.783177919140155, 0.23504212248008538, 0.4628381786267719, 0.35843219815618277, 0.7564221726366018, 0.33972690896862245, 0.6112542665920154, 0.7284363955743031, 0.44641277403519186, 0.33090391181608847, 0.8020248320757523, 0.5129100872872592, 0.7087471943463357, 0.8851842089646296, 0.2783735980012466, 0.8352745348098501, 0.5216992013860342, 0.45025490474123053, 0.24834219593759144, 0.4516921858884063, 0.7341192084086322, 0.6567946205995632, 0.6885167050086399, 0.9279691192429853, 0.053477016734390426, 0.4517441121180765, 0.7196913682765199, 0.6835006577158805, 0.7007463525600002, 0.29020195709305774, 0.6195525889914593, 0.961245333048339, 0.2583678482865651, 0.7543594064225677, 0.9025375321919602, 0.7145968007286294, 0.8488509962047904, 0.04710704202460092, 0.17254882632497748, 0.04618496733615696, 0.9067222321761815, 0.85467031146562, 0.20705588050808688, 0.6857078813452041, 0.6277334390616784, 0.9073331024006784, 0.6259211719471935, 0.17603278148172852, 0.5446987095604423, 0.2018003020261543, 0.8039869911167321, 0.6173639658113593, 0.07117197788657947, 0.7080983706819445, 0.7311458281794925, 0.21475921825259003, 0.593074028460171, 0.5284262428365709, 0.37603651113558734, 0.7215821075243003, 0.8511998899779589, 0.80002013584751, 0.25341468374414844, 0.8369887020335625, 0.6101543094399935, 0.6744872138836738, 0.6205018077967731, 0.8038519702092883, 0.5843647807454964, 0.12217437253208363, 0.41913470706859934, 0.6627833840567111, 0.40320807539755743, 0.6966328430441748, 0.7403213582991199, 0.46810306472792695, 0.2751637661394152, 0.35664614765640434, 0.785012102405109, 0.5124932649686997, 0.6736759836212703, 0.9620649470023742, 0.08419118916350432, 0.9625883814411818, 0.34432195507690777, 0.7197307121980399, 0.8076447964543209, 0.5781998952972442, 0.6950242723256602, 0.7405944716053083, 0.033412567410194494, 0.036875185188170345, 0.24930995615620177, 0.1674484938332378, 0.25115850844551046, 0.8606503131390278, 0.028432635934577233, 0.36127669496939485, 0.4759207003963273, 0.95675166074403, 0.3711884945083592, 0.4067567067398501, 0.4377966552331044, 0.5660369564039652, 0.5138963107291511, 0.3960825155984027, 0.15068973953286002, 0.27790139339560727, 0.6067444936011579, 0.8004577767765978, 0.7574236001731202, 0.5094829387938097, 0.5869653566120143, 0.5529331315378236, 0.9546551074772064, 0.4805834078898704, 0.5870146699950544, 0.7463154249340846, 0.5635585457426832, 0.9746223132989232, 0.34532928796819573, 0.004032556142947175, 0.7269208573930728, 0.2920117015817004, 0.41206938678628724, 0.9051057620322763, 0.40162137993679614, 0.20738660075208648, 0.849085774000386, 0.6587271049912906, 0.7355185181086439, 0.014351766550515066, 0.7258848077109813, 0.32745278453754045, 0.3427989879355938, 0.8446162434370083, 0.9167243941586055, 0.7946978895267309, 0.7935881574745536, 0.33254031354494373, 0.6932314250108227, 0.698317588253514, 0.3450524505705783, 0.34205193099610764, 0.7273975977446334, 0.23122896806746485, 0.9207977575098798, 0.6754018217515979, 0.05427820733939559, 0.8261944334214629, 0.7909049531187466, 0.6890879078138148, 0.6760323600463045, 0.6967706584295854, 0.6288695850036267, 0.37870772054717217, 0.8190928239696135, 0.0866429645394664, 0.7140903149182213, 0.7296399244546066, 0.7765307728670873, 0.09678625531531493, 0.018133932956809207, 0.3196176482251363, 0.3793589267766324, 0.8558371831953182, 0.18699846709362755, 0.40013648442641014, 0.9259858149708361, 0.395462988334641, 0.6483079061907923, 0.9274963934270096, 0.5414106256234278, 0.29992488074230306, 0.7321830640863134, 0.7524158580654804, 0.635878426096367, 0.682963125955959, 0.26244230959040593, 0.5644927699869753, 0.02326111340907311, 0.22400128311974032, 0.21583732351255092, 0.9224723743564968, 0.6762650668787535, 0.5274958272154593, 0.12760059358563203, 0.5365732882012053, 0.5676575919826763, 0.557481090586187, 0.014363447610355684, 0.4452376849152312, 0.9922401858068145, 0.9072579700594189, 0.3746435439646736, 0.24728273612839136, 0.5264157587302828, 0.764322855778968, 0.13732979472720352, 0.9900678174217166, 0.5300328603335194, 0.6387557923028766, 0.5383167255228235, 0.6316380345378616, 0.7662016243543982, 0.06312211787314959, 0.670161287466537, 0.9624079306701908, 0.4412792000429161, 0.9436955552286971, 0.13423476471232887, 0.2933187289165532, 0.3576960109858609, 0.6831095761991502, 0.08282118094942403, 0.7876360236035992, 0.10689153345276947, 0.1474829861057675, 0.6110624487719433, 0.7828810984085773, 0.43024125205446795, 0.6384704451006437, 0.027294875317393053, 0.7443045953459707, 0.07135683124467196, 0.8438033945739597, 0.8976782194619006, 0.7509092325294493, 0.36625826026388575, 0.7721956732677282, 0.7454989903375874, 0.35638928171599404, 0.23093806878255096, 0.973255905511026, 0.1563453918033234, 0.08537986756413041, 0.02138395117255254, 0.41797312772233575, 0.04416589967717355, 0.16771065105145555, 0.17409948922797602, 0.21566459566731255, 0.1934891108958321, 0.9776532418625618, 0.9963946329491478, 0.4835125950921515, 0.8198182555334694, 0.008963826702239053, 0.4944207931042893, 0.32574976214179574, 0.08251705536502496, 0.602037290527661, 0.04223914262110162, 0.3305283408180121, 0.02533887219689246, 0.6013684638017036, 0.5559797085766502, 0.4077290400146121, 0.8711065654722916, 0.1946820681505056, 0.5689330254957085, 0.23742579072516246, 0.9257198682494476, 0.9053864348771827, 0.6209039056716547, 0.9934742854990051, 0.5207531786735353, 0.0708119697825178, 0.5217518612778826, 0.9796213445771569, 0.7315131219742037, 0.23542049744524596, 0.5173279747090977, 0.6350778915786562, 0.6823718964869703, 0.8336384478245805, 0.5134243662053507, 0.9658390015296575, 0.820985155460197, 0.854344347184841, 0.19326407805196755, 0.3681425290995859, 0.013468028421990574, 0.499468709671247, 0.9171458524476654, 0.8353705707572029, 0.0229049547972775, 0.9117020735142584, 0.8976797755857834, 0.9173003926656141, 0.5295746436335554, 0.26423654830238463, 0.27921846858254806, 0.29759818658401205, 0.590694821686998, 0.7442658390294662, 0.18909398011909406, 0.3534219766767167, 0.04325657677245076, 0.6158217999537743, 0.6392195522062445, 0.47937956049091246, 0.9491462538024026, 0.3966322285611945, 0.5630563652719398, 0.3947754399261433, 0.734991891469878, 0.48075973641206515, 0.6329728921589677, 0.943084382520163, 0.06526385157828285, 0.8534759258547349, 0.09680147455382992, 0.7829054715415115, 0.07075374754181196, 0.3459610532344852, 0.9125089158489778, 0.9401359735856194, 0.8045108556174766, 0.99630911750125, 0.4453767020136069, 0.3324633128253238, 0.6500683732606722, 0.4406029510086389, 0.398182809848169, 0.22215422766412884, 0.6198438063042686, 0.4109306041485167, 0.9120305802494072, 0.5776307211721374, 0.8094149692039123, 0.38568951263050755, 0.1277823112908023, 0.5429501704315213, 0.24349794070323905, 0.9880626569671968, 0.24788925079148794, 0.2578897905994062, 0.37416641394950334, 0.15688550586949357, 0.9314604955926568, 0.8762268200484302, 0.3671828255657805, 0.4453043953397259, 0.6113325420434845, 0.2796845319104889, 0.0497497988732325, 0.8071077043744537, 0.4232555133086151, 0.7191261843478234, 0.42241888726542987, 0.12744548168245984, 0.1799771937658935, 0.7970040181233773, 0.5725030791866557, 0.00204628375097049, 0.970568804799723, 0.6658859672662161, 0.9818429416975969, 0.8960976060317817, 0.9384862307842375, 0.9985361025286971, 0.2392417307218081, 0.38613689257404815, 0.9824534112439256, 0.5762385931435136, 0.15035573425833615, 0.5921214838236307, 0.08963309061983393, 0.1967332200139471, 0.07743713518628392, 0.3754481347558344, 0.14384150522130668, 0.16428659358219244, 0.05816209217745749, 0.8546493118058314, 0.8499227604813548, 0.8154499442399126, 0.9436997686054244, 0.8480998429942977, 0.29567647820340837, 0.5771807326876581, 0.17229414074916372, 0.9777075304786468, 0.7271657333409046, 0.8943283826104671, 0.9003698728173226, 0.8560720561369588, 0.9454521784696953, 0.18385033532330208, 0.6271772313852605, 0.6293741981025839, 0.5805607959265093, 0.15787849070145166, 0.31325702110639664, 0.3908630129310784, 0.4471526602657968, 0.18689720943040145, 0.4042850956279648, 0.23918649010735615, 0.04762834518729653, 0.3447997706201702, 0.11445039997413098, 0.8488178384513911, 0.4696928093022187, 0.951818980211105, 0.2883680845976887, 0.5377141583934599, 0.7795924194668354, 0.2959791365564646, 0.9521413391323533, 0.5061486336663807, 0.18410147334115012, 0.5696053032052306, 0.37956947122331797, 0.2641686740456576, 0.17383424461687458, 0.25642849309700855, 0.8340612802041317, 0.4935060170623461, 0.7425260052571716, 0.09334989993039011, 0.9590680974994527, 0.4682348803554671, 0.8705217899510383, 0.8942009961915117, 0.7017040729655367, 0.5703387934058284, 0.8049567646750778, 0.5565397124278401, 0.7252366615014038, 0.30040043741504663, 0.2733894902067595, 0.08922293906647472, 0.23560399517229358, 0.8113758728362856, 0.03547824414367118, 0.8645567311898933, 0.29896222317419474, 0.008150808547238153, 0.7227688805514128, 0.23913291495902445, 0.1309904317590973, 0.7304724770934646, 0.7338500647200262, 0.9661943016827662, 0.8932349429122692, 0.7896118494660083, 0.765941618342385, 0.6106847566045898, 0.3735028989100556, 0.052873980349903094, 0.2523248234752691, 0.1351975625236571, 0.17623025437433748, 0.7495037188066328, 0.2044288204822844, 0.8410318959678372, 0.5251336680569729, 0.07301102321141884, 0.6228009287510766, 0.9348657329225352, 0.20558236605716218, 0.6640157894159819, 0.044482617070895625, 0.7895142773545291, 0.17028464818911915, 0.4165776532278259, 0.9755266141441002, 0.11816446025585314, 0.5070508483527766, 0.44555890997661696, 0.237214020491761, 0.7152618667386179, 0.9198001968342117, 0.16834775247810518, 0.18186164452909492, 0.07233657315085829, 0.03632958112115248, 0.8753779591098136, 0.6215043034062773, 0.2746257144112867, 0.49507535238739653, 0.3802610397702343, 0.5653763749428466, 0.08869740754786481, 0.44132244382011543, 0.2519599573617204, 0.7284498936387345, 0.21376407086514437, 0.524425016315414, 0.9919186828354846, 0.08658957247363752, 0.7154370595711853, 0.7328928035723313, 0.28758425965176115, 0.09602968974889858, 0.19432783942481624, 0.04452431284184122, 0.4669697394131884, 0.7454252359311467, 0.7515336958899383, 0.472400649016919, 0.20495721492702346, 0.019151597575891022, 0.7307231532862435, 0.7997130082056398, 0.007842152753980258, 0.051904977711808686, 0.9370440117165562, 0.7125734954108636, 0.14909293034576088, 0.357455386566075, 0.10775222514976912, 0.2947091999862109, 0.14989540183070138, 0.7679172674370516, 0.6342961460409231, 0.968411225843671, 0.869208871514016, 0.599110126143013, 0.9970410415112794, 0.07212999568260214, 0.8244717848038837, 0.4799313410464636, 0.48236080265336445, 0.6205236560063669, 0.8833350176472523, 0.6266350109272941, 0.7327124193730731, 0.049361599376382403, 0.33293085213181384, 0.8279295867988328, 0.23038959719260932, 0.616590677797136, 0.6253159047460826, 0.38717258681547073, 0.3670620249215968, 0.9430511724159996, 0.30205922129774254, 0.7399229081425868, 0.6984255447021291, 0.15734404569209848, 0.12616534780683442, 0.5136248435090225, 0.03652258076157244, 0.9970426687494458, 0.227540217186184, 0.11225574005276617, 0.9417153018000555, 0.9142123183738214, 0.12971805023167526, 0.9458297511433542, 0.35125652147960795, 0.9389016095191047, 0.1308179507031404, 0.1977257209524783, 0.014153795447299777, 0.6014210587409043, 0.4789484867099453, 0.6625155954601608, 0.02457635302264327, 0.13407046529767308, 0.04583210834604745, 0.1432586988494251, 0.4098069513291601, 0.5825745089635829, 0.7100777624105026, 0.49885604364024017, 0.6743461313903664, 0.004474803605261757, 0.2959902566952687, 0.794620628391161, 0.008629139083118686, 0.9736327593618563, 0.8697309646361762, 0.49431042388622914, 0.7979394371560292, 0.5505274248788035, 0.7428117467301498, 0.2433382428894203, 0.037252966039402646, 0.9519583480543108, 0.5735883333141116, 0.7382558583359589, 0.2823905807338596, 0.44551361394183153, 0.9889889298807887, 0.3921230270840794, 0.08002867780303624, 0.5246803349763318, 0.5047897919946971, 0.4955542410721214, 0.32335272920141467, 0.583744301702835, 0.7599717658662757, 0.1135830135223228, 0.10653981197083395, 0.9897570121155811, 0.143230023110814, 0.8626006797909872, 0.5304442809679413, 0.012677811033407482, 0.008760474972820398, 0.5373870304148293, 0.13061721493600853, 0.2577130146447296, 0.053931010795724044, 0.29622827893299, 0.3519049941676352, 0.5242014280127427, 0.520565563105925, 0.2863214860728974, 0.5332723283197645, 0.3036839607941466, 0.5735572905665558, 0.22576256696057784, 0.29285438460667645, 0.7124986342976534, 0.5908791058772803, 0.8178765362497582, 0.34235872689833025, 0.19314214460146129, 0.35565628550085904, 0.5047856794276233, 0.7421181483631879, 0.38253033150639215, 0.02491215299851135, 0.6574581902582284, 0.20066839810767045, 0.46341302814178054, 0.9756685628119962, 0.37615718266769815, 0.48963507046878985, 0.7373294931592989, 0.34960058955895323, 0.3765762599988055, 0.7890680775935862, 0.6193583605463395, 0.4180069944157011, 0.4924652783464196, 0.2030940886764967, 0.6970358951082913, 0.9992688808338711, 0.5824520270421455, 0.43320188126777837, 0.7472840986110053, 0.24639490498011585, 0.08198116735207683, 0.2915341303207146, 0.9334169423255182, 0.49617972137186195, 0.30938126017408896, 0.9109048762123407, 0.09729563115928463, 0.36707368413944785, 0.49786673194714437, 0.11552127908951648, 0.5113912401654591, 0.5378133821088695, 0.31525889553426567, 0.8187058055031472, 0.003475287792574444, 0.8256727932996636, 0.9360082884245028, 0.18773128019787944, 0.8715740274745856, 0.8219754467537198, 0.7956202937239797, 0.01118478297659109, 0.8966237542275356, 0.23671250069925887, 0.16100171166210242, 0.4670020454772831, 0.46417319488338393, 0.1744387342750745, 0.8401867138110453, 0.4267985817122967, 0.9998402426314439, 0.401782226036588, 0.8265499947211193, 0.3158042442571284, 0.37168432199377943, 0.2684627543391638, 0.9969760791391311, 0.5414477187266873, 0.11394331832483873, 0.008713464329953569, 0.9913500138767873, 0.11123077798277947, 0.675750718882615, 0.9056578402901269, 0.8298027159108224, 0.15889510008441377, 0.07671910550143868, 0.6488020522597793, 0.11313133384257201, 0.8352423837975667, 0.36702037451768166, 0.7235859666096607, 0.4574675902483091, 0.8083974846280163, 0.3181100101646406, 0.5855457956090047, 0.75665953003292, 0.3757441358207715, 0.02462630629916618, 0.818598636904551, 0.09873630104651443, 0.6746374702150739, 0.7137428731981004, 0.6093612437615731, 0.37607009548672754, 0.6888929843804533, 0.31643086147912225, 0.45640178690367605, 0.35083450263412386, 0.8650098041340849, 0.26705168021376136, 0.34763200804714767, 0.9792574554506598, 0.3152858039649923, 0.9051646653404332, 0.8119103070355517, 0.015776648880930555, 0.24693204125272594, 0.2294182007434452, 0.0134259335281528, 0.4631971077178617, 0.04145079464370349, 0.07026270914440269, 0.8941006772892851, 0.9973724612280988, 0.5005647614843385, 0.803180845514479, 0.32014415820676445, 0.2320889936727678, 0.3546191188738864, 0.9748000503069516, 0.40377543855886544, 0.32664162716895717, 0.4096006914790602, 0.6614849342854853, 0.4147409652583641, 0.19590899105620374, 0.46509509843175656, 0.32553490836211507, 0.3603769822761903, 0.367759636643615, 0.5632145090603673, 0.9376385951933616, 0.4721177393339946, 0.711866173124453, 0.7118959648292329, 0.09840664562181678, 0.9796039364315032, 0.663882219588595, 0.8544995039313918, 0.12743511404457142, 0.10425227340218313, 0.19054603311348783, 0.5830462032692906, 0.09351009374027008, 0.7294298718680514, 0.12768828857527126, 0.9734094408246459, 0.4653419148991562, 0.0015239241420864635, 0.9874904209405346, 0.8591398803046969, 0.3498086882942567, 0.2601221519939301, 0.7539317365267436, 0.9213232000264052, 0.6970123965693276, 0.7141324247548181, 0.8222829744453192, 0.9822229387895912, 0.5113316283490288, 0.8528962584790333, 0.8600633298504294, 0.26319969874615146, 0.8596244424158973, 0.14444055601010475, 0.41750715739396815, 0.16845335103442216, 0.5850242746644243, 0.6903326347868771, 0.9576881878800163, 0.7874577701535966, 0.11478642821458274, 0.04493885747197224, 0.2710167032655163, 0.6085649265623957, 0.7566980245750714, 0.5143442222975552, 0.31829820308569623, 0.8870574576435671, 0.9709159424353992, 0.8760979651376576, 0.1520761334512054, 0.08015450014060832, 0.1902952776217095, 0.5310449253766288, 0.06908780281853899, 0.6082239734926712, 0.06760194439911404, 0.2583780838137253, 0.040127870185496795, 0.6372203636204905, 0.41072423381348, 0.05163046433819163, 0.16132656385118638, 0.6165289329900757, 0.2850892540312553, 0.12465624380475149, 0.5841961888546441, 0.8648763734133058, 0.5739252192700743, 0.8208474195075517, 0.46589013940414725, 0.5344658795180938, 0.39730390799776316, 0.043230008758637584, 0.7125671452738469, 0.020355934538043963, 0.6527720165477993, 0.4463295912051539, 0.5152437124372374, 0.8428957676712818, 0.6736605517216887, 0.37622376485734776, 0.5619281832754273, 0.05110806691118186, 0.6331591099062129, 0.13390184341288347, 0.11054964704488823, 0.33787170603208794, 0.819376278058376, 0.70297584588564, 0.5855642325964975, 0.9323905709385588, 0.42681826796823474, 0.48126731090681674, 0.8653492597676704, 0.12557379539780633, 0.7980142769765411, 0.09988293364070411, 0.3671418860557589, 0.1939368649467198, 0.3448901646735134, 0.388038798114269, 0.8780484259363122, 0.19038952511827545, 0.9719790345187734, 0.13041667220742204, 0.3799562970636122, 0.8845690894831354, 0.7010292987272233, 0.06236399497792999, 0.6055534383066483, 0.8032407344071646, 0.2683927842747643, 0.5431720618530455, 0.9373732356815102, 0.23181274078393654, 0.21644278016990803, 0.1981167403873334, 0.6736199933444492, 0.8290230213718809, 0.6057820329649974, 0.7436006156840942, 0.9975876373184104, 0.3885049177061948, 0.9184078267451358, 0.9332632597725775, 0.7373690804450984, 0.43488519099168577, 0.5400508968107548, 0.0874696021757142, 0.18714536943931626, 0.5707719732349343, 0.19423566962876004, 0.521033541560964, 0.5921605718295601, 0.6118918193514112, 0.2026909013150191, 0.3037740313882633, 0.556998589617568, 0.3432808440346006, 0.5377831337092729, 0.1244353600975091, 0.9647338160100021, 0.796885514139031, 0.1545973707415842, 0.7000875468173184, 0.6510073234056533, 0.23059462426443555, 0.9345102817361867, 0.42620231802143993, 0.9031956897567277, 0.24630046567228536, 0.6360047592017416, 0.2061186647302401, 0.8448904881485826, 0.5510508944898832, 0.2695461636332265, 0.2798231585016653, 0.9685864048645308, 0.26931701828099486, 0.12708532416300533, 0.6272093135635644, 0.08586715885950169, 0.6603434931732669, 0.46817496434892436, 0.8886210709964881, 0.45810016150132127, 0.5550358525051691, 0.1731608641361012, 0.9898475202790195, 0.14723506270284759, 0.2390893280858759, 0.44430964713994403, 0.970802196558029, 0.3911552138389903, 0.18316715411590534, 0.27429140717918765, 0.4181079762926344, 0.7848319453998365, 0.29999466164236044, 0.9869698832287562, 0.5123232654156356, 0.25195670385937896, 0.5321694615935426, 0.6149931055839539, 0.7368436653055468, 0.16401950230497098, 0.6288207460416596, 0.37509662653599485, 0.5256581612380172, 0.5719552953967751, 0.323795752268509, 0.38983840036038553, 0.9904776519083343, 0.8266754393636465, 0.5826359529778408, 0.16964645720363658, 0.1240792833686537, 0.3095454310824983, 0.8994044296593341, 0.5183405499717749, 0.6267545197328189, 0.09102253308181685, 0.3573970525436091, 0.29563304636601484, 0.40488492089686956, 0.6800049845070796, 0.01568998919945297, 0.9614104766889292, 0.18138607572907517, 0.33217557641916606, 0.44847725948851, 0.3165365404492527, 0.6820803320882758, 0.3532797519854304, 0.16068603726417796, 0.8567954214415291, 0.7895884936348742, 0.41533329545954045, 0.6334245279199487, 0.7782816570949505, 0.6381789603674161, 0.39746205068710794, 0.8789939911717044, 0.39422168641958, 0.7322827943383297, 0.8718381364823068, 0.4955302409564495, 0.23319562561287133, 0.6501199164209277, 0.5304940139986003, 0.1816631704681907, 0.10497375191335678, 0.9525120246501222, 0.3146523768588705, 0.674728876709972, 0.4816303670362809, 0.7397609329157344, 0.15497563837187844, 0.559051598759903, 0.9566609268907946, 0.1253465850525003, 0.060175245115605125, 0.20025656230336708, 0.2339722218101844, 0.43498948813596416, 0.5697773424579766, 0.19621476423235507, 0.2729468402656037, 0.17918385884306953, 0.3932796851792574, 0.810725400119679, 0.02427707924367206, 0.9974853930978974, 0.17608649508780483, 0.24567895632645165, 0.6459065061065756, 0.11658215004762296, 0.0028951482006759344, 0.8693616897396984, 0.16162804902496297, 0.18630096011405917, 0.47129369126432274, 0.620842582835051, 0.8892873497237519, 0.9813259287142344, 0.9051963350027126, 0.30435742048055237, 0.7361910522500278, 0.9011470115983111, 0.8518202404477867, 0.43768114623422394, 0.9446381317728686, 0.8344617268201111, 0.7181589844536126, 0.38745751099876446, 0.00642439910997028, 0.6965979379638544, 0.7344345849724686, 0.5047877018752461, 0.4269416985334422, 0.9425969965495419, 0.49547435091006475, 0.43429888657469484, 0.5869982688029902, 0.2760943300751477, 0.026504600620607888, 0.7672774564016627]}],\n                        {\"template\": {\"data\": {\"bar\": [{\"error_x\": {\"color\": \"#2a3f5f\"}, \"error_y\": {\"color\": \"#2a3f5f\"}, \"marker\": {\"line\": {\"color\": \"#E5ECF6\", \"width\": 0.5}}, \"type\": \"bar\"}], \"barpolar\": [{\"marker\": {\"line\": {\"color\": \"#E5ECF6\", \"width\": 0.5}}, \"type\": \"barpolar\"}], \"carpet\": [{\"aaxis\": {\"endlinecolor\": \"#2a3f5f\", \"gridcolor\": \"white\", \"linecolor\": \"white\", \"minorgridcolor\": \"white\", \"startlinecolor\": \"#2a3f5f\"}, \"baxis\": {\"endlinecolor\": \"#2a3f5f\", \"gridcolor\": \"white\", \"linecolor\": \"white\", \"minorgridcolor\": \"white\", \"startlinecolor\": \"#2a3f5f\"}, \"type\": \"carpet\"}], \"choropleth\": [{\"colorbar\": {\"outlinewidth\": 0, \"ticks\": \"\"}, \"type\": \"choropleth\"}], \"contour\": [{\"colorbar\": {\"outlinewidth\": 0, \"ticks\": \"\"}, \"colorscale\": [[0.0, \"#0d0887\"], [0.1111111111111111, \"#46039f\"], [0.2222222222222222, \"#7201a8\"], [0.3333333333333333, \"#9c179e\"], [0.4444444444444444, \"#bd3786\"], [0.5555555555555556, \"#d8576b\"], [0.6666666666666666, \"#ed7953\"], [0.7777777777777778, \"#fb9f3a\"], [0.8888888888888888, \"#fdca26\"], [1.0, \"#f0f921\"]], \"type\": \"contour\"}], \"contourcarpet\": [{\"colorbar\": {\"outlinewidth\": 0, \"ticks\": \"\"}, \"type\": \"contourcarpet\"}], \"heatmap\": [{\"colorbar\": {\"outlinewidth\": 0, \"ticks\": \"\"}, \"colorscale\": [[0.0, \"#0d0887\"], [0.1111111111111111, \"#46039f\"], [0.2222222222222222, \"#7201a8\"], [0.3333333333333333, \"#9c179e\"], [0.4444444444444444, \"#bd3786\"], [0.5555555555555556, \"#d8576b\"], [0.6666666666666666, \"#ed7953\"], [0.7777777777777778, \"#fb9f3a\"], [0.8888888888888888, \"#fdca26\"], [1.0, \"#f0f921\"]], \"type\": \"heatmap\"}], \"heatmapgl\": [{\"colorbar\": {\"outlinewidth\": 0, \"ticks\": \"\"}, \"colorscale\": [[0.0, \"#0d0887\"], [0.1111111111111111, \"#46039f\"], [0.2222222222222222, \"#7201a8\"], [0.3333333333333333, \"#9c179e\"], [0.4444444444444444, \"#bd3786\"], [0.5555555555555556, \"#d8576b\"], [0.6666666666666666, \"#ed7953\"], [0.7777777777777778, \"#fb9f3a\"], [0.8888888888888888, \"#fdca26\"], [1.0, \"#f0f921\"]], \"type\": \"heatmapgl\"}], \"histogram\": [{\"marker\": {\"colorbar\": {\"outlinewidth\": 0, \"ticks\": \"\"}}, \"type\": \"histogram\"}], \"histogram2d\": [{\"colorbar\": {\"outlinewidth\": 0, \"ticks\": \"\"}, \"colorscale\": [[0.0, \"#0d0887\"], [0.1111111111111111, \"#46039f\"], [0.2222222222222222, \"#7201a8\"], [0.3333333333333333, \"#9c179e\"], [0.4444444444444444, \"#bd3786\"], [0.5555555555555556, \"#d8576b\"], [0.6666666666666666, \"#ed7953\"], [0.7777777777777778, \"#fb9f3a\"], [0.8888888888888888, \"#fdca26\"], [1.0, \"#f0f921\"]], \"type\": \"histogram2d\"}], \"histogram2dcontour\": [{\"colorbar\": {\"outlinewidth\": 0, \"ticks\": \"\"}, \"colorscale\": [[0.0, \"#0d0887\"], [0.1111111111111111, \"#46039f\"], [0.2222222222222222, \"#7201a8\"], [0.3333333333333333, \"#9c179e\"], [0.4444444444444444, \"#bd3786\"], [0.5555555555555556, \"#d8576b\"], [0.6666666666666666, \"#ed7953\"], [0.7777777777777778, \"#fb9f3a\"], [0.8888888888888888, \"#fdca26\"], [1.0, \"#f0f921\"]], \"type\": \"histogram2dcontour\"}], \"mesh3d\": [{\"colorbar\": {\"outlinewidth\": 0, \"ticks\": \"\"}, \"type\": \"mesh3d\"}], \"parcoords\": [{\"line\": {\"colorbar\": {\"outlinewidth\": 0, \"ticks\": \"\"}}, \"type\": \"parcoords\"}], \"pie\": [{\"automargin\": true, \"type\": \"pie\"}], \"scatter\": [{\"marker\": {\"colorbar\": {\"outlinewidth\": 0, \"ticks\": \"\"}}, \"type\": \"scatter\"}], \"scatter3d\": [{\"line\": {\"colorbar\": {\"outlinewidth\": 0, \"ticks\": \"\"}}, \"marker\": {\"colorbar\": {\"outlinewidth\": 0, \"ticks\": \"\"}}, \"type\": \"scatter3d\"}], \"scattercarpet\": [{\"marker\": {\"colorbar\": {\"outlinewidth\": 0, \"ticks\": \"\"}}, \"type\": \"scattercarpet\"}], \"scattergeo\": [{\"marker\": {\"colorbar\": {\"outlinewidth\": 0, \"ticks\": \"\"}}, \"type\": \"scattergeo\"}], \"scattergl\": [{\"marker\": {\"colorbar\": {\"outlinewidth\": 0, \"ticks\": \"\"}}, \"type\": \"scattergl\"}], \"scattermapbox\": [{\"marker\": {\"colorbar\": {\"outlinewidth\": 0, \"ticks\": \"\"}}, \"type\": \"scattermapbox\"}], \"scatterpolar\": [{\"marker\": {\"colorbar\": {\"outlinewidth\": 0, \"ticks\": \"\"}}, \"type\": \"scatterpolar\"}], \"scatterpolargl\": [{\"marker\": {\"colorbar\": {\"outlinewidth\": 0, \"ticks\": \"\"}}, \"type\": \"scatterpolargl\"}], \"scatterternary\": [{\"marker\": {\"colorbar\": {\"outlinewidth\": 0, \"ticks\": \"\"}}, \"type\": \"scatterternary\"}], \"surface\": [{\"colorbar\": {\"outlinewidth\": 0, \"ticks\": \"\"}, \"colorscale\": [[0.0, \"#0d0887\"], [0.1111111111111111, \"#46039f\"], [0.2222222222222222, \"#7201a8\"], [0.3333333333333333, \"#9c179e\"], [0.4444444444444444, \"#bd3786\"], [0.5555555555555556, \"#d8576b\"], [0.6666666666666666, \"#ed7953\"], [0.7777777777777778, \"#fb9f3a\"], [0.8888888888888888, \"#fdca26\"], [1.0, \"#f0f921\"]], \"type\": \"surface\"}], \"table\": [{\"cells\": {\"fill\": {\"color\": \"#EBF0F8\"}, \"line\": {\"color\": \"white\"}}, \"header\": {\"fill\": {\"color\": \"#C8D4E3\"}, \"line\": {\"color\": \"white\"}}, \"type\": \"table\"}]}, \"layout\": {\"annotationdefaults\": {\"arrowcolor\": \"#2a3f5f\", \"arrowhead\": 0, \"arrowwidth\": 1}, \"coloraxis\": {\"colorbar\": {\"outlinewidth\": 0, \"ticks\": \"\"}}, \"colorscale\": {\"diverging\": [[0, \"#8e0152\"], [0.1, \"#c51b7d\"], [0.2, \"#de77ae\"], [0.3, \"#f1b6da\"], [0.4, \"#fde0ef\"], [0.5, \"#f7f7f7\"], [0.6, \"#e6f5d0\"], [0.7, \"#b8e186\"], [0.8, \"#7fbc41\"], [0.9, \"#4d9221\"], [1, \"#276419\"]], \"sequential\": [[0.0, \"#0d0887\"], [0.1111111111111111, \"#46039f\"], [0.2222222222222222, \"#7201a8\"], [0.3333333333333333, \"#9c179e\"], [0.4444444444444444, \"#bd3786\"], [0.5555555555555556, \"#d8576b\"], [0.6666666666666666, \"#ed7953\"], [0.7777777777777778, \"#fb9f3a\"], [0.8888888888888888, \"#fdca26\"], [1.0, \"#f0f921\"]], \"sequentialminus\": [[0.0, \"#0d0887\"], [0.1111111111111111, \"#46039f\"], [0.2222222222222222, \"#7201a8\"], [0.3333333333333333, \"#9c179e\"], [0.4444444444444444, \"#bd3786\"], [0.5555555555555556, \"#d8576b\"], [0.6666666666666666, \"#ed7953\"], [0.7777777777777778, \"#fb9f3a\"], [0.8888888888888888, \"#fdca26\"], [1.0, \"#f0f921\"]]}, \"colorway\": [\"#636efa\", \"#EF553B\", \"#00cc96\", \"#ab63fa\", \"#FFA15A\", \"#19d3f3\", \"#FF6692\", \"#B6E880\", \"#FF97FF\", \"#FECB52\"], \"font\": {\"color\": \"#2a3f5f\"}, \"geo\": {\"bgcolor\": \"white\", \"lakecolor\": \"white\", \"landcolor\": \"#E5ECF6\", \"showlakes\": true, \"showland\": true, \"subunitcolor\": \"white\"}, \"hoverlabel\": {\"align\": \"left\"}, \"hovermode\": \"closest\", \"mapbox\": {\"style\": \"light\"}, \"paper_bgcolor\": \"white\", \"plot_bgcolor\": \"#E5ECF6\", \"polar\": {\"angularaxis\": {\"gridcolor\": \"white\", \"linecolor\": \"white\", \"ticks\": \"\"}, \"bgcolor\": \"#E5ECF6\", \"radialaxis\": {\"gridcolor\": \"white\", \"linecolor\": \"white\", \"ticks\": \"\"}}, \"scene\": {\"xaxis\": {\"backgroundcolor\": \"#E5ECF6\", \"gridcolor\": \"white\", \"gridwidth\": 2, \"linecolor\": \"white\", \"showbackground\": true, \"ticks\": \"\", \"zerolinecolor\": \"white\"}, \"yaxis\": {\"backgroundcolor\": \"#E5ECF6\", \"gridcolor\": \"white\", \"gridwidth\": 2, \"linecolor\": \"white\", \"showbackground\": true, \"ticks\": \"\", \"zerolinecolor\": \"white\"}, \"zaxis\": {\"backgroundcolor\": \"#E5ECF6\", \"gridcolor\": \"white\", \"gridwidth\": 2, \"linecolor\": \"white\", \"showbackground\": true, \"ticks\": \"\", \"zerolinecolor\": \"white\"}}, \"shapedefaults\": {\"line\": {\"color\": \"#2a3f5f\"}}, \"ternary\": {\"aaxis\": {\"gridcolor\": \"white\", \"linecolor\": \"white\", \"ticks\": \"\"}, \"baxis\": {\"gridcolor\": \"white\", \"linecolor\": \"white\", \"ticks\": \"\"}, \"bgcolor\": \"#E5ECF6\", \"caxis\": {\"gridcolor\": \"white\", \"linecolor\": \"white\", \"ticks\": \"\"}}, \"title\": {\"x\": 0.05}, \"xaxis\": {\"automargin\": true, \"gridcolor\": \"white\", \"linecolor\": \"white\", \"ticks\": \"\", \"title\": {\"standoff\": 15}, \"zerolinecolor\": \"white\", \"zerolinewidth\": 2}, \"yaxis\": {\"automargin\": true, \"gridcolor\": \"white\", \"linecolor\": \"white\", \"ticks\": \"\", \"title\": {\"standoff\": 15}, \"zerolinecolor\": \"white\", \"zerolinewidth\": 2}}}},\n                        {\"responsive\": true}\n                    ).then(function(){\n                            \nvar gd = document.getElementById('e0b6d63f-ac50-4737-bb05-0a756937ec43');\nvar x = new MutationObserver(function (mutations, observer) {{\n        var display = window.getComputedStyle(gd).display;\n        if (!display || display === 'none') {{\n            console.log([gd, 'removed!']);\n            Plotly.purge(gd);\n            observer.disconnect();\n        }}\n}});\n\n// Listen for the removal of the full notebook cells\nvar notebookContainer = gd.closest('#notebook-container');\nif (notebookContainer) {{\n    x.observe(notebookContainer, {childList: true});\n}}\n\n// Listen for the clearing of the current output cell\nvar outputEl = gd.closest('.output');\nif (outputEl) {{\n    x.observe(outputEl, {childList: true});\n}}\n\n                        })\n                };\n                });\n            </script>\n        </div>"
     },
     "metadata": {}
    }
   ],
   "source": [
    "data = [trace]\n",
    "iplot(data)"
   ]
  },
  {
   "cell_type": "code",
   "execution_count": 79,
   "metadata": {},
   "outputs": [],
   "source": [
    "groups = ['aluguel', 'comida', 'impostos', 'diversão']\n",
    "valores = [1000, 3000, 5000, 2000]\n",
    "colors = ['#f3c71e', '#995bbe', '#819ad4', '#ff40aa']\n",
    "\n",
    "trace = go.Pie(labels = groups, values = valores, hoverinfo = 'label+percent', textinfo = 'value', textfont = dict(size=12), marker = dict(colors = colors, line = dict(color = '#000000', width = .5)))\n",
    "\n"
   ]
  },
  {
   "cell_type": "code",
   "execution_count": 80,
   "metadata": {},
   "outputs": [
    {
     "output_type": "display_data",
     "data": {
      "application/vnd.plotly.v1+json": {
       "config": {
        "linkText": "Export to plot.ly",
        "plotlyServerURL": "https://plot.ly",
        "showLink": false
       },
       "data": [
        {
         "hoverinfo": "label+percent",
         "labels": [
          "aluguel",
          "comida",
          "impostos",
          "diversão"
         ],
         "marker": {
          "colors": [
           "#f3c71e",
           "#995bbe",
           "#819ad4",
           "#ff40aa"
          ],
          "line": {
           "color": "#000000",
           "width": 0.5
          }
         },
         "textfont": {
          "size": 12
         },
         "textinfo": "value",
         "type": "pie",
         "values": [
          1000,
          3000,
          5000,
          2000
         ]
        }
       ],
       "layout": {
        "template": {
         "data": {
          "bar": [
           {
            "error_x": {
             "color": "#2a3f5f"
            },
            "error_y": {
             "color": "#2a3f5f"
            },
            "marker": {
             "line": {
              "color": "#E5ECF6",
              "width": 0.5
             }
            },
            "type": "bar"
           }
          ],
          "barpolar": [
           {
            "marker": {
             "line": {
              "color": "#E5ECF6",
              "width": 0.5
             }
            },
            "type": "barpolar"
           }
          ],
          "carpet": [
           {
            "aaxis": {
             "endlinecolor": "#2a3f5f",
             "gridcolor": "white",
             "linecolor": "white",
             "minorgridcolor": "white",
             "startlinecolor": "#2a3f5f"
            },
            "baxis": {
             "endlinecolor": "#2a3f5f",
             "gridcolor": "white",
             "linecolor": "white",
             "minorgridcolor": "white",
             "startlinecolor": "#2a3f5f"
            },
            "type": "carpet"
           }
          ],
          "choropleth": [
           {
            "colorbar": {
             "outlinewidth": 0,
             "ticks": ""
            },
            "type": "choropleth"
           }
          ],
          "contour": [
           {
            "colorbar": {
             "outlinewidth": 0,
             "ticks": ""
            },
            "colorscale": [
             [
              0,
              "#0d0887"
             ],
             [
              0.1111111111111111,
              "#46039f"
             ],
             [
              0.2222222222222222,
              "#7201a8"
             ],
             [
              0.3333333333333333,
              "#9c179e"
             ],
             [
              0.4444444444444444,
              "#bd3786"
             ],
             [
              0.5555555555555556,
              "#d8576b"
             ],
             [
              0.6666666666666666,
              "#ed7953"
             ],
             [
              0.7777777777777778,
              "#fb9f3a"
             ],
             [
              0.8888888888888888,
              "#fdca26"
             ],
             [
              1,
              "#f0f921"
             ]
            ],
            "type": "contour"
           }
          ],
          "contourcarpet": [
           {
            "colorbar": {
             "outlinewidth": 0,
             "ticks": ""
            },
            "type": "contourcarpet"
           }
          ],
          "heatmap": [
           {
            "colorbar": {
             "outlinewidth": 0,
             "ticks": ""
            },
            "colorscale": [
             [
              0,
              "#0d0887"
             ],
             [
              0.1111111111111111,
              "#46039f"
             ],
             [
              0.2222222222222222,
              "#7201a8"
             ],
             [
              0.3333333333333333,
              "#9c179e"
             ],
             [
              0.4444444444444444,
              "#bd3786"
             ],
             [
              0.5555555555555556,
              "#d8576b"
             ],
             [
              0.6666666666666666,
              "#ed7953"
             ],
             [
              0.7777777777777778,
              "#fb9f3a"
             ],
             [
              0.8888888888888888,
              "#fdca26"
             ],
             [
              1,
              "#f0f921"
             ]
            ],
            "type": "heatmap"
           }
          ],
          "heatmapgl": [
           {
            "colorbar": {
             "outlinewidth": 0,
             "ticks": ""
            },
            "colorscale": [
             [
              0,
              "#0d0887"
             ],
             [
              0.1111111111111111,
              "#46039f"
             ],
             [
              0.2222222222222222,
              "#7201a8"
             ],
             [
              0.3333333333333333,
              "#9c179e"
             ],
             [
              0.4444444444444444,
              "#bd3786"
             ],
             [
              0.5555555555555556,
              "#d8576b"
             ],
             [
              0.6666666666666666,
              "#ed7953"
             ],
             [
              0.7777777777777778,
              "#fb9f3a"
             ],
             [
              0.8888888888888888,
              "#fdca26"
             ],
             [
              1,
              "#f0f921"
             ]
            ],
            "type": "heatmapgl"
           }
          ],
          "histogram": [
           {
            "marker": {
             "colorbar": {
              "outlinewidth": 0,
              "ticks": ""
             }
            },
            "type": "histogram"
           }
          ],
          "histogram2d": [
           {
            "colorbar": {
             "outlinewidth": 0,
             "ticks": ""
            },
            "colorscale": [
             [
              0,
              "#0d0887"
             ],
             [
              0.1111111111111111,
              "#46039f"
             ],
             [
              0.2222222222222222,
              "#7201a8"
             ],
             [
              0.3333333333333333,
              "#9c179e"
             ],
             [
              0.4444444444444444,
              "#bd3786"
             ],
             [
              0.5555555555555556,
              "#d8576b"
             ],
             [
              0.6666666666666666,
              "#ed7953"
             ],
             [
              0.7777777777777778,
              "#fb9f3a"
             ],
             [
              0.8888888888888888,
              "#fdca26"
             ],
             [
              1,
              "#f0f921"
             ]
            ],
            "type": "histogram2d"
           }
          ],
          "histogram2dcontour": [
           {
            "colorbar": {
             "outlinewidth": 0,
             "ticks": ""
            },
            "colorscale": [
             [
              0,
              "#0d0887"
             ],
             [
              0.1111111111111111,
              "#46039f"
             ],
             [
              0.2222222222222222,
              "#7201a8"
             ],
             [
              0.3333333333333333,
              "#9c179e"
             ],
             [
              0.4444444444444444,
              "#bd3786"
             ],
             [
              0.5555555555555556,
              "#d8576b"
             ],
             [
              0.6666666666666666,
              "#ed7953"
             ],
             [
              0.7777777777777778,
              "#fb9f3a"
             ],
             [
              0.8888888888888888,
              "#fdca26"
             ],
             [
              1,
              "#f0f921"
             ]
            ],
            "type": "histogram2dcontour"
           }
          ],
          "mesh3d": [
           {
            "colorbar": {
             "outlinewidth": 0,
             "ticks": ""
            },
            "type": "mesh3d"
           }
          ],
          "parcoords": [
           {
            "line": {
             "colorbar": {
              "outlinewidth": 0,
              "ticks": ""
             }
            },
            "type": "parcoords"
           }
          ],
          "pie": [
           {
            "automargin": true,
            "type": "pie"
           }
          ],
          "scatter": [
           {
            "marker": {
             "colorbar": {
              "outlinewidth": 0,
              "ticks": ""
             }
            },
            "type": "scatter"
           }
          ],
          "scatter3d": [
           {
            "line": {
             "colorbar": {
              "outlinewidth": 0,
              "ticks": ""
             }
            },
            "marker": {
             "colorbar": {
              "outlinewidth": 0,
              "ticks": ""
             }
            },
            "type": "scatter3d"
           }
          ],
          "scattercarpet": [
           {
            "marker": {
             "colorbar": {
              "outlinewidth": 0,
              "ticks": ""
             }
            },
            "type": "scattercarpet"
           }
          ],
          "scattergeo": [
           {
            "marker": {
             "colorbar": {
              "outlinewidth": 0,
              "ticks": ""
             }
            },
            "type": "scattergeo"
           }
          ],
          "scattergl": [
           {
            "marker": {
             "colorbar": {
              "outlinewidth": 0,
              "ticks": ""
             }
            },
            "type": "scattergl"
           }
          ],
          "scattermapbox": [
           {
            "marker": {
             "colorbar": {
              "outlinewidth": 0,
              "ticks": ""
             }
            },
            "type": "scattermapbox"
           }
          ],
          "scatterpolar": [
           {
            "marker": {
             "colorbar": {
              "outlinewidth": 0,
              "ticks": ""
             }
            },
            "type": "scatterpolar"
           }
          ],
          "scatterpolargl": [
           {
            "marker": {
             "colorbar": {
              "outlinewidth": 0,
              "ticks": ""
             }
            },
            "type": "scatterpolargl"
           }
          ],
          "scatterternary": [
           {
            "marker": {
             "colorbar": {
              "outlinewidth": 0,
              "ticks": ""
             }
            },
            "type": "scatterternary"
           }
          ],
          "surface": [
           {
            "colorbar": {
             "outlinewidth": 0,
             "ticks": ""
            },
            "colorscale": [
             [
              0,
              "#0d0887"
             ],
             [
              0.1111111111111111,
              "#46039f"
             ],
             [
              0.2222222222222222,
              "#7201a8"
             ],
             [
              0.3333333333333333,
              "#9c179e"
             ],
             [
              0.4444444444444444,
              "#bd3786"
             ],
             [
              0.5555555555555556,
              "#d8576b"
             ],
             [
              0.6666666666666666,
              "#ed7953"
             ],
             [
              0.7777777777777778,
              "#fb9f3a"
             ],
             [
              0.8888888888888888,
              "#fdca26"
             ],
             [
              1,
              "#f0f921"
             ]
            ],
            "type": "surface"
           }
          ],
          "table": [
           {
            "cells": {
             "fill": {
              "color": "#EBF0F8"
             },
             "line": {
              "color": "white"
             }
            },
            "header": {
             "fill": {
              "color": "#C8D4E3"
             },
             "line": {
              "color": "white"
             }
            },
            "type": "table"
           }
          ]
         },
         "layout": {
          "annotationdefaults": {
           "arrowcolor": "#2a3f5f",
           "arrowhead": 0,
           "arrowwidth": 1
          },
          "coloraxis": {
           "colorbar": {
            "outlinewidth": 0,
            "ticks": ""
           }
          },
          "colorscale": {
           "diverging": [
            [
             0,
             "#8e0152"
            ],
            [
             0.1,
             "#c51b7d"
            ],
            [
             0.2,
             "#de77ae"
            ],
            [
             0.3,
             "#f1b6da"
            ],
            [
             0.4,
             "#fde0ef"
            ],
            [
             0.5,
             "#f7f7f7"
            ],
            [
             0.6,
             "#e6f5d0"
            ],
            [
             0.7,
             "#b8e186"
            ],
            [
             0.8,
             "#7fbc41"
            ],
            [
             0.9,
             "#4d9221"
            ],
            [
             1,
             "#276419"
            ]
           ],
           "sequential": [
            [
             0,
             "#0d0887"
            ],
            [
             0.1111111111111111,
             "#46039f"
            ],
            [
             0.2222222222222222,
             "#7201a8"
            ],
            [
             0.3333333333333333,
             "#9c179e"
            ],
            [
             0.4444444444444444,
             "#bd3786"
            ],
            [
             0.5555555555555556,
             "#d8576b"
            ],
            [
             0.6666666666666666,
             "#ed7953"
            ],
            [
             0.7777777777777778,
             "#fb9f3a"
            ],
            [
             0.8888888888888888,
             "#fdca26"
            ],
            [
             1,
             "#f0f921"
            ]
           ],
           "sequentialminus": [
            [
             0,
             "#0d0887"
            ],
            [
             0.1111111111111111,
             "#46039f"
            ],
            [
             0.2222222222222222,
             "#7201a8"
            ],
            [
             0.3333333333333333,
             "#9c179e"
            ],
            [
             0.4444444444444444,
             "#bd3786"
            ],
            [
             0.5555555555555556,
             "#d8576b"
            ],
            [
             0.6666666666666666,
             "#ed7953"
            ],
            [
             0.7777777777777778,
             "#fb9f3a"
            ],
            [
             0.8888888888888888,
             "#fdca26"
            ],
            [
             1,
             "#f0f921"
            ]
           ]
          },
          "colorway": [
           "#636efa",
           "#EF553B",
           "#00cc96",
           "#ab63fa",
           "#FFA15A",
           "#19d3f3",
           "#FF6692",
           "#B6E880",
           "#FF97FF",
           "#FECB52"
          ],
          "font": {
           "color": "#2a3f5f"
          },
          "geo": {
           "bgcolor": "white",
           "lakecolor": "white",
           "landcolor": "#E5ECF6",
           "showlakes": true,
           "showland": true,
           "subunitcolor": "white"
          },
          "hoverlabel": {
           "align": "left"
          },
          "hovermode": "closest",
          "mapbox": {
           "style": "light"
          },
          "paper_bgcolor": "white",
          "plot_bgcolor": "#E5ECF6",
          "polar": {
           "angularaxis": {
            "gridcolor": "white",
            "linecolor": "white",
            "ticks": ""
           },
           "bgcolor": "#E5ECF6",
           "radialaxis": {
            "gridcolor": "white",
            "linecolor": "white",
            "ticks": ""
           }
          },
          "scene": {
           "xaxis": {
            "backgroundcolor": "#E5ECF6",
            "gridcolor": "white",
            "gridwidth": 2,
            "linecolor": "white",
            "showbackground": true,
            "ticks": "",
            "zerolinecolor": "white"
           },
           "yaxis": {
            "backgroundcolor": "#E5ECF6",
            "gridcolor": "white",
            "gridwidth": 2,
            "linecolor": "white",
            "showbackground": true,
            "ticks": "",
            "zerolinecolor": "white"
           },
           "zaxis": {
            "backgroundcolor": "#E5ECF6",
            "gridcolor": "white",
            "gridwidth": 2,
            "linecolor": "white",
            "showbackground": true,
            "ticks": "",
            "zerolinecolor": "white"
           }
          },
          "shapedefaults": {
           "line": {
            "color": "#2a3f5f"
           }
          },
          "ternary": {
           "aaxis": {
            "gridcolor": "white",
            "linecolor": "white",
            "ticks": ""
           },
           "baxis": {
            "gridcolor": "white",
            "linecolor": "white",
            "ticks": ""
           },
           "bgcolor": "#E5ECF6",
           "caxis": {
            "gridcolor": "white",
            "linecolor": "white",
            "ticks": ""
           }
          },
          "title": {
           "x": 0.05
          },
          "xaxis": {
           "automargin": true,
           "gridcolor": "white",
           "linecolor": "white",
           "ticks": "",
           "title": {
            "standoff": 15
           },
           "zerolinecolor": "white",
           "zerolinewidth": 2
          },
          "yaxis": {
           "automargin": true,
           "gridcolor": "white",
           "linecolor": "white",
           "ticks": "",
           "title": {
            "standoff": 15
           },
           "zerolinecolor": "white",
           "zerolinewidth": 2
          }
         }
        }
       }
      },
      "text/html": "<div>\n        \n        \n            <div id=\"f118129a-8b82-4e73-b6a8-15bf1ecad657\" class=\"plotly-graph-div\" style=\"height:525px; width:100%;\"></div>\n            <script type=\"text/javascript\">\n                require([\"plotly\"], function(Plotly) {\n                    window.PLOTLYENV=window.PLOTLYENV || {};\n                    \n                if (document.getElementById(\"f118129a-8b82-4e73-b6a8-15bf1ecad657\")) {\n                    Plotly.newPlot(\n                        'f118129a-8b82-4e73-b6a8-15bf1ecad657',\n                        [{\"hoverinfo\": \"label+percent\", \"labels\": [\"aluguel\", \"comida\", \"impostos\", \"divers\\u00e3o\"], \"marker\": {\"colors\": [\"#f3c71e\", \"#995bbe\", \"#819ad4\", \"#ff40aa\"], \"line\": {\"color\": \"#000000\", \"width\": 0.5}}, \"textfont\": {\"size\": 12}, \"textinfo\": \"value\", \"type\": \"pie\", \"values\": [1000, 3000, 5000, 2000]}],\n                        {\"template\": {\"data\": {\"bar\": [{\"error_x\": {\"color\": \"#2a3f5f\"}, \"error_y\": {\"color\": \"#2a3f5f\"}, \"marker\": {\"line\": {\"color\": \"#E5ECF6\", \"width\": 0.5}}, \"type\": \"bar\"}], \"barpolar\": [{\"marker\": {\"line\": {\"color\": \"#E5ECF6\", \"width\": 0.5}}, \"type\": \"barpolar\"}], \"carpet\": [{\"aaxis\": {\"endlinecolor\": \"#2a3f5f\", \"gridcolor\": \"white\", \"linecolor\": \"white\", \"minorgridcolor\": \"white\", \"startlinecolor\": \"#2a3f5f\"}, \"baxis\": {\"endlinecolor\": \"#2a3f5f\", \"gridcolor\": \"white\", \"linecolor\": \"white\", \"minorgridcolor\": \"white\", \"startlinecolor\": \"#2a3f5f\"}, \"type\": \"carpet\"}], \"choropleth\": [{\"colorbar\": {\"outlinewidth\": 0, \"ticks\": \"\"}, \"type\": \"choropleth\"}], \"contour\": [{\"colorbar\": {\"outlinewidth\": 0, \"ticks\": \"\"}, \"colorscale\": [[0.0, \"#0d0887\"], [0.1111111111111111, \"#46039f\"], [0.2222222222222222, \"#7201a8\"], [0.3333333333333333, \"#9c179e\"], [0.4444444444444444, \"#bd3786\"], [0.5555555555555556, \"#d8576b\"], [0.6666666666666666, \"#ed7953\"], [0.7777777777777778, \"#fb9f3a\"], [0.8888888888888888, \"#fdca26\"], [1.0, \"#f0f921\"]], \"type\": \"contour\"}], \"contourcarpet\": [{\"colorbar\": {\"outlinewidth\": 0, \"ticks\": \"\"}, \"type\": \"contourcarpet\"}], \"heatmap\": [{\"colorbar\": {\"outlinewidth\": 0, \"ticks\": \"\"}, \"colorscale\": [[0.0, \"#0d0887\"], [0.1111111111111111, \"#46039f\"], [0.2222222222222222, \"#7201a8\"], [0.3333333333333333, \"#9c179e\"], [0.4444444444444444, \"#bd3786\"], [0.5555555555555556, \"#d8576b\"], [0.6666666666666666, \"#ed7953\"], [0.7777777777777778, \"#fb9f3a\"], [0.8888888888888888, \"#fdca26\"], [1.0, \"#f0f921\"]], \"type\": \"heatmap\"}], \"heatmapgl\": [{\"colorbar\": {\"outlinewidth\": 0, \"ticks\": \"\"}, \"colorscale\": [[0.0, \"#0d0887\"], [0.1111111111111111, \"#46039f\"], [0.2222222222222222, \"#7201a8\"], [0.3333333333333333, \"#9c179e\"], [0.4444444444444444, \"#bd3786\"], [0.5555555555555556, \"#d8576b\"], [0.6666666666666666, \"#ed7953\"], [0.7777777777777778, \"#fb9f3a\"], [0.8888888888888888, \"#fdca26\"], [1.0, \"#f0f921\"]], \"type\": \"heatmapgl\"}], \"histogram\": [{\"marker\": {\"colorbar\": {\"outlinewidth\": 0, \"ticks\": \"\"}}, \"type\": \"histogram\"}], \"histogram2d\": [{\"colorbar\": {\"outlinewidth\": 0, \"ticks\": \"\"}, \"colorscale\": [[0.0, \"#0d0887\"], [0.1111111111111111, \"#46039f\"], [0.2222222222222222, \"#7201a8\"], [0.3333333333333333, \"#9c179e\"], [0.4444444444444444, \"#bd3786\"], [0.5555555555555556, \"#d8576b\"], [0.6666666666666666, \"#ed7953\"], [0.7777777777777778, \"#fb9f3a\"], [0.8888888888888888, \"#fdca26\"], [1.0, \"#f0f921\"]], \"type\": \"histogram2d\"}], \"histogram2dcontour\": [{\"colorbar\": {\"outlinewidth\": 0, \"ticks\": \"\"}, \"colorscale\": [[0.0, \"#0d0887\"], [0.1111111111111111, \"#46039f\"], [0.2222222222222222, \"#7201a8\"], [0.3333333333333333, \"#9c179e\"], [0.4444444444444444, \"#bd3786\"], [0.5555555555555556, \"#d8576b\"], [0.6666666666666666, \"#ed7953\"], [0.7777777777777778, \"#fb9f3a\"], [0.8888888888888888, \"#fdca26\"], [1.0, \"#f0f921\"]], \"type\": \"histogram2dcontour\"}], \"mesh3d\": [{\"colorbar\": {\"outlinewidth\": 0, \"ticks\": \"\"}, \"type\": \"mesh3d\"}], \"parcoords\": [{\"line\": {\"colorbar\": {\"outlinewidth\": 0, \"ticks\": \"\"}}, \"type\": \"parcoords\"}], \"pie\": [{\"automargin\": true, \"type\": \"pie\"}], \"scatter\": [{\"marker\": {\"colorbar\": {\"outlinewidth\": 0, \"ticks\": \"\"}}, \"type\": \"scatter\"}], \"scatter3d\": [{\"line\": {\"colorbar\": {\"outlinewidth\": 0, \"ticks\": \"\"}}, \"marker\": {\"colorbar\": {\"outlinewidth\": 0, \"ticks\": \"\"}}, \"type\": \"scatter3d\"}], \"scattercarpet\": [{\"marker\": {\"colorbar\": {\"outlinewidth\": 0, \"ticks\": \"\"}}, \"type\": \"scattercarpet\"}], \"scattergeo\": [{\"marker\": {\"colorbar\": {\"outlinewidth\": 0, \"ticks\": \"\"}}, \"type\": \"scattergeo\"}], \"scattergl\": [{\"marker\": {\"colorbar\": {\"outlinewidth\": 0, \"ticks\": \"\"}}, \"type\": \"scattergl\"}], \"scattermapbox\": [{\"marker\": {\"colorbar\": {\"outlinewidth\": 0, \"ticks\": \"\"}}, \"type\": \"scattermapbox\"}], \"scatterpolar\": [{\"marker\": {\"colorbar\": {\"outlinewidth\": 0, \"ticks\": \"\"}}, \"type\": \"scatterpolar\"}], \"scatterpolargl\": [{\"marker\": {\"colorbar\": {\"outlinewidth\": 0, \"ticks\": \"\"}}, \"type\": \"scatterpolargl\"}], \"scatterternary\": [{\"marker\": {\"colorbar\": {\"outlinewidth\": 0, \"ticks\": \"\"}}, \"type\": \"scatterternary\"}], \"surface\": [{\"colorbar\": {\"outlinewidth\": 0, \"ticks\": \"\"}, \"colorscale\": [[0.0, \"#0d0887\"], [0.1111111111111111, \"#46039f\"], [0.2222222222222222, \"#7201a8\"], [0.3333333333333333, \"#9c179e\"], [0.4444444444444444, \"#bd3786\"], [0.5555555555555556, \"#d8576b\"], [0.6666666666666666, \"#ed7953\"], [0.7777777777777778, \"#fb9f3a\"], [0.8888888888888888, \"#fdca26\"], [1.0, \"#f0f921\"]], \"type\": \"surface\"}], \"table\": [{\"cells\": {\"fill\": {\"color\": \"#EBF0F8\"}, \"line\": {\"color\": \"white\"}}, \"header\": {\"fill\": {\"color\": \"#C8D4E3\"}, \"line\": {\"color\": \"white\"}}, \"type\": \"table\"}]}, \"layout\": {\"annotationdefaults\": {\"arrowcolor\": \"#2a3f5f\", \"arrowhead\": 0, \"arrowwidth\": 1}, \"coloraxis\": {\"colorbar\": {\"outlinewidth\": 0, \"ticks\": \"\"}}, \"colorscale\": {\"diverging\": [[0, \"#8e0152\"], [0.1, \"#c51b7d\"], [0.2, \"#de77ae\"], [0.3, \"#f1b6da\"], [0.4, \"#fde0ef\"], [0.5, \"#f7f7f7\"], [0.6, \"#e6f5d0\"], [0.7, \"#b8e186\"], [0.8, \"#7fbc41\"], [0.9, \"#4d9221\"], [1, \"#276419\"]], \"sequential\": [[0.0, \"#0d0887\"], [0.1111111111111111, \"#46039f\"], [0.2222222222222222, \"#7201a8\"], [0.3333333333333333, \"#9c179e\"], [0.4444444444444444, \"#bd3786\"], [0.5555555555555556, \"#d8576b\"], [0.6666666666666666, \"#ed7953\"], [0.7777777777777778, \"#fb9f3a\"], [0.8888888888888888, \"#fdca26\"], [1.0, \"#f0f921\"]], \"sequentialminus\": [[0.0, \"#0d0887\"], [0.1111111111111111, \"#46039f\"], [0.2222222222222222, \"#7201a8\"], [0.3333333333333333, \"#9c179e\"], [0.4444444444444444, \"#bd3786\"], [0.5555555555555556, \"#d8576b\"], [0.6666666666666666, \"#ed7953\"], [0.7777777777777778, \"#fb9f3a\"], [0.8888888888888888, \"#fdca26\"], [1.0, \"#f0f921\"]]}, \"colorway\": [\"#636efa\", \"#EF553B\", \"#00cc96\", \"#ab63fa\", \"#FFA15A\", \"#19d3f3\", \"#FF6692\", \"#B6E880\", \"#FF97FF\", \"#FECB52\"], \"font\": {\"color\": \"#2a3f5f\"}, \"geo\": {\"bgcolor\": \"white\", \"lakecolor\": \"white\", \"landcolor\": \"#E5ECF6\", \"showlakes\": true, \"showland\": true, \"subunitcolor\": \"white\"}, \"hoverlabel\": {\"align\": \"left\"}, \"hovermode\": \"closest\", \"mapbox\": {\"style\": \"light\"}, \"paper_bgcolor\": \"white\", \"plot_bgcolor\": \"#E5ECF6\", \"polar\": {\"angularaxis\": {\"gridcolor\": \"white\", \"linecolor\": \"white\", \"ticks\": \"\"}, \"bgcolor\": \"#E5ECF6\", \"radialaxis\": {\"gridcolor\": \"white\", \"linecolor\": \"white\", \"ticks\": \"\"}}, \"scene\": {\"xaxis\": {\"backgroundcolor\": \"#E5ECF6\", \"gridcolor\": \"white\", \"gridwidth\": 2, \"linecolor\": \"white\", \"showbackground\": true, \"ticks\": \"\", \"zerolinecolor\": \"white\"}, \"yaxis\": {\"backgroundcolor\": \"#E5ECF6\", \"gridcolor\": \"white\", \"gridwidth\": 2, \"linecolor\": \"white\", \"showbackground\": true, \"ticks\": \"\", \"zerolinecolor\": \"white\"}, \"zaxis\": {\"backgroundcolor\": \"#E5ECF6\", \"gridcolor\": \"white\", \"gridwidth\": 2, \"linecolor\": \"white\", \"showbackground\": true, \"ticks\": \"\", \"zerolinecolor\": \"white\"}}, \"shapedefaults\": {\"line\": {\"color\": \"#2a3f5f\"}}, \"ternary\": {\"aaxis\": {\"gridcolor\": \"white\", \"linecolor\": \"white\", \"ticks\": \"\"}, \"baxis\": {\"gridcolor\": \"white\", \"linecolor\": \"white\", \"ticks\": \"\"}, \"bgcolor\": \"#E5ECF6\", \"caxis\": {\"gridcolor\": \"white\", \"linecolor\": \"white\", \"ticks\": \"\"}}, \"title\": {\"x\": 0.05}, \"xaxis\": {\"automargin\": true, \"gridcolor\": \"white\", \"linecolor\": \"white\", \"ticks\": \"\", \"title\": {\"standoff\": 15}, \"zerolinecolor\": \"white\", \"zerolinewidth\": 2}, \"yaxis\": {\"automargin\": true, \"gridcolor\": \"white\", \"linecolor\": \"white\", \"ticks\": \"\", \"title\": {\"standoff\": 15}, \"zerolinecolor\": \"white\", \"zerolinewidth\": 2}}}},\n                        {\"responsive\": true}\n                    ).then(function(){\n                            \nvar gd = document.getElementById('f118129a-8b82-4e73-b6a8-15bf1ecad657');\nvar x = new MutationObserver(function (mutations, observer) {{\n        var display = window.getComputedStyle(gd).display;\n        if (!display || display === 'none') {{\n            console.log([gd, 'removed!']);\n            Plotly.purge(gd);\n            observer.disconnect();\n        }}\n}});\n\n// Listen for the removal of the full notebook cells\nvar notebookContainer = gd.closest('#notebook-container');\nif (notebookContainer) {{\n    x.observe(notebookContainer, {childList: true});\n}}\n\n// Listen for the clearing of the current output cell\nvar outputEl = gd.closest('.output');\nif (outputEl) {{\n    x.observe(outputEl, {childList: true});\n}}\n\n                        })\n                };\n                });\n            </script>\n        </div>"
     },
     "metadata": {}
    }
   ],
   "source": [
    "iplot([trace])"
   ]
  },
  {
   "cell_type": "code",
   "execution_count": null,
   "metadata": {},
   "outputs": [],
   "source": []
  }
 ],
 "metadata": {
  "language_info": {
   "codemirror_mode": {
    "name": "ipython",
    "version": 3
   },
   "file_extension": ".py",
   "mimetype": "text/x-python",
   "name": "python",
   "nbconvert_exporter": "python",
   "pygments_lexer": "ipython3",
   "version": "3.7.7-final"
  },
  "orig_nbformat": 2,
  "kernelspec": {
   "name": "python3",
   "display_name": "Python 3"
  }
 },
 "nbformat": 4,
 "nbformat_minor": 2
}