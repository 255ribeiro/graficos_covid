{
 "cells": [
  {
   "cell_type": "code",
   "execution_count": 1,
   "metadata": {},
   "outputs": [],
   "source": [
    "import pandas as pd \n",
    "import numpy as np \n",
    "import matplotlib.pyplot as plt\n",
    "from matplotlib import cm\n",
    "import matplotlib.style as style\n",
    "import os\n",
    "import geopandas as gpd\n",
    "import geoplot\n",
    "import mapclassify\n",
    "from tensorflow.keras.utils import get_file\n",
    "from scipy import optimize\n",
    "style.use('default')"
   ]
  },
  {
   "cell_type": "code",
   "execution_count": 8,
   "metadata": {},
   "outputs": [],
   "source": [
    "df = pd.read_excel('..\\data\\HIST_PAINEL_COVIDBR_02jul2020.xlsx')"
   ]
  },
  {
   "cell_type": "code",
   "execution_count": 10,
   "metadata": {
    "tags": []
   },
   "outputs": [],
   "source": [
    "df['data']= pd.to_datetime( df['DATA AJUSTADA'], format='%d/%m/%Y')"
   ]
  },
  {
   "cell_type": "code",
   "execution_count": 11,
   "metadata": {
    "tags": []
   },
   "outputs": [
    {
     "output_type": "stream",
     "name": "stdout",
     "text": "<class 'pandas.core.frame.DataFrame'>\nRangeIndex: 9388 entries, 0 to 9387\nData columns (total 26 columns):\n #   Column                                 Non-Null Count  Dtype         \n---  ------                                 --------------  -----         \n 0   SEXO                                   9388 non-null   object        \n 1   MUNICÍPIO RESIDÊNCIA AJUSTADO          9388 non-null   object        \n 2   MUNICÍPIO NOTIFICAÇÃO AJUSTADO         9388 non-null   object        \n 3   DATA AJUSTADA                          9388 non-null   object        \n 4   FAIXA_ETARIA                           9388 non-null   object        \n 5   IDADE                                  9388 non-null   int64         \n 6   TIPO DE TESTE                          9388 non-null   object        \n 7   STATUS                                 9388 non-null   object        \n 8   DETALHAMENTO STATUS                    9388 non-null   object        \n 9   Febre                                  763 non-null    object        \n 10  Tosse                                  763 non-null    object        \n 11  Dor de Gargante                        763 non-null    object        \n 12  Dificuldade Respiratória               763 non-null    object        \n 13  Pulmonar                               763 non-null    object        \n 14  Renal                                  763 non-null    object        \n 15  Imunidade Frágil                       763 non-null    object        \n 16  Diabetes                               763 non-null    object        \n 17  Imunosupressão                         763 non-null    object        \n 18  Cardio                                 763 non-null    object        \n 19  Gestante alto risco                    763 non-null    object        \n 20  RESULTADO EXAME                        9379 non-null   object        \n 21  SINTOMAS_2                             9388 non-null   object        \n 22  COMORBIDADES_2                         9388 non-null   object        \n 23  É PROFISSIONAL DE SAÚDE?               8636 non-null   object        \n 24  É PROFISSIONAL DE FORÇA DE SEGURANÇA?  9052 non-null   object        \n 25  data                                   9388 non-null   datetime64[ns]\ndtypes: datetime64[ns](1), int64(1), object(24)\nmemory usage: 1.9+ MB\n"
    }
   ],
   "source": [
    "df.info()"
   ]
  },
  {
   "cell_type": "code",
   "execution_count": 37,
   "metadata": {},
   "outputs": [],
   "source": [
    "fltr = df['MUNICÍPIO RESIDÊNCIA AJUSTADO'].str.lower() == 'DOURADOS'.lower()\n",
    "df_dou = df.loc[fltr, :]"
   ]
  },
  {
   "cell_type": "code",
   "execution_count": 38,
   "metadata": {},
   "outputs": [
    {
     "output_type": "execute_result",
     "data": {
      "text/plain": "           SEXO MUNICÍPIO RESIDÊNCIA AJUSTADO MUNICÍPIO NOTIFICAÇÃO AJUSTADO  \\\n1      FEMININO                      DOURADOS                       DOURADOS   \n4     MASCULINO                      DOURADOS                       DOURADOS   \n5     MASCULINO                      DOURADOS                       DOURADOS   \n13    MASCULINO                      DOURADOS                       DOURADOS   \n21    MASCULINO                      DOURADOS                       DOURADOS   \n...         ...                           ...                            ...   \n9374  MASCULINO                      DOURADOS                       DOURADOS   \n9377  MASCULINO                      DOURADOS                       DOURADOS   \n9380   FEMININO                      DOURADOS                       DOURADOS   \n9381   FEMININO                      DOURADOS                       DOURADOS   \n9382   FEMININO                      DOURADOS                       DOURADOS   \n\n     DATA AJUSTADA  FAIXA_ETARIA  IDADE TIPO DE TESTE      STATUS  \\\n1       11/06/2020  40 a 49 Anos     49        RT-PCR  CONFIRMADO   \n4       28/06/2020  40 a 49 Anos     43        RT-PCR  CONFIRMADO   \n5       22/05/2020  10 a 19 Anos     19        RT-PCR  CONFIRMADO   \n13      05/06/2020  20 a 29 Anos     28        RT-PCR  CONFIRMADO   \n21      23/06/2020  40 a 49 Anos     47  TESTE RÁPIDO  CONFIRMADO   \n...            ...           ...    ...           ...         ...   \n9374    04/06/2020  30 a 39 Anos     31        RT-PCR  CONFIRMADO   \n9377    05/06/2020  40 a 49 Anos     47  TESTE RÁPIDO  CONFIRMADO   \n9380    18/06/2020  20 a 29 Anos     26        RT-PCR  CONFIRMADO   \n9381    28/06/2020  30 a 39 Anos     37  TESTE RÁPIDO  CONFIRMADO   \n9382    16/06/2020  20 a 29 Anos     24        RT-PCR  CONFIRMADO   \n\n           DETALHAMENTO STATUS Febre  ... Diabetes Imunosupressão Cardio  \\\n1                   RECUPERADO   NaN  ...      NaN            NaN    NaN   \n4     EM TRATAMENTO DOMICILIAR   NaN  ...      NaN            NaN    NaN   \n5                   RECUPERADO   NaN  ...      NaN            NaN    NaN   \n13                  RECUPERADO   NaN  ...      NaN            NaN    NaN   \n21    EM TRATAMENTO DOMICILIAR   NaN  ...      NaN            NaN    NaN   \n...                        ...   ...  ...      ...            ...    ...   \n9374                RECUPERADO   NaN  ...      NaN            NaN    NaN   \n9377                RECUPERADO   NaN  ...      NaN            NaN    NaN   \n9380  EM TRATAMENTO DOMICILIAR   NaN  ...      NaN            NaN    NaN   \n9381  EM TRATAMENTO DOMICILIAR   NaN  ...      NaN            NaN    NaN   \n9382                RECUPERADO   NaN  ...      NaN            NaN    NaN   \n\n     Gestante alto risco RESULTADO EXAME SINTOMAS_2 COMORBIDADES_2  \\\n1                    NaN        POSITIVO          -              -   \n4                    NaN        POSITIVO          -              -   \n5                    NaN        POSITIVO          -              -   \n13                   NaN        POSITIVO          -              -   \n21                   NaN        POSITIVO          -              -   \n...                  ...             ...        ...            ...   \n9374                 NaN        POSITIVO          -              -   \n9377                 NaN        POSITIVO          -              -   \n9380                 NaN        POSITIVO          -              -   \n9381                 NaN        POSITIVO          -              -   \n9382                 NaN        POSITIVO          -              -   \n\n     É PROFISSIONAL DE SAÚDE? É PROFISSIONAL DE FORÇA DE SEGURANÇA?       data  \n1                         Sim                                   Não 2020-06-11  \n4                         Não                                   Não 2020-06-28  \n5                         Não                                   Não 2020-05-22  \n13                        Não                                   Não 2020-06-05  \n21                        Não                                   Não 2020-06-23  \n...                       ...                                   ...        ...  \n9374                      Não                                   Não 2020-06-04  \n9377                      Sim                                   NaN 2020-06-05  \n9380                      Não                                   Não 2020-06-18  \n9381                      Não                                   Não 2020-06-28  \n9382                      Não                                   Não 2020-06-16  \n\n[2869 rows x 26 columns]",
      "text/html": "<div>\n<style scoped>\n    .dataframe tbody tr th:only-of-type {\n        vertical-align: middle;\n    }\n\n    .dataframe tbody tr th {\n        vertical-align: top;\n    }\n\n    .dataframe thead th {\n        text-align: right;\n    }\n</style>\n<table border=\"1\" class=\"dataframe\">\n  <thead>\n    <tr style=\"text-align: right;\">\n      <th></th>\n      <th>SEXO</th>\n      <th>MUNICÍPIO RESIDÊNCIA AJUSTADO</th>\n      <th>MUNICÍPIO NOTIFICAÇÃO AJUSTADO</th>\n      <th>DATA AJUSTADA</th>\n      <th>FAIXA_ETARIA</th>\n      <th>IDADE</th>\n      <th>TIPO DE TESTE</th>\n      <th>STATUS</th>\n      <th>DETALHAMENTO STATUS</th>\n      <th>Febre</th>\n      <th>...</th>\n      <th>Diabetes</th>\n      <th>Imunosupressão</th>\n      <th>Cardio</th>\n      <th>Gestante alto risco</th>\n      <th>RESULTADO EXAME</th>\n      <th>SINTOMAS_2</th>\n      <th>COMORBIDADES_2</th>\n      <th>É PROFISSIONAL DE SAÚDE?</th>\n      <th>É PROFISSIONAL DE FORÇA DE SEGURANÇA?</th>\n      <th>data</th>\n    </tr>\n  </thead>\n  <tbody>\n    <tr>\n      <th>1</th>\n      <td>FEMININO</td>\n      <td>DOURADOS</td>\n      <td>DOURADOS</td>\n      <td>11/06/2020</td>\n      <td>40 a 49 Anos</td>\n      <td>49</td>\n      <td>RT-PCR</td>\n      <td>CONFIRMADO</td>\n      <td>RECUPERADO</td>\n      <td>NaN</td>\n      <td>...</td>\n      <td>NaN</td>\n      <td>NaN</td>\n      <td>NaN</td>\n      <td>NaN</td>\n      <td>POSITIVO</td>\n      <td>-</td>\n      <td>-</td>\n      <td>Sim</td>\n      <td>Não</td>\n      <td>2020-06-11</td>\n    </tr>\n    <tr>\n      <th>4</th>\n      <td>MASCULINO</td>\n      <td>DOURADOS</td>\n      <td>DOURADOS</td>\n      <td>28/06/2020</td>\n      <td>40 a 49 Anos</td>\n      <td>43</td>\n      <td>RT-PCR</td>\n      <td>CONFIRMADO</td>\n      <td>EM TRATAMENTO DOMICILIAR</td>\n      <td>NaN</td>\n      <td>...</td>\n      <td>NaN</td>\n      <td>NaN</td>\n      <td>NaN</td>\n      <td>NaN</td>\n      <td>POSITIVO</td>\n      <td>-</td>\n      <td>-</td>\n      <td>Não</td>\n      <td>Não</td>\n      <td>2020-06-28</td>\n    </tr>\n    <tr>\n      <th>5</th>\n      <td>MASCULINO</td>\n      <td>DOURADOS</td>\n      <td>DOURADOS</td>\n      <td>22/05/2020</td>\n      <td>10 a 19 Anos</td>\n      <td>19</td>\n      <td>RT-PCR</td>\n      <td>CONFIRMADO</td>\n      <td>RECUPERADO</td>\n      <td>NaN</td>\n      <td>...</td>\n      <td>NaN</td>\n      <td>NaN</td>\n      <td>NaN</td>\n      <td>NaN</td>\n      <td>POSITIVO</td>\n      <td>-</td>\n      <td>-</td>\n      <td>Não</td>\n      <td>Não</td>\n      <td>2020-05-22</td>\n    </tr>\n    <tr>\n      <th>13</th>\n      <td>MASCULINO</td>\n      <td>DOURADOS</td>\n      <td>DOURADOS</td>\n      <td>05/06/2020</td>\n      <td>20 a 29 Anos</td>\n      <td>28</td>\n      <td>RT-PCR</td>\n      <td>CONFIRMADO</td>\n      <td>RECUPERADO</td>\n      <td>NaN</td>\n      <td>...</td>\n      <td>NaN</td>\n      <td>NaN</td>\n      <td>NaN</td>\n      <td>NaN</td>\n      <td>POSITIVO</td>\n      <td>-</td>\n      <td>-</td>\n      <td>Não</td>\n      <td>Não</td>\n      <td>2020-06-05</td>\n    </tr>\n    <tr>\n      <th>21</th>\n      <td>MASCULINO</td>\n      <td>DOURADOS</td>\n      <td>DOURADOS</td>\n      <td>23/06/2020</td>\n      <td>40 a 49 Anos</td>\n      <td>47</td>\n      <td>TESTE RÁPIDO</td>\n      <td>CONFIRMADO</td>\n      <td>EM TRATAMENTO DOMICILIAR</td>\n      <td>NaN</td>\n      <td>...</td>\n      <td>NaN</td>\n      <td>NaN</td>\n      <td>NaN</td>\n      <td>NaN</td>\n      <td>POSITIVO</td>\n      <td>-</td>\n      <td>-</td>\n      <td>Não</td>\n      <td>Não</td>\n      <td>2020-06-23</td>\n    </tr>\n    <tr>\n      <th>...</th>\n      <td>...</td>\n      <td>...</td>\n      <td>...</td>\n      <td>...</td>\n      <td>...</td>\n      <td>...</td>\n      <td>...</td>\n      <td>...</td>\n      <td>...</td>\n      <td>...</td>\n      <td>...</td>\n      <td>...</td>\n      <td>...</td>\n      <td>...</td>\n      <td>...</td>\n      <td>...</td>\n      <td>...</td>\n      <td>...</td>\n      <td>...</td>\n      <td>...</td>\n      <td>...</td>\n    </tr>\n    <tr>\n      <th>9374</th>\n      <td>MASCULINO</td>\n      <td>DOURADOS</td>\n      <td>DOURADOS</td>\n      <td>04/06/2020</td>\n      <td>30 a 39 Anos</td>\n      <td>31</td>\n      <td>RT-PCR</td>\n      <td>CONFIRMADO</td>\n      <td>RECUPERADO</td>\n      <td>NaN</td>\n      <td>...</td>\n      <td>NaN</td>\n      <td>NaN</td>\n      <td>NaN</td>\n      <td>NaN</td>\n      <td>POSITIVO</td>\n      <td>-</td>\n      <td>-</td>\n      <td>Não</td>\n      <td>Não</td>\n      <td>2020-06-04</td>\n    </tr>\n    <tr>\n      <th>9377</th>\n      <td>MASCULINO</td>\n      <td>DOURADOS</td>\n      <td>DOURADOS</td>\n      <td>05/06/2020</td>\n      <td>40 a 49 Anos</td>\n      <td>47</td>\n      <td>TESTE RÁPIDO</td>\n      <td>CONFIRMADO</td>\n      <td>RECUPERADO</td>\n      <td>NaN</td>\n      <td>...</td>\n      <td>NaN</td>\n      <td>NaN</td>\n      <td>NaN</td>\n      <td>NaN</td>\n      <td>POSITIVO</td>\n      <td>-</td>\n      <td>-</td>\n      <td>Sim</td>\n      <td>NaN</td>\n      <td>2020-06-05</td>\n    </tr>\n    <tr>\n      <th>9380</th>\n      <td>FEMININO</td>\n      <td>DOURADOS</td>\n      <td>DOURADOS</td>\n      <td>18/06/2020</td>\n      <td>20 a 29 Anos</td>\n      <td>26</td>\n      <td>RT-PCR</td>\n      <td>CONFIRMADO</td>\n      <td>EM TRATAMENTO DOMICILIAR</td>\n      <td>NaN</td>\n      <td>...</td>\n      <td>NaN</td>\n      <td>NaN</td>\n      <td>NaN</td>\n      <td>NaN</td>\n      <td>POSITIVO</td>\n      <td>-</td>\n      <td>-</td>\n      <td>Não</td>\n      <td>Não</td>\n      <td>2020-06-18</td>\n    </tr>\n    <tr>\n      <th>9381</th>\n      <td>FEMININO</td>\n      <td>DOURADOS</td>\n      <td>DOURADOS</td>\n      <td>28/06/2020</td>\n      <td>30 a 39 Anos</td>\n      <td>37</td>\n      <td>TESTE RÁPIDO</td>\n      <td>CONFIRMADO</td>\n      <td>EM TRATAMENTO DOMICILIAR</td>\n      <td>NaN</td>\n      <td>...</td>\n      <td>NaN</td>\n      <td>NaN</td>\n      <td>NaN</td>\n      <td>NaN</td>\n      <td>POSITIVO</td>\n      <td>-</td>\n      <td>-</td>\n      <td>Não</td>\n      <td>Não</td>\n      <td>2020-06-28</td>\n    </tr>\n    <tr>\n      <th>9382</th>\n      <td>FEMININO</td>\n      <td>DOURADOS</td>\n      <td>DOURADOS</td>\n      <td>16/06/2020</td>\n      <td>20 a 29 Anos</td>\n      <td>24</td>\n      <td>RT-PCR</td>\n      <td>CONFIRMADO</td>\n      <td>RECUPERADO</td>\n      <td>NaN</td>\n      <td>...</td>\n      <td>NaN</td>\n      <td>NaN</td>\n      <td>NaN</td>\n      <td>NaN</td>\n      <td>POSITIVO</td>\n      <td>-</td>\n      <td>-</td>\n      <td>Não</td>\n      <td>Não</td>\n      <td>2020-06-16</td>\n    </tr>\n  </tbody>\n</table>\n<p>2869 rows × 26 columns</p>\n</div>"
     },
     "metadata": {},
     "execution_count": 38
    }
   ],
   "source": [
    "df_dou"
   ]
  },
  {
   "cell_type": "code",
   "execution_count": 32,
   "metadata": {},
   "outputs": [],
   "source": [
    "df_dou_dia = df_dou.groupby('data')"
   ]
  },
  {
   "cell_type": "code",
   "execution_count": 33,
   "metadata": {},
   "outputs": [
    {
     "output_type": "execute_result",
     "data": {
      "text/plain": "POSITIVO    2869\nName: RESULTADO EXAME, dtype: int64"
     },
     "metadata": {},
     "execution_count": 33
    }
   ],
   "source": [
    "df_dou['RESULTADO EXAME'].value_counts()"
   ]
  },
  {
   "cell_type": "code",
   "execution_count": 35,
   "metadata": {},
   "outputs": [
    {
     "output_type": "execute_result",
     "data": {
      "text/plain": "(2869, 26)"
     },
     "metadata": {},
     "execution_count": 35
    }
   ],
   "source": [
    "df_dou.shape"
   ]
  },
  {
   "cell_type": "code",
   "execution_count": 36,
   "metadata": {},
   "outputs": [
    {
     "output_type": "execute_result",
     "data": {
      "text/plain": "POSITIVO    9379\nName: RESULTADO EXAME, dtype: int64"
     },
     "metadata": {},
     "execution_count": 36
    }
   ],
   "source": [
    "df['RESULTADO EXAME'].value_counts()"
   ]
  }
 ],
 "metadata": {
  "language_info": {
   "codemirror_mode": {
    "name": "ipython",
    "version": 3
   },
   "file_extension": ".py",
   "mimetype": "text/x-python",
   "name": "python",
   "nbconvert_exporter": "python",
   "pygments_lexer": "ipython3",
   "version": "3.7.7-final"
  },
  "orig_nbformat": 2,
  "kernelspec": {
   "name": "python3",
   "display_name": "Python 3"
  }
 },
 "nbformat": 4,
 "nbformat_minor": 2
}