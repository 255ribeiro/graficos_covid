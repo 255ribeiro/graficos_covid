{
 "cells": [
  {
   "cell_type": "markdown",
   "source": [
    "# Mapas Covid"
   ],
   "metadata": {}
  },
  {
   "cell_type": "code",
   "execution_count": 1,
   "source": [
    "import numpy as np\r\n",
    "import pandas as pd \r\n",
    "pd.set_option('display.max_rows', 100)\r\n",
    "\r\n",
    "import matplotlib.pyplot as plt\r\n",
    "plt.rcParams['backend'] = 'SVG'\r\n",
    "import matplotlib.style as style\r\n",
    "style.use('default')\r\n",
    "import seaborn as sns\r\n",
    "\r\n",
    "import geopandas as gpd\r\n",
    "import geoplot\r\n",
    "import mapclassify\r\n",
    "\r\n",
    "import os\r\n",
    "import zipfile\r\n",
    "from tensorflow.keras.utils import get_file\r\n",
    "\r\n",
    "import plotly.offline as pyo \r\n",
    "import plotly.graph_objs as go\r\n",
    "import plotly.figure_factory as ff\r\n",
    "from plotly import tools\r\n",
    "from plotly.offline import init_notebook_mode\r\n",
    "init_notebook_mode(connected = True)\r\n"
   ],
   "outputs": [
    {
     "output_type": "display_data",
     "data": {
      "text/html": [
       "        <script type=\"text/javascript\">\n",
       "        window.PlotlyConfig = {MathJaxConfig: 'local'};\n",
       "        if (window.MathJax) {MathJax.Hub.Config({SVG: {font: \"STIX-Web\"}});}\n",
       "        if (typeof require !== 'undefined') {\n",
       "        require.undef(\"plotly\");\n",
       "        requirejs.config({\n",
       "            paths: {\n",
       "                'plotly': ['https://cdn.plot.ly/plotly-2.2.0.min']\n",
       "            }\n",
       "        });\n",
       "        require(['plotly'], function(Plotly) {\n",
       "            window._Plotly = Plotly;\n",
       "        });\n",
       "        }\n",
       "        </script>\n",
       "        "
      ]
     },
     "metadata": {}
    },
    {
     "output_type": "stream",
     "name": "stdout",
     "text": [
      "teste_01\n"
     ]
    }
   ],
   "metadata": {}
  },
  {
   "cell_type": "markdown",
   "source": [
    "## Carregando dados\n",
    "Utilizando planilha do [Portal sobre Covid19 do Ministério da Saúde]('https://covid.saude.gov.br/')"
   ],
   "metadata": {}
  },
  {
   "cell_type": "code",
   "execution_count": null,
   "source": [
    "fZipName = 'HIST_PAINEL_COVIDBR_14mai2021'\r\n",
    "zf = zipfile.ZipFile('../data/' + fZipName + '.zip') \r\n",
    "df = pd.read_csv(zf.open( fZipName + '.csv'), sep=';')\r\n",
    "df.info()"
   ],
   "outputs": [],
   "metadata": {}
  },
  {
   "cell_type": "markdown",
   "source": [
    "### Dias de semana como varíável categórica \n",
    "_______________________"
   ],
   "metadata": {}
  },
  {
   "cell_type": "code",
   "execution_count": null,
   "source": [
    "list_dia_semana = ['dom', 'seg', 'ter', 'qua', 'qui', 'sex', 'sab']\r\n",
    "cat_dia_semana = pd.CategoricalDtype(categories= list_dia_semana , ordered=True)\r\n",
    "df['data'] = pd.to_datetime(df['data'],format=\"%Y-%m-%d\")\r\n",
    "df['dia_semana'] = df['data'].dt.dayofweek\r\n",
    "df['dia_semana_nm'] = df['dia_semana'].replace({0:'seg', 1: 'ter', 2:'qua', 3:'qui', 4:'sex', 5:'sab', 6:'dom'}).astype(cat_dia_semana)"
   ],
   "outputs": [],
   "metadata": {}
  },
  {
   "cell_type": "markdown",
   "source": [
    "-----------------------------\n",
    "------------------------------\n",
    "\n",
    "## Entre com a silga do estado e o nome da cidade"
   ],
   "metadata": {}
  },
  {
   "cell_type": "code",
   "execution_count": null,
   "source": [
    "uf = 'Ba'\r\n",
    "Muni = 'Salvador'"
   ],
   "outputs": [],
   "metadata": {}
  },
  {
   "cell_type": "markdown",
   "source": [
    "-------------------------------\n",
    "---------------------------------\n",
    "## Função de tratamento dos dados\n",
    "* recebe o banco de dados, a sigla do estado e o nome da cidade\n",
    "* retorna:\n",
    "    1. DataFrame do estado\n",
    "    1. DataFrame do estado agregado por semana epidemiológica\n",
    "    1. DataFrame da cidade\n",
    "    1. DataFrame da cidade agregado por semana epidemiológica\n"
   ],
   "metadata": {}
  },
  {
   "cell_type": "code",
   "execution_count": null,
   "source": [
    "def preproc_filter_df(df,estado, cidade):\r\n",
    "    fltr = df['estado'].str.lower() == estado.lower()\r\n",
    "    df_UF = df.loc[fltr, :]\r\n",
    "    df_UF_sem = df_UF.groupby('semanaEpi')\r\n",
    "    df_UF_sem = df_UF_sem.agg({'casosNovos': sum, 'obitosNovos': sum, 'populacaoTCU2019': 'max'}).reset_index()\r\n",
    "    fltr = df_UF['municipio'].str.lower() == cidade.lower()\r\n",
    "    df_muni = df_UF.loc[fltr, :]\r\n",
    "    df_muni_sem = df_muni.groupby('semanaEpi')\r\n",
    "    df_muni_sem = df_muni_sem.agg({'casosNovos': sum, 'obitosNovos': sum, 'populacaoTCU2019': 'max'}).reset_index()\r\n",
    "    return df_UF, df_UF_sem, df_muni, df_muni_sem"
   ],
   "outputs": [],
   "metadata": {}
  },
  {
   "cell_type": "code",
   "execution_count": null,
   "source": [
    "df_est, df_est_sem, df_cidade, df_cidade_sem = preproc_filter_df(df, uf, Muni)"
   ],
   "outputs": [],
   "metadata": {}
  },
  {
   "cell_type": "markdown",
   "source": [
    "---------------------------\n",
    "__________________________"
   ],
   "metadata": {}
  },
  {
   "cell_type": "code",
   "execution_count": null,
   "source": [
    "\r\n",
    "def casos_acumulados(df_muni, muni, pathfigs = './figs/'):\r\n",
    "    df_muni.sort_values('data', inplace = True)\r\n",
    "    df_muni['ca_log'] = df_muni['casosAcumulado'].apply(lambda x: np.log10(x))\r\n",
    "    df_muni['oa_log'] = df_muni['obitosAcumulado'].apply(lambda x: np.log10(x))\r\n",
    "    dia_0 = df_muni['data'].min()\r\n",
    "    df_muni['dia_num'] = (df_muni['data'] - dia_0).apply(lambda x: x.days)\r\n",
    "\r\n",
    "\r\n",
    "    #### plotly\r\n",
    "    #### figura 01 -casos acumulados por dia\r\n",
    "\r\n",
    "    Line_casos_acumulados = go.Scatter(x = df_muni['data'], y = df_muni['casosAcumulado'] , mode='lines+markers', name = 'Casos Acumulados', line=dict( color='indigo', width=7),\r\n",
    "    marker = dict(size=2 ,   color = 'indigo'  ) )\r\n",
    "\r\n",
    "    layout = go.Layout(\r\n",
    "        width=800, height=800,\r\n",
    "        title='Covid casos Acumulados: ' + muni + ' ' + str(df_muni['data'].max()).split(' ', 1 )[0],\r\n",
    "        yaxis=dict(\r\n",
    "            title_text=\"Casos Acumulados\"\r\n",
    "        ),\r\n",
    "        xaxis=dict(\r\n",
    "            title_text=\"Data do registro\"\r\n",
    "        ),\r\n",
    "        hovermode = \"x\"\r\n",
    "    )\r\n",
    "\r\n",
    "    data =[Line_casos_acumulados]\r\n",
    "    fig = go.Figure(data=data, layout=layout)\r\n",
    "    pyo.plot(fig, filename= pathfigs + muni + '_dia_casos_acumulados' + '.html')\r\n",
    "    \r\n",
    "    ##### figura 02 -casos acumulados por dia(log)\r\n",
    "\r\n",
    "    Line_casos_acumulados_log = go.Scatter(x = df_muni['data'], y = df_muni['ca_log'] , mode='lines+markers', name = 'Casos Acumulados(log)', line=dict( color='deepskyblue', width=7),\r\n",
    "    marker = dict(size=2 ,   color = 'deepskyblue'  ) )\r\n",
    "\r\n",
    "    layout = go.Layout(\r\n",
    "        width=800, height=800,\r\n",
    "        title='Covid casos Acumulados em escala logarítmica: ' + muni + ' ' + str(df_muni['data'].max()).split(' ', 1 )[0],\r\n",
    "        yaxis=dict(\r\n",
    "            title_text=\"Casos Acumulados Log10\"\r\n",
    "        ),\r\n",
    "        xaxis=dict(\r\n",
    "            title_text=\"Data do registro\"\r\n",
    "        ),\r\n",
    "        hovermode = \"x\"\r\n",
    "    )\r\n",
    "\r\n",
    "    data =[Line_casos_acumulados_log]\r\n",
    "    fig = go.Figure(data=data, layout=layout)\r\n",
    "    pyo.plot(fig, filename= pathfigs + muni + '_dia_casos_acumulados_log' + '.html')\r\n",
    "\r\n",
    "#### figura 01 - obitos acumulados por dia\r\n",
    "    Line_casos_acumulados = go.Scatter(x = df_muni['data'], y = df_muni['obitosAcumulado'] , mode='lines+markers', name = 'Óbitos Acumulados', line=dict( color='firebrick', width=7),\r\n",
    "    marker = dict(size=2 ,   color = 'firebrick'  ) )\r\n",
    "\r\n",
    "    layout = go.Layout(\r\n",
    "        width=800, height=800,\r\n",
    "        title='Covid óbitos Acumulados: ' + muni + ' ' + str(df_muni['data'].max()).split(' ', 1 )[0],\r\n",
    "        yaxis=dict(\r\n",
    "            title_text=\"Óbitos Acumulados\"\r\n",
    "        ),\r\n",
    "        xaxis=dict(\r\n",
    "            title_text=\"Data do registro\"\r\n",
    "        ),\r\n",
    "        hovermode = \"x\"\r\n",
    "    )\r\n",
    "\r\n",
    "    data =[Line_casos_acumulados]\r\n",
    "    fig = go.Figure(data=data, layout=layout)\r\n",
    "    pyo.plot(fig, filename= pathfigs + muni + '_dia_obitos_acumulados' + '.html')\r\n",
    "    ##### figura 02 -obitos acumulados por dia(log)\r\n",
    "\r\n",
    "    Line_casos_acumulados_log = go.Scatter(x = df_muni['data'], y = df_muni['oa_log'] , mode='lines+markers', name = 'Óbitos Acumulados(log)', line=dict( color='mediumvioletred', width=7),\r\n",
    "    marker = dict(size=2 ,   color = 'mediumvioletred'  ) )\r\n",
    "\r\n",
    "    layout = go.Layout(\r\n",
    "        width=800, height=800,\r\n",
    "        title='Covid óbitos Acumulados em escala logarítmica: ' + muni + ' ' + str(df_muni['data'].max()).split(' ', 1 )[0],\r\n",
    "        yaxis=dict(\r\n",
    "            title_text=\"Óbitos Acumulados Log10\"\r\n",
    "        ),\r\n",
    "        xaxis=dict(\r\n",
    "            title_text=\"Data do registro\"\r\n",
    "        ),\r\n",
    "        hovermode = \"x\"\r\n",
    "    )\r\n",
    "\r\n",
    "    data =[Line_casos_acumulados_log]\r\n",
    "    fig = go.Figure(data=data, layout=layout)\r\n",
    "    pyo.plot(fig, filename= pathfigs + muni + '_dia_obitos_acumulados_log' + '.html')\r\n",
    "\r\n",
    "### matplotlib\r\n",
    "\r\n",
    "#### figura 01 -casos acumulados por dia\r\n",
    "    plt.figure(1, figsize=(10,10))\r\n",
    "    plt.title('{}: \\n Casos Acumulados por Dia'.format(muni).upper(), fontsize=25)\r\n",
    "    plt.xlabel('Dia', fontsize=18)\r\n",
    "    plt.ylabel('Casos Acumulados', fontsize=18)\r\n",
    "    plt.grid(axis='y', color='grey')\r\n",
    "    plt.plot('data', 'casosAcumulado', data=df_muni, color= 'royalblue', linewidth=7)\r\n",
    "    plt.savefig( pathfigs + muni + '_Casos_Acumulados_' + str(df_muni['data'].max()).replace(\":\", \"_\") + '.png', format ='png')\r\n",
    "    plt.show(1)\r\n",
    "##### figura 01 -casos acumulados por dia(log)\r\n",
    "    plt.figure(2, figsize=(10,10))\r\n",
    "    plt.title('{}: \\n Casos por Dia'.format(muni).upper(), fontsize=25)\r\n",
    "    plt.xlabel('Dia', fontsize=18)\r\n",
    "    plt.ylabel('Casos Acumulados por Dia(log)', fontsize=18)\r\n",
    "    plt.grid(axis='y', color='grey')\r\n",
    "    plt.plot('data', 'ca_log', data=df_muni, color= 'royalblue', linewidth=7)\r\n",
    "    plt.savefig( pathfigs + muni + '_Casos_Acumulados_log10_' + str(df_muni['data'].max()).replace(\":\", \"_\") + '.png', format ='png')\r\n",
    "    plt.show(2)\r\n",
    "    print ('dia zero', dia_0)\r\n",
    "    print('Casos Novos\\n',df_muni.loc[:,['casosNovos', 'data']].tail(14))\r\n",
    "    print('Casos Totais\\n', df_muni['casosAcumulado'].max())\r\n",
    "    "
   ],
   "outputs": [],
   "metadata": {
    "tags": []
   }
  },
  {
   "cell_type": "code",
   "execution_count": null,
   "source": [
    "casos_acumulados(df_cidade, Muni)"
   ],
   "outputs": [],
   "metadata": {
    "tags": []
   }
  },
  {
   "cell_type": "markdown",
   "source": [
    "### Função Grafico de casos por dia"
   ],
   "metadata": {}
  },
  {
   "cell_type": "code",
   "execution_count": null,
   "source": [
    "def casos_dia_local(df1, local, pathfigs = './figs/'):\r\n",
    "    df1.sort_values('data', inplace = True)\r\n",
    "\r\n",
    "    print('Casos Totais\\n', df1['casosAcumulado'].max())\r\n",
    "\r\n",
    "    fig = plt.figure(1, figsize=(df1['semanaEpi'].max(),10))\r\n",
    "    ax = sns.barplot(x='semanaEpi', y='casosNovos', hue=\"dia_semana_nm\", data=df1, dodge= True)\r\n",
    "    \r\n",
    "    plt.title('{}: \\n Casos por Semana Epidemiológica por Dia'.format(local).upper(), fontsize=25)\r\n",
    "    plt.xlabel('Semana Epidemiológica', fontsize=20)\r\n",
    "    plt.ylabel('Número de Casos', fontsize=20)\r\n",
    "    plt.grid(axis='y', color='grey')\r\n",
    "    plt.rcParams['legend.title_fontsize'] = 18\r\n",
    "\r\n",
    "    plt.legend(title='Dia da semana', loc='upper left', prop={'size': 20})\r\n",
    "    plt.savefig( pathfigs + local + '_dia_da_semana_casos_' + str(df1['data'].max()).replace(\":\", \"_\") + '.png', format ='png')\r\n",
    "    plt.show(1)"
   ],
   "outputs": [],
   "metadata": {}
  },
  {
   "cell_type": "code",
   "execution_count": null,
   "source": [
    "casos_dia_local(df_cidade, Muni)"
   ],
   "outputs": [],
   "metadata": {
    "tags": []
   }
  },
  {
   "cell_type": "markdown",
   "source": [
    "### Casos por dia (média móvel de 7 dias)"
   ],
   "metadata": {}
  },
  {
   "cell_type": "code",
   "execution_count": null,
   "source": [
    "def casos_dia_media_movel(df1, local, pathfigs = './figs/'):\r\n",
    "    df1.sort_values('data', inplace = True)\r\n",
    "\r\n",
    "\r\n",
    "    df1['media_movel_casos'] =df1.rolling(7, center=False)['casosNovos'].mean()\r\n",
    "\r\n",
    "\r\n",
    "#### plotly\r\n",
    "    Bar_dia =[]\r\n",
    "    cores = ['indianred',   'greenyellow', 'yellowgreen', 'lightseagreen',  'mediumseagreen', 'seagreen',  'tomato']\r\n",
    "    for i in range(len(list_dia_semana)):\r\n",
    "        fltr = df1['dia_semana_nm'] == list_dia_semana[i]\r\n",
    "        df_dia = df1.loc[fltr, :]\r\n",
    "        Bar_dia += [go.Bar(x=df_dia['data'] , y=df_dia['casosNovos'] , name = list_dia_semana[i] ,  marker = dict( color = cores[i]) )]\r\n",
    "\r\n",
    "\r\n",
    "\r\n",
    "    Line_med_movel = go.Scatter(x = df1['data'], y = df1['media_movel_casos'] , mode='lines+markers', name = 'Media móvel', line=dict( color='darkviolet', width=5),\r\n",
    "    marker = dict(size=2 ,   color = 'darkviolet'  ) )\r\n",
    "\r\n",
    "    layout = go.Layout(\r\n",
    "        width=1200, height=600,\r\n",
    "        title='Covid casos:' + local + ' ' + str(df1['data'].max()).split(' ', 1 )[0],\r\n",
    "        yaxis=dict(\r\n",
    "            title_text=\"Número de casos\"\r\n",
    "        ),\r\n",
    "        xaxis=dict(\r\n",
    "            title_text=\"Data do registro\"\r\n",
    "        ),\r\n",
    "        hovermode = \"x\"\r\n",
    "    )\r\n",
    "\r\n",
    "    data = Bar_dia + [Line_med_movel]\r\n",
    "    fig = go.Figure(data=data, layout=layout)\r\n",
    "    pyo.plot(fig, filename= pathfigs + local + '_dia_casos_Media_Movel' + '.html')\r\n",
    "\r\n",
    "### matplotlib\r\n",
    "\r\n",
    "    plt.figure(figsize=(10,10))\r\n",
    "    plt.title('{}: \\n Casos por Dia (média móvel de 7 dias)'.format(local).upper(), fontsize=25)\r\n",
    "    plt.xlabel('Dia', fontsize=18)\r\n",
    "    plt.ylabel('Número de Casos (média móvel de 7 dias)', fontsize=18)\r\n",
    "    plt.grid(axis='y', color='grey')\r\n",
    "    plt.bar('data', 'media_movel_casos', data=df1, color= 'teal', width=.8)\r\n",
    "    plt.savefig( pathfigs + local + '_dia_casos_Media_Movel' + str(df1['data'].max()).replace(\":\", \"_\") + '.png', format ='png')\r\n",
    "    plt.show()\r\n",
    "    print('Média móvel por dia\\n', df1.loc[:,['media_movel_casos', 'data']].head(50))\r\n",
    "    print(df1.loc[:,['media_movel_casos', 'data']].tail(30))"
   ],
   "outputs": [],
   "metadata": {}
  },
  {
   "cell_type": "code",
   "execution_count": null,
   "source": [
    "casos_dia_media_movel(df_cidade, Muni)"
   ],
   "outputs": [],
   "metadata": {
    "tags": []
   }
  },
  {
   "cell_type": "code",
   "execution_count": null,
   "source": [
    "def obitos_dia_local(df1, local, pathfigs = './figs/'):\r\n",
    "    df1.sort_values('data', inplace = True)\r\n",
    "\r\n",
    "    ### valores negativos de novos obitos\r\n",
    "    #df1['obitosNovos'] = np.absolute(df1['obitosNovos'])\r\n",
    "    \r\n",
    "    print('Óbitos por dia\\n',df1.loc[:,['obitosNovos', 'data']].tail(14))\r\n",
    "    print('Óbitos Totais\\n', df1['obitosAcumulado'].max())\r\n",
    "\r\n",
    "    fig =  plt.figure(1,figsize=(df1['semanaEpi'].max(),10))\r\n",
    "    ax = sns.barplot(x='semanaEpi', y='obitosNovos', hue=\"dia_semana_nm\", data=df1, dodge= True)\r\n",
    "    plt.title('{}: \\n Óbitos por Semana Epidemiológica por dia da semana'.format(local).upper(), fontsize=25)\r\n",
    "    plt.xlabel('Semana Epidemiológica', fontsize=18)\r\n",
    "    plt.ylabel('Número de Óbitos', fontsize=18)\r\n",
    "    plt.grid(axis='y', color='grey')\r\n",
    "    plt.legend(title='Dia da semana', loc='upper left', prop={'size': 20})\r\n",
    "    plt.savefig( pathfigs + local + '_dia_da_semana_obitos_' + str(df1['data'].max()).replace(\":\", \"_\") + '.png', format ='png')\r\n",
    "    plt.show(1)"
   ],
   "outputs": [],
   "metadata": {}
  },
  {
   "cell_type": "code",
   "execution_count": null,
   "source": [
    "obitos_dia_local(df_cidade, Muni)"
   ],
   "outputs": [],
   "metadata": {
    "tags": []
   }
  },
  {
   "cell_type": "markdown",
   "source": [
    "### Obitos por dia (média movel de 7 dias)"
   ],
   "metadata": {}
  },
  {
   "cell_type": "code",
   "execution_count": null,
   "source": [
    "def obitos_dia_media_movel(df1, local, pathfigs = './figs/'):\r\n",
    "    df1.sort_values('data', inplace = True)\r\n",
    "    df1['obitosNovos'] = np.absolute(df1['obitosNovos'])\r\n",
    "    df1['media_movel_obitos'] =df1.rolling(7, center= False )['obitosNovos'].mean()\r\n",
    "    \r\n",
    "    #### plotly\r\n",
    "    Bar_dia =[]\r\n",
    "    cores = ['indianred',   'greenyellow', 'yellowgreen', 'lightseagreen',  'mediumseagreen', 'seagreen',  'tomato']\r\n",
    "    for i in range(len(list_dia_semana)):\r\n",
    "        fltr = df1['dia_semana_nm'] == list_dia_semana[i]\r\n",
    "        df_dia = df1.loc[fltr, :]\r\n",
    "        Bar_dia += [go.Bar(x=df_dia['data'] , y=df_dia['obitosNovos'] , name = list_dia_semana[i] ,  marker = dict( color = cores[i]) )]\r\n",
    "\r\n",
    "\r\n",
    "   \r\n",
    "    Line_med_movel = go.Scatter(x = df1['data'], y = df1['media_movel_obitos'] , mode='lines+markers', name = 'Media móvel', line=dict( color='crimson', width=5),\r\n",
    "    marker = dict( size=3 , color = 'crimson' )\r\n",
    "    \r\n",
    "    )\r\n",
    "\r\n",
    "    layout = go.Layout(\r\n",
    "        width=1200, height=600,\r\n",
    "        title='Covid óbitos:' + local + ' ' + str(df1['data'].max()).split(' ', 1 )[0],\r\n",
    "        yaxis=dict( \r\n",
    "            title_text=\"Número de óbitos\"\r\n",
    "        ),\r\n",
    "        xaxis=dict(\r\n",
    "            title_text=\"Data do registro\"\r\n",
    "        ),\r\n",
    "        hovermode = \"x\"\r\n",
    "    )\r\n",
    "\r\n",
    "    data = Bar_dia + [Line_med_movel]\r\n",
    "    fig = go.Figure(data=data, layout=layout)\r\n",
    "    pyo.plot(fig, filename= pathfigs + local + '_dia_obitos_Media_Movel' + '.html')\r\n",
    "\r\n",
    "    ### matplotlib\r\n",
    "    plt.figure(figsize=(10,10))\r\n",
    "    plt.title('{}: \\n Óbitos por Dia (média móvel de 7 dias)'.format(local).upper(), fontsize=25)\r\n",
    "    plt.xlabel('Dia', fontsize=18)\r\n",
    "    plt.ylabel('Número de Óbitos (média móvel de 7 dias)', fontsize=18)\r\n",
    "    plt.grid(axis='y', color='grey')\r\n",
    "    plt.bar('data', 'media_movel_obitos', data=df1, color= 'saddlebrown', width=.8)\r\n",
    "    plt.savefig( pathfigs + local + '_dia_obitos_Media_Movel' + str(df1['data'].max()).replace(\":\", \"_\") + '.png', format ='png')\r\n",
    "    plt.show()\r\n",
    "    print('Média móvel por dia\\n', df1.loc[:,['media_movel_obitos', 'data']].head(40))\r\n",
    "    print(df1.loc[:,['media_movel_obitos', 'data']].tail(14))"
   ],
   "outputs": [],
   "metadata": {}
  },
  {
   "cell_type": "code",
   "execution_count": null,
   "source": [
    "obitos_dia_media_movel(df_cidade, Muni)"
   ],
   "outputs": [],
   "metadata": {
    "tags": []
   }
  },
  {
   "cell_type": "markdown",
   "source": [
    "### Função gráfico de casos por semana epidemiológica\n",
    "* recebe:\n",
    "    1. DataFrame do estado ou cidade agregado por semana epidemiológica\n",
    "    1. String com o nome do local"
   ],
   "metadata": {}
  },
  {
   "cell_type": "code",
   "execution_count": null,
   "source": [
    "def casos_semana_local(df, local, pathfigs = './figs/'):    \r\n",
    "    plt.figure(figsize=(10,10))\r\n",
    "    plt.title('{}: \\n Casos por Semana Epidemiológica'.format(local).upper(), fontsize=25)\r\n",
    "    plt.xlabel('Semana Epidemiológica', fontsize=18)\r\n",
    "    plt.ylabel('Número de Casos', fontsize=18)\r\n",
    "    plt.grid(axis='y', color='grey')\r\n",
    "    plt.bar('semanaEpi', 'casosNovos', data=df, color= 'seagreen', width=.5)\r\n",
    "    plt.savefig( pathfigs + local + '_semana_casos_' + str(df['semanaEpi'].max()) + '.png', format ='png')\r\n",
    "    plt.show()\r\n",
    "    print('Casos por semana epidemiológica\\n',df.loc[:,['semanaEpi','casosNovos']])"
   ],
   "outputs": [],
   "metadata": {}
  },
  {
   "cell_type": "code",
   "execution_count": null,
   "source": [
    "casos_semana_local(df_cidade_sem, Muni)"
   ],
   "outputs": [],
   "metadata": {
    "tags": []
   }
  },
  {
   "cell_type": "markdown",
   "source": [
    "### Função gráfico de óbitos por semana epidemiológica\n",
    "* recebe:\n",
    "    1. DataFrame do estado ou cidade agregado por semana epidemiológica\n",
    "    1. String com o nome do local"
   ],
   "metadata": {}
  },
  {
   "cell_type": "code",
   "execution_count": null,
   "source": [
    "def obitos_semana_local(df, local, pathfigs = './figs/'):     \r\n",
    "    plt.figure(figsize=(10,10))\r\n",
    "    plt.grid(axis='y', color='grey')\r\n",
    "    plt.title('{}: \\n Óbitos por Semana Epidemiológica'.format(local).upper(), fontsize=25)\r\n",
    "    plt.xlabel('Semana Epidemiológica', fontsize=18)\r\n",
    "    plt.ylabel('Número de Óbitos', fontsize=18)\r\n",
    "    plt.bar('semanaEpi', 'obitosNovos', data=df, color= 'dimgray', width=.5)\r\n",
    "    plt.savefig( pathfigs + local + '_semana_obitos_' + str(df['semanaEpi'].max()) + '.png', format ='png')\r\n"
   ],
   "outputs": [],
   "metadata": {}
  },
  {
   "cell_type": "code",
   "execution_count": null,
   "source": [
    "obitos_semana_local(df_cidade_sem, Muni)"
   ],
   "outputs": [],
   "metadata": {}
  },
  {
   "cell_type": "markdown",
   "source": [
    "### Baixando GeoJSon do estado"
   ],
   "metadata": {}
  },
  {
   "cell_type": "code",
   "execution_count": null,
   "source": [
    "url = \"https://raw.githubusercontent.com/luizpedone/municipal-brazilian-geodata/master/data/\"\r\n",
    "fname = uf.upper() + '.json'\r\n",
    "path = os.path.abspath(os.getcwd())\r\n",
    "print(path)\r\n",
    "path = path + '\\geojsonDL'\r\n",
    "try:\r\n",
    "    os.mkdir(path)\r\n",
    "except FileExistsError:\r\n",
    "    pass\r\n",
    "filepath = path + '\\\\' + fname\r\n",
    "get_file(filepath, url+fname )"
   ],
   "outputs": [],
   "metadata": {
    "tags": []
   }
  },
  {
   "cell_type": "markdown",
   "source": [
    "### Carregando arquivo GeoJson do estado"
   ],
   "metadata": {}
  },
  {
   "cell_type": "code",
   "execution_count": null,
   "source": [
    "mapa = gpd.read_file(filepath, driver='GeoJSON')"
   ],
   "outputs": [],
   "metadata": {}
  },
  {
   "cell_type": "markdown",
   "source": [
    "### Função gráfico: mapa de casos nos municípios por mil habitantes"
   ],
   "metadata": {}
  },
  {
   "cell_type": "code",
   "execution_count": null,
   "source": [
    "def mapa_casos_estado(df, df_geo, uf, muni, nLevels, pathfigs = './figs/'):\r\n",
    "    muniMapa = df.groupby('municipio')\r\n",
    "    muniMapa = muniMapa.agg({'casosNovos': sum, 'obitosNovos': sum, 'populacaoTCU2019': 'max'})\r\n",
    "    mapaPlot = df_geo.join(muniMapa, on='NOME', how= 'left')\r\n",
    "\r\n",
    "    mapaPlot.dropna(inplace=True)\r\n",
    "\r\n",
    "    casos_p_habitante = mapaPlot['casosNovos']*10**3 / mapaPlot['populacaoTCU2019']\r\n",
    "    scheme = mapclassify.Quantiles(casos_p_habitante, k=nLevels)\r\n",
    "    \r\n",
    "    fig, ax1 = plt.subplots(1, 1, figsize=(20,15))\r\n",
    "\r\n",
    "    df_geo.boundary.plot( ax=ax1, edgecolor = 'black', lw= .5)\r\n",
    "\r\n",
    "    plt.title('Covid-19 -- {} \\nCasos Diagnosticados em cada município por mil habitantes'.format(uf.upper()), fontsize=25 )\r\n",
    "\r\n",
    "   \r\n",
    "    \r\n",
    "    geoplot.choropleth( mapaPlot,\r\n",
    "     hue=casos_p_habitante, scheme=scheme, ax=ax1,\r\n",
    "        cmap='Oranges', legend=True\r\n",
    "    )\r\n",
    "    plt.savefig( pathfigs + uf.upper() + '_mapa_casos_' + str(df['data'].max()).replace(\":\", \"_\") + '.png', format ='png')\r\n",
    "    "
   ],
   "outputs": [],
   "metadata": {}
  },
  {
   "cell_type": "code",
   "execution_count": null,
   "source": [
    "mapa_casos_estado(df_est, mapa, uf, Muni, 20)"
   ],
   "outputs": [],
   "metadata": {}
  },
  {
   "cell_type": "markdown",
   "source": [
    "### Função gráfico: mapa de óbitos nos municípios por mil habitantes"
   ],
   "metadata": {}
  },
  {
   "cell_type": "code",
   "execution_count": null,
   "source": [
    "def mapa_obitos_estado(df, df_geo, uf, nLevels, pathfigs = './figs/'):\r\n",
    "    muniMapa = df.groupby('municipio')\r\n",
    "    muniMapa = muniMapa.agg({'casosNovos': sum, 'obitosNovos': sum, 'populacaoTCU2019': 'max'})\r\n",
    "    mapaPlot = df_geo.join(muniMapa, on='NOME', how= 'left')\r\n",
    "\r\n",
    "    mapaPlot.dropna(inplace=True)\r\n",
    "\r\n",
    "    obitos_p_habitante = mapaPlot['obitosNovos']*10**3 / mapaPlot['populacaoTCU2019']\r\n",
    "    scheme = mapclassify.Quantiles(obitos_p_habitante, k=nLevels)\r\n",
    "\r\n",
    "    fig, ax1 = plt.subplots(1, 1, figsize=(20,15))\r\n",
    "\r\n",
    "    \r\n",
    "    df_geo.boundary.plot( ax=ax1, edgecolor = 'black', lw= .5)\r\n",
    "    \r\n",
    "\r\n",
    "    plt.title('Covid-19 -- {} \\nÓbitos Registrados em Cada Município por Mil Habitantes'.format(uf.upper()), fontsize=25 )\r\n",
    "    \r\n",
    "    geoplot.choropleth(\r\n",
    "        mapaPlot,\r\n",
    "        hue=obitos_p_habitante, scheme=scheme, ax=ax1,\r\n",
    "        cmap='Reds', legend=True\r\n",
    "    )\r\n",
    "\r\n",
    "    \r\n",
    "    plt.savefig( pathfigs + uf.upper() + '_mapa_obitos_' + str(df['data'].max()).replace(\":\", \"_\") + '.png', format ='png')\r\n",
    "    \r\n"
   ],
   "outputs": [],
   "metadata": {}
  },
  {
   "cell_type": "code",
   "execution_count": null,
   "source": [
    "mapa_obitos_estado(df_est, mapa, uf, 20)"
   ],
   "outputs": [],
   "metadata": {
    "tags": []
   }
  },
  {
   "cell_type": "code",
   "execution_count": null,
   "source": [],
   "outputs": [],
   "metadata": {}
  }
 ],
 "metadata": {
  "interpreter": {
   "hash": "c077a0ba95a5f745dc802886d86f3f586a8d76857ff7ee083997ce7430a0f5cc"
  },
  "kernelspec": {
   "name": "python3",
   "display_name": "Python 3.9.6 64-bit ('venv': venv)"
  },
  "language_info": {
   "codemirror_mode": {
    "name": "ipython",
    "version": 3
   },
   "file_extension": ".py",
   "mimetype": "text/x-python",
   "name": "python",
   "nbconvert_exporter": "python",
   "pygments_lexer": "ipython3",
   "version": "3.9.6"
  },
  "orig_nbformat": 2
 },
 "nbformat": 4,
 "nbformat_minor": 2
}