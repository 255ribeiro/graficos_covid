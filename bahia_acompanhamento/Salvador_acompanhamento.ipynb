{
 "cells": [
  {
   "cell_type": "markdown",
   "metadata": {},
   "source": [
    "# Mapas Covid"
   ]
  },
  {
   "cell_type": "code",
   "execution_count": null,
   "metadata": {},
   "outputs": [],
   "source": [
    "import pandas as pd \n",
    "import numpy as np \n",
    "import matplotlib.pyplot as plt\n",
    "import matplotlib.style as style\n",
    "import seaborn as sns\n",
    "import os\n",
    "import geopandas as gpd\n",
    "import geoplot\n",
    "import mapclassify\n",
    "import zipfile\n",
    "from tensorflow.keras.utils import get_file\n",
    "style.use('default')"
   ]
  },
  {
   "cell_type": "code",
   "execution_count": null,
   "metadata": {},
   "outputs": [],
   "source": [
    "plt.rcParams['backend'] = 'SVG'"
   ]
  },
  {
   "cell_type": "markdown",
   "metadata": {},
   "source": [
    "## Carregando dados\n",
    "Utilizando planilha do [Portal sobre Covid19 do Ministério da Saúde]('https://covid.saude.gov.br/')"
   ]
  },
  {
   "cell_type": "code",
   "execution_count": null,
   "metadata": {},
   "outputs": [],
   "source": [
    "fZipName = 'HIST_PAINEL_COVIDBR_22nov2020'\n",
    "zf = zipfile.ZipFile('../data/' + fZipName + '.zip') \n",
    "df = pd.read_csv(zf.open( fZipName + '.csv'), sep=';')\n",
    "df.info()"
   ]
  },
  {
   "cell_type": "markdown",
   "metadata": {},
   "source": [
    "### Dias de semana como varíável categórica \n",
    "_______________________"
   ]
  },
  {
   "cell_type": "code",
   "execution_count": null,
   "metadata": {},
   "outputs": [],
   "source": [
    "cat_dia_semana = pd.CategoricalDtype(categories=['dom', 'seg', 'ter', 'qua', 'qui', 'sex', 'sab'], ordered=True)\n",
    "df['data'] = pd.to_datetime(df['data'],format=\"%Y-%m-%d\")\n",
    "df['dia_semana'] = df['data'].dt.dayofweek\n",
    "df['dia_semana_nm'] = df['dia_semana'].replace({0:'seg', 1: 'ter', 2:'qua', 3:'qui', 4:'sex', 5:'sab', 6:'dom'}).astype(cat_dia_semana)"
   ]
  },
  {
   "cell_type": "markdown",
   "metadata": {},
   "source": [
    "-----------------------------\n",
    "------------------------------\n",
    "\n",
    "## Entre com a silga do estado e o nome da cidade"
   ]
  },
  {
   "cell_type": "code",
   "execution_count": null,
   "metadata": {},
   "outputs": [],
   "source": [
    "uf = 'Ba'\n",
    "Muni = 'Salvador'"
   ]
  },
  {
   "cell_type": "markdown",
   "metadata": {},
   "source": [
    "-------------------------------\n",
    "---------------------------------\n",
    "## Função de tratamento dos dados\n",
    "* recebe o banco de dados, a sigla do estado e o nome da cidade\n",
    "* retorna:\n",
    "    1. DataFrame do estado\n",
    "    1. DataFrame do estado agregado por semana epidemiológica\n",
    "    1. DataFrame da cidade\n",
    "    1. DataFrame da cidade agregado por semana epidemiológica\n"
   ]
  },
  {
   "cell_type": "code",
   "execution_count": null,
   "metadata": {},
   "outputs": [],
   "source": [
    "def preproc_filter_df(df,estado, cidade):\n",
    "    fltr = df['estado'].str.lower() == estado.lower()\n",
    "    df_UF = df.loc[fltr, :]\n",
    "    df_UF_sem = df_UF.groupby('semanaEpi')\n",
    "    df_UF_sem = df_UF_sem.agg({'casosNovos': sum, 'obitosNovos': sum, 'populacaoTCU2019': 'max'}).reset_index()\n",
    "    fltr = df_UF['municipio'].str.lower() == cidade.lower()\n",
    "    df_muni = df_UF.loc[fltr, :]\n",
    "    df_muni_sem = df_muni.groupby('semanaEpi')\n",
    "    df_muni_sem = df_muni_sem.agg({'casosNovos': sum, 'obitosNovos': sum, 'populacaoTCU2019': 'max'}).reset_index()\n",
    "    return df_UF, df_UF_sem, df_muni, df_muni_sem"
   ]
  },
  {
   "cell_type": "code",
   "execution_count": null,
   "metadata": {},
   "outputs": [],
   "source": [
    "df_est, df_est_sem, df_cidade, df_cidade_sem = preproc_filter_df(df, uf, Muni)"
   ]
  },
  {
   "cell_type": "markdown",
   "metadata": {},
   "source": [
    "---------------------------\n",
    "__________________________"
   ]
  },
  {
   "cell_type": "code",
   "execution_count": null,
   "metadata": {
    "tags": []
   },
   "outputs": [],
   "source": [
    "\n",
    "def casos_acumulados(df_muni, muni, pathfigs = './figs/'):\n",
    "    df_muni.sort_values('data', inplace = True)\n",
    "    df_muni['ca_log'] = df_muni['casosAcumulado'].apply(lambda x: np.log10(x))\n",
    "    dia_0 = df_muni['data'].min()\n",
    "    df_muni['dia_num'] = (df_muni['data'] - dia_0).apply(lambda x: x.days)\n",
    "### figura 01 -casos acumulados por dia\n",
    "    plt.figure(1, figsize=(10,10))\n",
    "    plt.title('{}: \\n Casos Acumulados por Dia'.format(muni).upper(), fontsize=25)\n",
    "    plt.xlabel('Dia', fontsize=18)\n",
    "    plt.ylabel('Casos Acumulados', fontsize=18)\n",
    "    plt.grid(axis='y', color='grey')\n",
    "    plt.plot('data', 'casosAcumulado', data=df_muni, color= 'royalblue', linewidth=7)\n",
    "    plt.savefig( pathfigs + muni + '_Casos_Acumulados_' + str(df_muni['data'].max()).replace(\":\", \"_\") + '.png', format ='png')\n",
    "    plt.show(1)\n",
    "##### figura 01 -casos acumulados por dia(log)\n",
    "    plt.figure(2, figsize=(10,10))\n",
    "    plt.title('{}: \\n Casos por Dia'.format(muni).upper(), fontsize=25)\n",
    "    plt.xlabel('Dia', fontsize=18)\n",
    "    plt.ylabel('Casos Acumulados por Dia(log)', fontsize=18)\n",
    "    plt.grid(axis='y', color='grey')\n",
    "    plt.plot('data', 'ca_log', data=df_muni, color= 'royalblue', linewidth=7)\n",
    "    plt.savefig( pathfigs + muni + '_Casos_Acumulados_log10_' + str(df_muni['data'].max()).replace(\":\", \"_\") + '.png', format ='png')\n",
    "    plt.show(2)\n",
    "    print ('dia zero', dia_0)\n",
    "    print('Casos Novos\\n',df_muni.loc[:,['casosNovos', 'data']].tail(14))\n",
    "    print('Casos Totais\\n', df_muni['casosAcumulado'].max())\n",
    "    "
   ]
  },
  {
   "cell_type": "code",
   "execution_count": null,
   "metadata": {
    "tags": []
   },
   "outputs": [],
   "source": [
    "casos_acumulados(df_cidade, Muni)"
   ]
  },
  {
   "cell_type": "markdown",
   "metadata": {},
   "source": [
    "### Função Grafico de casos por dia"
   ]
  },
  {
   "cell_type": "code",
   "execution_count": null,
   "metadata": {},
   "outputs": [],
   "source": [
    "def casos_dia_local(df1, local, pathfigs = './figs/'):\n",
    "    df1.sort_values('data', inplace = True)\n",
    "\n",
    "    print('Casos Totais\\n', df1['casosAcumulado'].max())\n",
    "\n",
    "    fig = plt.figure(1, figsize=(df1['semanaEpi'].max(),10))\n",
    "    ax = sns.barplot(x='semanaEpi', y='casosNovos', hue=\"dia_semana_nm\", data=df1, dodge= True)\n",
    "    \n",
    "    plt.title('{}: \\n Casos por Semana Epidemiológica por Dia'.format(local).upper(), fontsize=25)\n",
    "    plt.xlabel('Semana Epidemiológica', fontsize=20)\n",
    "    plt.ylabel('Número de Casos', fontsize=20)\n",
    "    plt.grid(axis='y', color='grey')\n",
    "    plt.rcParams['legend.title_fontsize'] = 18\n",
    "\n",
    "    plt.legend(title='Dia da semana', loc='upper left', prop={'size': 20})\n",
    "    plt.savefig( pathfigs + local + '_dia_da_semana_casos_' + str(df1['data'].max()).replace(\":\", \"_\") + '.png', format ='png')\n",
    "    plt.show(1)"
   ]
  },
  {
   "cell_type": "code",
   "execution_count": null,
   "metadata": {
    "tags": []
   },
   "outputs": [],
   "source": [
    "casos_dia_local(df_cidade, Muni)"
   ]
  },
  {
   "cell_type": "markdown",
   "metadata": {},
   "source": [
    "### Casos por dia (média móvel de 7 dias)"
   ]
  },
  {
   "cell_type": "code",
   "execution_count": null,
   "metadata": {},
   "outputs": [],
   "source": [
    "def casos_dia_media_movel(df1, local, pathfigs = './figs/'):\n",
    "    df1.sort_values('data', inplace = True)\n",
    "\n",
    "    ###- tratando números negativos\n",
    "    df1['obitosNovos'] = np.absolute(df1['obitosNovos'])\n",
    "\n",
    "    df1['media_movel_casos'] =df1.rolling(7, center=False)['casosNovos'].mean()\n",
    "    plt.figure(figsize=(10,10))\n",
    "    plt.title('{}: \\n Casos por Dia (média móvel de 7 dias)'.format(local).upper(), fontsize=25)\n",
    "    plt.xlabel('Dia', fontsize=18)\n",
    "    plt.ylabel('Número de Casos (média móvel de 7 dias)', fontsize=18)\n",
    "    plt.grid(axis='y', color='grey')\n",
    "    plt.bar('data', 'media_movel_casos', data=df1, color= 'teal', width=.8)\n",
    "    plt.savefig( pathfigs + local + '_dia_casos_Media_Movel' + str(df1['data'].max()).replace(\":\", \"_\") + '.png', format ='png')\n",
    "    plt.show()\n",
    "    print('Média móvel por dia\\n', df1.loc[:,['media_movel_casos', 'data']].head(50))\n",
    "    print(df1.loc[:,['media_movel_casos', 'data']].tail(30))"
   ]
  },
  {
   "cell_type": "code",
   "execution_count": null,
   "metadata": {
    "tags": []
   },
   "outputs": [],
   "source": [
    "casos_dia_media_movel(df_cidade, Muni)"
   ]
  },
  {
   "cell_type": "code",
   "execution_count": null,
   "metadata": {},
   "outputs": [],
   "source": [
    "def obitos_dia_local(df1, local, pathfigs = './figs/'):\n",
    "    df1.sort_values('data', inplace = True)\n",
    "\n",
    "    ### valores negativos de novos obitos\n",
    "    #df1['obitosNovos'] = np.absolute(df1['obitosNovos'])\n",
    "    \n",
    "    print('Óbitos por dia\\n',df1.loc[:,['obitosNovos', 'data']].tail(14))\n",
    "    print('Óbitos Totais\\n', df1['obitosAcumulado'].max())\n",
    "\n",
    "    fig =  plt.figure(1,figsize=(df1['semanaEpi'].max(),10))\n",
    "    ax = sns.barplot(x='semanaEpi', y='obitosNovos', hue=\"dia_semana_nm\", data=df1, dodge= True)\n",
    "    plt.title('{}: \\n Óbitos por Semana Epidemiológica por dia da semana'.format(local).upper(), fontsize=25)\n",
    "    plt.xlabel('Semana Epidemiológica', fontsize=18)\n",
    "    plt.ylabel('Número de Óbitos', fontsize=18)\n",
    "    plt.grid(axis='y', color='grey')\n",
    "    plt.legend(title='Dia da semana', loc='upper left', prop={'size': 20})\n",
    "    plt.savefig( pathfigs + local + '_dia_da_semana_obitos_' + str(df1['data'].max()).replace(\":\", \"_\") + '.png', format ='png')\n",
    "    plt.show(1)"
   ]
  },
  {
   "cell_type": "code",
   "execution_count": null,
   "metadata": {
    "tags": []
   },
   "outputs": [],
   "source": [
    "obitos_dia_local(df_cidade, Muni)"
   ]
  },
  {
   "cell_type": "markdown",
   "metadata": {},
   "source": [
    "### Obitos por dia (média movel de 7 dias)"
   ]
  },
  {
   "cell_type": "code",
   "execution_count": null,
   "metadata": {},
   "outputs": [],
   "source": [
    "def obitos_dia_media_movel(df1, local, pathfigs = './figs/'):\n",
    "    df1.sort_values('data', inplace = True)\n",
    "    df1['obitosNovos'] = np.absolute(df1['obitosNovos'])\n",
    "    df1['media_movel_obitos'] =df1.rolling(7, center= False )['obitosNovos'].mean()\n",
    "    plt.figure(figsize=(10,10))\n",
    "    plt.title('{}: \\n Óbitos por Dia (média móvel de 7 dias)'.format(local).upper(), fontsize=25)\n",
    "    plt.xlabel('Dia', fontsize=18)\n",
    "    plt.ylabel('Número de Óbitos (média móvel de 7 dias)', fontsize=18)\n",
    "    plt.grid(axis='y', color='grey')\n",
    "    plt.bar('data', 'media_movel_obitos', data=df1, color= 'saddlebrown', width=.8)\n",
    "    plt.savefig( pathfigs + local + '_dia_obitos_Media_Movel' + str(df1['data'].max()).replace(\":\", \"_\") + '.png', format ='png')\n",
    "    plt.show()\n",
    "    print('Média móvel por dia\\n', df1.loc[:,['media_movel_obitos', 'data']].head(40))\n",
    "    print(df1.loc[:,['media_movel_obitos', 'data']].tail(14))"
   ]
  },
  {
   "cell_type": "code",
   "execution_count": null,
   "metadata": {
    "tags": []
   },
   "outputs": [],
   "source": [
    "obitos_dia_media_movel(df_cidade, Muni)"
   ]
  },
  {
   "cell_type": "markdown",
   "metadata": {},
   "source": [
    "### Função gráfico de casos por semana epidemiológica\n",
    "* recebe:\n",
    "    1. DataFrame do estado ou cidade agregado por semana epidemiológica\n",
    "    1. String com o nome do local"
   ]
  },
  {
   "cell_type": "code",
   "execution_count": null,
   "metadata": {},
   "outputs": [],
   "source": [
    "def casos_semana_local(df, local, pathfigs = './figs/'):    \n",
    "    plt.figure(figsize=(10,10))\n",
    "    plt.title('{}: \\n Casos por Semana Epidemiológica'.format(local).upper(), fontsize=25)\n",
    "    plt.xlabel('Semana Epidemiológica', fontsize=18)\n",
    "    plt.ylabel('Número de Casos', fontsize=18)\n",
    "    plt.grid(axis='y', color='grey')\n",
    "    plt.bar('semanaEpi', 'casosNovos', data=df, color= 'seagreen', width=.5)\n",
    "    plt.savefig( pathfigs + local + '_semana_casos_' + str(df['semanaEpi'].max()) + '.png', format ='png')\n",
    "    plt.show()\n",
    "    print('Casos por semana epidemiológica\\n',df.loc[:,['semanaEpi','casosNovos']])"
   ]
  },
  {
   "cell_type": "code",
   "execution_count": null,
   "metadata": {
    "tags": []
   },
   "outputs": [],
   "source": [
    "casos_semana_local(df_cidade_sem, Muni)"
   ]
  },
  {
   "cell_type": "markdown",
   "metadata": {},
   "source": [
    "### Função gráfico de óbitos por semana epidemiológica\n",
    "* recebe:\n",
    "    1. DataFrame do estado ou cidade agregado por semana epidemiológica\n",
    "    1. String com o nome do local"
   ]
  },
  {
   "cell_type": "code",
   "execution_count": null,
   "metadata": {},
   "outputs": [],
   "source": [
    "def obitos_semana_local(df, local, pathfigs = './figs/'):     \n",
    "    plt.figure(figsize=(10,10))\n",
    "    plt.grid(axis='y', color='grey')\n",
    "    plt.title('{}: \\n Óbitos por Semana Epidemiológica'.format(local).upper(), fontsize=25)\n",
    "    plt.xlabel('Semana Epidemiológica', fontsize=18)\n",
    "    plt.ylabel('Número de Óbitos', fontsize=18)\n",
    "    plt.bar('semanaEpi', 'obitosNovos', data=df, color= 'dimgray', width=.5)\n",
    "    plt.savefig( pathfigs + local + '_semana_obitos_' + str(df['semanaEpi'].max()) + '.png', format ='png')\n"
   ]
  },
  {
   "cell_type": "code",
   "execution_count": null,
   "metadata": {},
   "outputs": [],
   "source": [
    "obitos_semana_local(df_cidade_sem, Muni)"
   ]
  },
  {
   "cell_type": "markdown",
   "metadata": {},
   "source": [
    "### Baixando GeoJSon do estado"
   ]
  },
  {
   "cell_type": "code",
   "execution_count": null,
   "metadata": {
    "tags": []
   },
   "outputs": [],
   "source": [
    "url = \"https://raw.githubusercontent.com/luizpedone/municipal-brazilian-geodata/master/data/\"\n",
    "fname = uf.upper() + '.json'\n",
    "path = os.path.abspath(os.getcwd())\n",
    "print(path)\n",
    "path = path + '\\geojsonDL'\n",
    "try:\n",
    "    os.mkdir(path)\n",
    "except FileExistsError:\n",
    "    pass\n",
    "filepath = path + '\\\\' + fname\n",
    "get_file(filepath, url+fname )"
   ]
  },
  {
   "cell_type": "markdown",
   "metadata": {},
   "source": [
    "### Carregando arquivo GeoJson do estado"
   ]
  },
  {
   "cell_type": "code",
   "execution_count": null,
   "metadata": {},
   "outputs": [],
   "source": [
    "mapa = gpd.read_file(filepath, driver='GeoJSON')"
   ]
  },
  {
   "cell_type": "markdown",
   "metadata": {},
   "source": [
    "### Função gráfico: mapa de casos nos municípios por mil habitantes"
   ]
  },
  {
   "cell_type": "code",
   "execution_count": null,
   "metadata": {},
   "outputs": [],
   "source": [
    "def mapa_casos_estado(df, df_geo, uf, muni, nLevels, pathfigs = './figs/'):\n",
    "    muniMapa = df.groupby('municipio')\n",
    "    muniMapa = muniMapa.agg({'casosNovos': sum, 'obitosNovos': sum, 'populacaoTCU2019': 'max'})\n",
    "    mapaPlot = df_geo.join(muniMapa, on='NOME', how= 'left')\n",
    "\n",
    "    mapaPlot.dropna(inplace=True)\n",
    "\n",
    "    casos_p_habitante = mapaPlot['casosNovos']*10**3 / mapaPlot['populacaoTCU2019']\n",
    "    scheme = mapclassify.Quantiles(casos_p_habitante, k=nLevels)\n",
    "    \n",
    "    fig, ax1 = plt.subplots(1, 1, figsize=(20,15))\n",
    "\n",
    "    geoplot.polyplot(df_geo, ax=ax1)\n",
    "\n",
    "    plt.title('Covid-19 -- {} \\nCasos Diagnosticados em cada município por mil habitantes'.format(uf.upper()), fontsize=25 )\n",
    "    geoplot.choropleth(\n",
    "        mapaPlot, hue=casos_p_habitante, scheme=scheme, ax=ax1,\n",
    "        cmap='Oranges', legend=True\n",
    "    )\n",
    "    plt.savefig( pathfigs + uf.upper() + '_mapa_casos_' + str(df['data'].max()).replace(\":\", \"_\") + '.png', format ='png')\n",
    "    "
   ]
  },
  {
   "cell_type": "code",
   "execution_count": null,
   "metadata": {},
   "outputs": [],
   "source": [
    "mapa_casos_estado(df_est, mapa, uf, Muni, 20)"
   ]
  },
  {
   "cell_type": "markdown",
   "metadata": {},
   "source": [
    "### Função gráfico: mapa de óbitos nos municípios por mil habitantes"
   ]
  },
  {
   "cell_type": "code",
   "execution_count": null,
   "metadata": {},
   "outputs": [],
   "source": [
    "def mapa_obitos_estado(df, df_geo, uf, nLevels, pathfigs = './figs/'):\n",
    "    muniMapa = df.groupby('municipio')\n",
    "    muniMapa = muniMapa.agg({'casosNovos': sum, 'obitosNovos': sum, 'populacaoTCU2019': 'max'})\n",
    "    mapaPlot = df_geo.join(muniMapa, on='NOME', how= 'left')\n",
    "\n",
    "    mapaPlot.dropna(inplace=True)\n",
    "\n",
    "    obitos_p_habitante = mapaPlot['obitosNovos']*10**3 / mapaPlot['populacaoTCU2019']\n",
    "    scheme = mapclassify.Quantiles(obitos_p_habitante, k=nLevels)\n",
    "\n",
    "    fig, ax1 = plt.subplots(1, 1, figsize=(20,15))\n",
    "\n",
    "    \n",
    "    \n",
    "    geoplot.polyplot(df_geo, ax=ax1)\n",
    "    \n",
    "\n",
    "    plt.title('Covid-19 -- {} \\nÓbitos Registrados em Cada Município por Mil Habitantes'.format(uf.upper()), fontsize=25 )\n",
    "    geoplot.choropleth(\n",
    "        mapaPlot, hue=obitos_p_habitante, scheme=scheme, ax=ax1,\n",
    "        cmap='Reds', legend=True\n",
    "    )\n",
    "    plt.savefig( pathfigs + uf.upper() + '_mapa_obitos_' + str(df['data'].max()).replace(\":\", \"_\") + '.png', format ='png')\n",
    "    \n"
   ]
  },
  {
   "cell_type": "code",
   "execution_count": null,
   "metadata": {
    "tags": []
   },
   "outputs": [],
   "source": [
    "mapa_obitos_estado(df_est, mapa, uf, 20)"
   ]
  }
 ],
 "metadata": {
  "language_info": {
   "codemirror_mode": {
    "name": "ipython",
    "version": 3
   },
   "file_extension": ".py",
   "mimetype": "text/x-python",
   "name": "python",
   "nbconvert_exporter": "python",
   "pygments_lexer": "ipython3",
   "version": "3.7.7-final"
  },
  "orig_nbformat": 2,
  "kernelspec": {
   "name": "python3",
   "display_name": "Python 3"
  }
 },
 "nbformat": 4,
 "nbformat_minor": 2
}