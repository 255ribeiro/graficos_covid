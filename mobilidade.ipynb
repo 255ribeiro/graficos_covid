{
 "cells": [
  {
   "cell_type": "code",
   "execution_count": 1,
   "metadata": {},
   "outputs": [],
   "source": [
    "import pandas as pd"
   ]
  },
  {
   "cell_type": "code",
   "execution_count": 2,
   "metadata": {},
   "outputs": [],
   "source": [
    "df_mob = pd.read_csv('./data/Global_Mobility_Report.csv')"
   ]
  },
  {
   "cell_type": "code",
   "execution_count": 3,
   "metadata": {
    "tags": []
   },
   "outputs": [
    {
     "output_type": "stream",
     "name": "stdout",
     "text": "<class 'pandas.core.frame.DataFrame'>\nRangeIndex: 588539 entries, 0 to 588538\nData columns (total 13 columns):\n #   Column                                              Non-Null Count   Dtype  \n---  ------                                              --------------   -----  \n 0   country_region_code                                 587527 non-null  object \n 1   country_region                                      588539 non-null  object \n 2   sub_region_1                                        570989 non-null  object \n 3   sub_region_2                                        340022 non-null  object \n 4   iso_3166_2_code                                     213550 non-null  object \n 5   census_fips_code                                    340152 non-null  float64\n 6   date                                                588539 non-null  object \n 7   retail_and_recreation_percent_change_from_baseline  451940 non-null  float64\n 8   grocery_and_pharmacy_percent_change_from_baseline   433044 non-null  float64\n 9   parks_percent_change_from_baseline                  269167 non-null  float64\n 10  transit_stations_percent_change_from_baseline       313393 non-null  float64\n 11  workplaces_percent_change_from_baseline             574393 non-null  float64\n 12  residential_percent_change_from_baseline            325941 non-null  float64\ndtypes: float64(7), object(6)\nmemory usage: 58.4+ MB\n"
    }
   ],
   "source": [
    "df_mob.info()"
   ]
  },
  {
   "cell_type": "code",
   "execution_count": 4,
   "metadata": {},
   "outputs": [
    {
     "output_type": "execute_result",
     "data": {
      "text/plain": "array(['United Arab Emirates', 'Afghanistan', 'Antigua and Barbuda',\n       'Angola', 'Argentina', 'Austria', 'Australia', 'Aruba',\n       'Bosnia and Herzegovina', 'Barbados', 'Bangladesh', 'Belgium',\n       'Burkina Faso', 'Bulgaria', 'Bahrain', 'Benin', 'Bolivia',\n       'Brazil', 'The Bahamas', 'Botswana', 'Belarus', 'Belize', 'Canada',\n       'Switzerland', \"Côte d'Ivoire\", 'Chile', 'Cameroon', 'Colombia',\n       'Costa Rica', 'Cape Verde', 'Czechia', 'Germany', 'Denmark',\n       'Dominican Republic', 'Ecuador', 'Estonia', 'Egypt', 'Spain',\n       'Finland', 'Fiji', 'France', 'Gabon', 'United Kingdom', 'Georgia',\n       'Ghana', 'Greece', 'Guatemala', 'Guinea-Bissau', 'Hong Kong',\n       'Honduras', 'Croatia', 'Haiti', 'Hungary', 'Indonesia', 'Ireland',\n       'Israel', 'India', 'Iraq', 'Italy', 'Jamaica', 'Jordan', 'Japan',\n       'Kenya', 'Kyrgyzstan', 'Cambodia', 'South Korea', 'Kuwait',\n       'Kazakhstan', 'Laos', 'Lebanon', 'Liechtenstein', 'Sri Lanka',\n       'Lithuania', 'Luxembourg', 'Latvia', 'Libya', 'Morocco', 'Moldova',\n       'North Macedonia', 'Mali', 'Myanmar (Burma)', 'Mongolia', 'Malta',\n       'Mauritius', 'Mexico', 'Malaysia', 'Mozambique', 'Namibia',\n       'Niger', 'Nigeria', 'Nicaragua', 'Netherlands', 'Norway', 'Nepal',\n       'New Zealand', 'Oman', 'Panama', 'Peru', 'Papua New Guinea',\n       'Philippines', 'Pakistan', 'Poland', 'Puerto Rico', 'Portugal',\n       'Paraguay', 'Qatar', 'Réunion', 'Romania', 'Serbia', 'Russia',\n       'Rwanda', 'Saudi Arabia', 'Sweden', 'Singapore', 'Slovenia',\n       'Slovakia', 'Senegal', 'El Salvador', 'Togo', 'Thailand',\n       'Tajikistan', 'Turkey', 'Trinidad and Tobago', 'Taiwan',\n       'Tanzania', 'Ukraine', 'Uganda', 'United States', 'Uruguay',\n       'Venezuela', 'Vietnam', 'Yemen', 'South Africa', 'Zambia',\n       'Zimbabwe'], dtype=object)"
     },
     "metadata": {},
     "execution_count": 4
    }
   ],
   "source": [
    "df_mob['country_region'].unique()"
   ]
  },
  {
   "cell_type": "code",
   "execution_count": 7,
   "metadata": {},
   "outputs": [],
   "source": [
    "fltr = df_mob['country_region'] == 'Brazil'\n",
    "br_mob = df_mob.loc[fltr, :]"
   ]
  },
  {
   "cell_type": "code",
   "execution_count": 10,
   "metadata": {},
   "outputs": [],
   "source": [
    "fltr = br_mob['sub_region_1'] == 'State of Bahia'\n",
    "ba_mob = br_mob.loc[fltr, :]"
   ]
  },
  {
   "cell_type": "code",
   "execution_count": 15,
   "metadata": {},
   "outputs": [
    {
     "output_type": "execute_result",
     "data": {
      "text/plain": "0"
     },
     "metadata": {},
     "execution_count": 15
    }
   ],
   "source": [
    "ba_mob['sub_region_2'].count()"
   ]
  },
  {
   "cell_type": "code",
   "execution_count": 16,
   "metadata": {
    "tags": []
   },
   "outputs": [
    {
     "output_type": "stream",
     "name": "stdout",
     "text": "<class 'pandas.core.frame.DataFrame'>\nInt64Index: 3640 entries, 16471 to 20110\nData columns (total 13 columns):\n #   Column                                              Non-Null Count  Dtype  \n---  ------                                              --------------  -----  \n 0   country_region_code                                 3640 non-null   object \n 1   country_region                                      3640 non-null   object \n 2   sub_region_1                                        3510 non-null   object \n 3   sub_region_2                                        0 non-null      object \n 4   iso_3166_2_code                                     3510 non-null   object \n 5   census_fips_code                                    0 non-null      float64\n 6   date                                                3640 non-null   object \n 7   retail_and_recreation_percent_change_from_baseline  3640 non-null   float64\n 8   grocery_and_pharmacy_percent_change_from_baseline   3640 non-null   float64\n 9   parks_percent_change_from_baseline                  3640 non-null   float64\n 10  transit_stations_percent_change_from_baseline       3640 non-null   float64\n 11  workplaces_percent_change_from_baseline             3640 non-null   float64\n 12  residential_percent_change_from_baseline            3640 non-null   float64\ndtypes: float64(7), object(6)\nmemory usage: 398.1+ KB\n"
    }
   ],
   "source": [
    "br_mob .info()"
   ]
  },
  {
   "cell_type": "code",
   "execution_count": 17,
   "metadata": {
    "tags": []
   },
   "outputs": [
    {
     "output_type": "stream",
     "name": "stdout",
     "text": "<class 'pandas.core.frame.DataFrame'>\nInt64Index: 130 entries, 17251 to 17380\nData columns (total 13 columns):\n #   Column                                              Non-Null Count  Dtype  \n---  ------                                              --------------  -----  \n 0   country_region_code                                 130 non-null    object \n 1   country_region                                      130 non-null    object \n 2   sub_region_1                                        130 non-null    object \n 3   sub_region_2                                        0 non-null      object \n 4   iso_3166_2_code                                     130 non-null    object \n 5   census_fips_code                                    0 non-null      float64\n 6   date                                                130 non-null    object \n 7   retail_and_recreation_percent_change_from_baseline  130 non-null    float64\n 8   grocery_and_pharmacy_percent_change_from_baseline   130 non-null    float64\n 9   parks_percent_change_from_baseline                  130 non-null    float64\n 10  transit_stations_percent_change_from_baseline       130 non-null    float64\n 11  workplaces_percent_change_from_baseline             130 non-null    float64\n 12  residential_percent_change_from_baseline            130 non-null    float64\ndtypes: float64(7), object(6)\nmemory usage: 19.2+ KB\n"
    }
   ],
   "source": [
    "ba_mob.info()"
   ]
  },
  {
   "cell_type": "code",
   "execution_count": 18,
   "metadata": {},
   "outputs": [
    {
     "output_type": "execute_result",
     "data": {
      "text/plain": "array(['BR-BA'], dtype=object)"
     },
     "metadata": {},
     "execution_count": 18
    }
   ],
   "source": [
    "ba_mob['iso_3166_2_code'].unique()"
   ]
  },
  {
   "cell_type": "code",
   "execution_count": null,
   "metadata": {},
   "outputs": [],
   "source": []
  }
 ],
 "metadata": {
  "language_info": {
   "codemirror_mode": {
    "name": "ipython",
    "version": 3
   },
   "file_extension": ".py",
   "mimetype": "text/x-python",
   "name": "python",
   "nbconvert_exporter": "python",
   "pygments_lexer": "ipython3",
   "version": "3.7.7-final"
  },
  "orig_nbformat": 2,
  "kernelspec": {
   "name": "python3",
   "display_name": "Python 3"
  }
 },
 "nbformat": 4,
 "nbformat_minor": 2
}